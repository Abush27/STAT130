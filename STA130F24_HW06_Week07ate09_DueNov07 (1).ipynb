{
 "cells": [
  {
   "cell_type": "markdown",
   "id": "6cd8c93b",
   "metadata": {},
   "source": [
    "# STA130 Homework 06\n",
    "\n",
    "Please see the course [wiki-textbook](https://github.com/pointOfive/stat130chat130/wiki) for the list of topics covered in this homework assignment, and a list of topics that might appear during ChatBot conversations which are \"out of scope\" for the purposes of this homework assignment (and hence can be safely ignored if encountered)"
   ]
  },
  {
   "cell_type": "markdown",
   "id": "991dc719",
   "metadata": {},
   "source": [
    "<details class=\"details-example\"><summary style=\"color:blue\"><u>Introduction</u></summary>\n",
    "\n",
    "### Introduction\n",
    "    \n",
    "A reasonable characterization of STA130 Homework is that it simply defines a weekly reading comprehension assignment. \n",
    "Indeed, STA130 Homework essentially boils down to completing various understanding confirmation exercises oriented around coding and writing tasks.\n",
    "However, rather than reading a textbook, STA130 Homework is based on ChatBots so students can interactively follow up to clarify questions or confusion that they may still have regarding learning objective assignments.\n",
    "\n",
    "> Communication is a fundamental skill underlying statistics and data science, so STA130 Homework based on ChatBots helps practice effective two-way communication as part of a \"realistic\" dialogue activity supporting underlying conceptual understanding building. \n",
    "\n",
    "It will likely become increasingly tempting to rely on ChatBots to \"do the work for you\". But when you find yourself frustrated with a ChatBots inability to give you the results you're looking for, this is a \"hint\" that you've become overreliant on the ChatBots. Your objective should not be to have ChatBots \"do the work for you\", but to use ChatBots to help you build your understanding so you can efficiently leverage ChatBots (and other resources) to help you work more efficiently.<br><br>\n",
    "\n",
    "</details>\n",
    "\n",
    "<details class=\"details-example\"><summary style=\"color:blue\"><u>Instructions</u></summary>\n",
    "\n",
    "### Instructions\n",
    "    \n",
    "1. Code and write all your answers (for both the \"Pre-lecture\" and \"Post-lecture\" HW) in a python notebook (in code and markdown cells) \n",
    "    \n",
    "> It is *suggested but not mandatory* that you complete the \"Pre-lecture\" HW prior to the Monday LEC since (a) all HW is due at the same time; but, (b) completing some of the HW early will mean better readiness for LEC and less of a \"procrastentation cruch\" towards the end of the week...\n",
    "    \n",
    "2. Paste summaries of your ChatBot sessions (including link(s) to chat log histories if you're using ChatGPT) within your notebook\n",
    "    \n",
    "> Create summaries of your ChatBot sessions by using concluding prompts such as \"Please provide a summary of our exchanges here so I can submit them as a record of our interactions as part of a homework assignment\" or, \"Please provide me with the final working verson of the code that we created together\"\n",
    "    \n",
    "3. Save your python jupyter notebook in your own account and \"repo\" on [github.com](github.com) and submit a link to that notebook though Quercus for assignment marking<br><br>\n",
    "\n",
    "</details>\n",
    "\n",
    "<details class=\"details-example\"><summary style=\"color:blue\"><u>Prompt Engineering?</u></summary>\n",
    "    \n",
    "### Prompt Engineering? \n",
    "    \n",
    "The questions (as copy-pasted prompts) are designed to initialize appropriate ChatBot conversations which can be explored in the manner of an interactive and dynamic textbook; but, it is nonetheless **strongly recommendated** that your rephrase the questions in a way that you find natural to ensure a clear understanding of the question. Given sensible prompts the represent a question well, the two primary challenges observed to arise from ChatBots are \n",
    "\n",
    "1. conversations going beyond the intended scope of the material addressed by the question; and, \n",
    "2. unrecoverable confusion as a result of sequential layers logial inquiry that cannot be resolved. \n",
    "\n",
    "In the case of the former (1), adding constraints specifying the limits of considerations of interest tends to be helpful; whereas, the latter (2) is often the result of initial prompting that leads to poor developments in navigating the material, which are likely just best resolve by a \"hard reset\" with a new initial approach to prompting.  Indeed, this is exactly the behavior [hardcoded into copilot](https://answers.microsoft.com/en-us/bing/forum/all/is-this-even-normal/0b6dcab3-7d6c-4373-8efe-d74158af3c00)...\n",
    "\n",
    "</details>"
   ]
  },
  {
   "cell_type": "markdown",
   "id": "3d0ed17b",
   "metadata": {},
   "source": [
    "### Marking Rubric (which may award partial credit) \n",
    "\n",
    "- [0.1 points]: All relevant ChatBot summaries [including link(s) to chat log histories if you're using ChatGPT] are reported within the notebook\n",
    "- [0.2 points]: Evaluation of correctness and clarity in written communication for Question \"3\"\n",
    "- [0.2 points]: Evaluation of correctness and clarity in written communication for Question \"4\"\n",
    "- [0.2 points]: Evaluation of submitted work and conclusions for Question \"9\"\n",
    "- [0.3 points]: Evaluation of written communication of the \"big picture\" differences and correct evidence assessement for Question \"11\"\n"
   ]
  },
  {
   "cell_type": "markdown",
   "id": "a326d8bb",
   "metadata": {},
   "source": [
    "## \"Pre-lecture\" versus \"Post-lecture\" HW? \n",
    "\n",
    "- _**Your HW submission is due prior to the Nov08 TUT on Friday after you return from Reading Week; however,**_\n",
    "- _**this homework assignment is longer since it covers material from both the Oct21 and Nov04 LEC (rather than a single LEC); so,**_\n",
    "- _**we'll brake the assignment into \"Week of Oct21\" and \"Week of Nov04\" HW and/but ALL of it will be DUE prior to the Nov08 TUT**_\n"
   ]
  },
  {
   "cell_type": "markdown",
   "id": "49cc8cd7",
   "metadata": {},
   "source": [
    "## \"Week of Oct21\" HW [*due prior to the Nov08 TUT*]"
   ]
  },
  {
   "cell_type": "markdown",
   "id": "d8140d3a",
   "metadata": {},
   "source": [
    "### 1. Explain the theoretical Simple Linear Regression model in your own words by describing its components (of predictor and outcome variables, slope and intercept coefficients, and an error term) and how they combine to form a sample from normal distribution; then, create *python* code explicitly demonstrating your explanation using *numpy* and *scipy.stats* <br>\n",
    "\n",
    "<details class=\"details-example\"><summary style=\"color:blue\"><u>Further Guidance</u></summary>\n",
    "\n",
    "> _Your answer can be quite concise and will likely just address the \"mathematical\" and \"statistical\" aspects of the process of a **Simple Linear Model** specification, perhaps giving an intuitive interpretation summary of the result as a whole_\n",
    ">   \n",
    "> - _Your code could be based on values for `n`, `x`, `beta0`, `beta1`, and `sigma`; and, then create the `errors` and `Y`_\n",
    "> \n",
    "> - _The predictors $x_i$ can be fixed arbitrarily to start the process (perhaps sampled using `stats.uniform`), and they are conceptually different from the creation of **error** (or **noise**) terms $\\epsilon_i$ which are sampled from a **normal distribution** (with some aribtrarily *a priori* chosen **standard deviation** `scale` parameter $\\sigma$) which are then combined with $x_i$ through the **Simple Linear Model** equation (based on aribtrarily *a priori* chosen **slope** and **intercept coefficients**) to produce the $Y_i$ outcomes_\n",
    "> \n",
    "> - _It should be fairly easy to visualize the \"a + bx\" line defined by the **Simple Linear Model** equation, and some **simulated** data points around the line in a `plotly` figure using the help of a ChatBot_\n",
    "> \n",
    "> _If you use a ChatBot (as expected for this problem), **don't forget to ask for summaries of your ChatBot session(s) and paste these into your homework notebook (including link(s) to chat log histories if you're using ChatGPT)**_\n",
    ">\n",
    "> \n",
    "> _**Question Scope Warning:** Be careful when using a ChatBot to help you with creating an example dataset and coding up a visualization though, **because it might suggest creating (and visualizing) a fitted model for to your data (rather than the theoretical model); but, this is not what this question is asking you to demonstrate**. This question is not asking about how to produce a fitted **Simple Linear Regression** model or explain how model **slope** and **intercept coefficients** are calculated (e.g., using \"ordinary least squares\" or analytical equations to estimate the **coefficients**  for an observed dataset)._\n",
    "> \n",
    "> ```python\n",
    "> # There are two distinct ways to use `plotly` here\n",
    ">\n",
    "> import plotly.express as px\n",
    "> px.scatter(df, x='x',  y='Y', color='Data', \n",
    ">            trendline='ols', title='Y vs. x')\n",
    ">        \n",
    "> import plotly.graph_objects as go\n",
    "> fig = go.Figure()\n",
    "> fig.add_trace(go.Scatter(x=x, y=Y, mode='markers', name='Data'))\n",
    "> \n",
    "> # The latter is preferable since `trendline='ols'` in the former \n",
    "> # creates a fitted model for the data and adds it to the figure\n",
    "> # and, again, THAT IS NOT what this problem is asking for right now\n",
    "> ```\n",
    ">    \n",
    "> ---\n",
    "> \n",
    "> _Don't forget to ask for summaries of all your different ChatBot sessions and organize and paste these into your homework notebook (including link(s) to chat log histories if you're using ChatBot) But if you're using the STA130 custom NBLM ChatBot, you'll only be able to ask for summaries, of course!_  \n",
    "</details>\n"
   ]
  },
  {
   "cell_type": "markdown",
   "id": "59a8a397",
   "metadata": {},
   "source": [
    "The main aim of the Simple Linear Regression Model is to determine the relationship between x and Y (2 different variables), if there is any. The model treats the relationship between x and Y as a linear one with some randomly generated noise or error. To do this it creates a trend line modelleled after the pattern of data which attempts to predict the Y value based on a given x value to some degree of accuracy. Taking the random noise/error into account with the equation of the trend line we then get the following linear model: Y = β0 + β1*x + ϵ\n",
    "\n",
    "β1 in this situationis the gradient, or the slope of this trend line. We can think of it like the change in Y for each one unit increase in x. β0 is the y-intercept, i.e the expected value of Y when x = 0. Finally ϵ represents the error value, which creates a deviation from the trend line affecting the Y value. ϵ is often normally distributed with a mean and variance, since it is a random value and not necceserically fixed overall. \n",
    "\n",
    "I have demonstrated this explanation by generating a theoritical sample of a linear regression model below. I have first chosen arbitrary values for β0, β1 and σ (the standard deviation of a standard normal distribtion). Then I have generated a list of x values which I wish to predict, and assigned their outcome Y by applying the equation of the trend line (defined by my β0, β1 values) and adding the ϵ or random noise, by using the normal distribution created by our σ. Finally I have displayed these datapoints with the trend line on a graph, to show how well it predicts their relationship."
   ]
  },
  {
   "cell_type": "code",
   "execution_count": 1,
   "id": "34ffd160",
   "metadata": {},
   "outputs": [
    {
     "data": {
      "image/png": "[encoded data removed]"
     },
     "metadata": {},
     "output_type": "display_data"
    }
   ],
   "source": [
    "import numpy as np\n",
    "import plotly.graph_objects as go\n",
    "\n",
    "# Define parameters\n",
    "n = 100            # Number of observations\n",
    "beta_0 = 2.0       # Intercept (β0)\n",
    "beta_1 = 0.5       # Slope (β1)\n",
    "sigma = 1.0        # Standard deviation of error term (σ)\n",
    "\n",
    "# Generate predictor values X from a uniform distribution\n",
    "np.random.seed(42)\n",
    "X = np.random.uniform(0, 10, n)\n",
    "\n",
    "# Generate error terms epsilon from a normal distribution\n",
    "epsilon = np.random.normal(0, sigma, n) # Random Error/noise (ϵ)\n",
    "\n",
    "# Calculate outcome values Y using the SLR equation\n",
    "Y = beta_0 + beta_1 * X + epsilon\n",
    "\n",
    "# Plot the data points and theoretical regression line\n",
    "fig = go.Figure()\n",
    "\n",
    "# Scatter plot of data points\n",
    "fig.add_trace(go.Scatter(x=X, y=Y, mode='markers', name='Data'))\n",
    "\n",
    "# Plot the true regression line (without error)\n",
    "x_line = np.linspace(min(X), max(X), 100)\n",
    "y_line = beta_0 + beta_1 * x_line\n",
    "fig.add_trace(go.Scatter(x=x_line, y=y_line, mode='lines', name='True Regression Line', line=dict(color='red')))\n",
    "\n",
    "# Update layout for clarity\n",
    "fig.update_layout(title=\"Theoretical Simple Linear Regression Model\",\n",
    "                  xaxis_title=\"Predictor X\",\n",
    "                  yaxis_title=\"Outcome Y\")\n",
    "\n",
    "fig.show(renderer='png')"
   ]
  },
  {
   "cell_type": "markdown",
   "id": "8a0f9cdf",
   "metadata": {},
   "source": [
    "### 2. Use a dataset simulated from your theoretical Simple Linear Regression model to demonstrate how to create and visualize a fitted Simple Linear Regression model using *pandas* and *import statsmodels.formula.api as smf*<br>\n",
    "\n",
    "<details class=\"details-example\"><summary style=\"color:blue\"><u>Further Guidance</u></summary>\n",
    "\n",
    "> - _Combine the **simulated** `x` and `Y` into a `pandas` data frame object named `df` with the column names \"x\" and \"Y\"_\n",
    "> \n",
    "> - _Replace the inline question comments below with their answers (working with a ChatBot if needed)_\n",
    ">\n",
    "> ```python\n",
    "> import statsmodels.formula.api as smf  # what is this library for?\n",
    "> import plotly.express as px  # this is a ploting library\n",
    ">\n",
    "> # what are the following two steps doing?\n",
    "> model_data_specification = smf.ols(\"Y~x\", data=df) \n",
    "> fitted_model = model_data_specification.fit() \n",
    ">\n",
    "> # what do each of the following provide?\n",
    "> fitted_model.summary()  # simple explanation? \n",
    "> fitted_model.summary().tables[1]  # simple explanation?\n",
    "> fitted_model.params  # simple explanation?\n",
    "> fitted_model.params.values  # simple explanation?\n",
    "> fitted_model.rsquared  # simple explanation?\n",
    ">\n",
    "> # what two things does this add onto the figure?\n",
    "> df['Data'] = 'Data' # hack to add data to legend \n",
    "> fig = px.scatter(df, x='x',  y='Y', color='Data', \n",
    ">                  trendline='ols', title='Y vs. x')\n",
    ">\n",
    "> # This is essentially what above `trendline='ols'` does\n",
    "> fig.add_scatter(x=df['x'], y=fitted_model.fittedvalues,\n",
    ">                 line=dict(color='blue'), name=\"trendline='ols'\")\n",
    "> \n",
    "> fig.show() # USE `fig.show(renderer=\"png\")` FOR ALL GitHub and MarkUs SUBMISSIONS\n",
    "> ```\n",
    ">\n",
    "> _The plotting here uses the `plotly.express` form `fig.add_scatter(x=x, y=Y)` rather than the `plotly.graph_objects` form `fig.add_trace(go.Scatter(x=x, y=Y))`. The difference between these two was noted in the \"Further Guidance\" comments in the previous question; but, the preference for the former in this case is because `px` allows us to access `trendline='ols'` through `px.scatter(df, x='x',  y='Y', trendline='ols')`_\n",
    ">\n",
    "> ---\n",
    "> \n",
    "> _Don't forget to ask for summaries of all your different ChatBot sessions and organize and paste these into your homework notebook (including link(s) to chat log histories if you're using ChatBot) But if you're using the STA130 custom NBLM ChatBot, you'll only be able to ask for summaries, of course!_      \n",
    "\n",
    "</details>"
   ]
  },
  {
   "cell_type": "code",
   "execution_count": 4,
   "id": "7d88980f",
   "metadata": {},
   "outputs": [
    {
     "data": {
      "image/png": "[encoded data removed]"
     },
     "metadata": {},
     "output_type": "display_data"
    }
   ],
   "source": [
    "import statsmodels.formula.api as smf  #Library for statistical modeling and allows us to define and fit statistical models using formulas.\n",
    "import plotly.express as px  # This is a plotting library for creating visualizations, offering easy syntax and functions for data analysis.\n",
    "import pandas as pd\n",
    "\n",
    "# Turning earlier Linear regression model to dataframe\n",
    "df = pd.DataFrame({'x': X, 'Y': Y})\n",
    "\n",
    "\n",
    "model_data_specification = smf.ols(\"Y ~ x\", data=df)  # This step specifies an Ordinary Least Squares (OLS) regression model where `Y` is the outcome variable and `x` is the predictor.\n",
    "fitted_model = model_data_specification.fit()  # This step fits the specified OLS model to the data, estimating the intercept and slope parameters to best describe the relationship between `Y` and `x`.\n",
    "\n",
    "fitted_model.summary()  # This provides a detailed statistical summary of the fitted model, including coefficients, standard errors, t-values, p-values, R-squared, and other metrics used to assess model fit.\n",
    "\n",
    "fitted_model.summary().tables[1]  # This extracts the table that contains the main regression results, showing coefficients, standard errors, t-values, and p-values for each term in the model.\n",
    "\n",
    "fitted_model.params  # This shows the estimated model parameters (intercept and slope) for the fitted line, which represent the best linear relationship between `Y` and `x` according to the OLS method.\n",
    "\n",
    "fitted_model.params.values  # This extracts just the values of the fitted model parameters as a NumPy array.\n",
    "\n",
    "fitted_model.rsquared  # This provides the R-squared value, a measure of the model's explanatory power or the proportion of variance in `Y` explained by `x`.\n",
    "\n",
    "df['Data'] = 'Data'  # This line adds a new column, ‘Data’, to the DataFrame `df` so that it can be used in the legend when plotting.\n",
    "fig = px.scatter(df, x='x', y='Y', color='Data', trendline='ols', title='Y vs. x')  # This creates a scatter plot of `Y` vs. `x`, coloring data points by the 'Data' column, and adds a trendline ('ols' specifies an OLS regression line) to visualize the fitted model.\n",
    "\n",
    "\n",
    "fig.add_scatter(x=df['x'], y=fitted_model.fittedvalues, line=dict(color='blue'), name=\"trendline='ols'\")  # This manually adds the fitted regression line (trendline) to the plot using `fitted_model.fittedvalues`.\n",
    "fig.show(renderer='png')\n",
    "\n"
   ]
  },
  {
   "cell_type": "markdown",
   "id": "59b70bc0",
   "metadata": {},
   "source": [
    "### 3. Add the line from Question 1 on the figure of Question 2 and explain the difference between the nature of the two lines in your own words; *but, hint though: simulation of random sampling variation*<br>\n",
    "\n",
    "<details class=\"details-example\"><summary style=\"color:blue\"><u>Further Guidance</u></summary>\n",
    "\n",
    "> _This question is effectively asking you to explain what the combined code you produced for Questions 1 and 2 is trying to demonstrate overall. If you're working with a ChatBot (as expected), giving these two sets of code as context, and asking what the purpose of comparing these lines could be would be a way to get some help in formulating your answer_\n",
    "> \n",
    "> _The graphical visualization aspect of this question could be accomplished by appending the following code to the code provided in Question 2._\n",
    "> \n",
    "> ```python\n",
    "> # what does this add onto the figure in constrast to `trendline='ols'`?\n",
    "> x_range = np.array([df['x'].min(), df['x'].max()])\n",
    "> # beta0 and beta1 are assumed to be defined\n",
    "> y_line = beta0 + beta1 * x_range\n",
    "> fig.add_scatter(x=x_range, y=y_line, mode='lines',\n",
    ">                 name=str(beta0)+' + '+str(beta1)+' * x', \n",
    ">                 line=dict(dash='dot', color='orange'))\n",
    ">\n",
    "> fig.show() # USE `fig.show(renderer=\"png\")` FOR ALL GitHub and MarkUs SUBMISSIONS\n",
    "> ```\n",
    "> \n",
    "> _The right way to interactively \"see\" the answer to this question is to repeatedly create different dataset **simulations** using your theoretical model and the corresponding fitted models, and repeatedly visualize the data and the two lines over and over... this would be as easy as rerunning a single cell containing your simulation and visualization code..._\n",
    ">    \n",
    "> ---\n",
    "> \n",
    "> _Don't forget to ask for summaries of all your different ChatBot sessions and organize and paste these into your homework notebook (including link(s) to chat log histories if you're using ChatBot) But if you're using the STA130 custom NBLM ChatBot, you'll only be able to ask for summaries, of course!_  \n",
    "</details>"
   ]
  },
  {
   "cell_type": "code",
   "execution_count": 5,
   "id": "bc8af276",
   "metadata": {},
   "outputs": [
    {
     "data": {
      "image/png": "[encoded data removed]"
     },
     "metadata": {},
     "output_type": "display_data"
    }
   ],
   "source": [
    "# Add the true regression line from the theoretical model\n",
    "x_range = np.array([df['x'].min(), df['x'].max()])\n",
    "y_line = beta_0 + beta_1 * x_range  # beta_0 and beta_1 from the original simulation\n",
    "fig.add_scatter(x=x_range, y=y_line, mode='lines',\n",
    "                name=f\"{beta_0} + {beta_1} * x\",\n",
    "                line=dict(dash='dot', color='orange'))\n",
    "\n",
    "fig.show(renderer='png')"
   ]
  },
  {
   "cell_type": "markdown",
   "id": "d602954d",
   "metadata": {},
   "source": [
    "The dotted orange line, represents the theoritical linear regression model defined by known paramters $ β_1 \\text{and } β_0 $, so is fixed and acts like the baseline from which the Y values are generated.\n",
    "\n",
    "On the other hand the solid blue line is based on a sample of data generated by the true model, is fitted to the sample data using Ordinary Least Squares (OLS) regression. This line takes into account the randomly generated noise (ϵ) in the sample of data which causes it to deviate from the trend line and not exactly match it. The random sampling variation of the data causes the slope and intercept of the fitted line to vary slightly from the true model’s parameters."
   ]
  },
  {
   "cell_type": "markdown",
   "id": "2b68e71c",
   "metadata": {},
   "source": [
    "### 4. Explain how *fitted_model.fittedvalues* are derived on the basis of *fitted_model.summary().tables[1]* (or more specifically  *fitted_model.params* or *fitted_model.params.values*)<br>\n",
    "\n",
    "<details class=\"details-example\"><summary style=\"color:blue\"><u>Further Guidance</u></summary>\n",
    "\n",
    "> _The previous questions used code to explore the distinction between theoretical (true) $Y_i = \\beta_0 + \\beta_1 x_i + \\epsilon_i \\;[\\text{where } \\epsilon_i \\sim \\mathcal{N}(0, \\sigma)]\\;$ and fitted (estimated) $\\hat{y}_i = \\hat{\\beta}_0 + \\hat{\\beta}_1 x_i$ **Simple Linear Regression** models_\n",
    ">\n",
    "> _This question asks you to explicitly illustrate how the the latter \"in sample predictions\" of the fitted **Simple Linear Regression** model $\\hat{y}_i = \\hat{\\beta}_0 + \\hat{\\beta}_1 x_i$ are made (in contrast to the linear equation of the theoretical model)_\n",
    ">    \n",
    "> ---\n",
    "> \n",
    "> _Don't forget to ask for summaries of all your different ChatBot sessions and organize and paste these into your homework notebook (including link(s) to chat log histories if you're using ChatBot) But if you're using the STA130 custom NBLM ChatBot, you'll only be able to ask for summaries, of course!_  \n",
    "</details>"
   ]
  },
  {
   "cell_type": "markdown",
   "id": "715cde7e",
   "metadata": {},
   "source": [
    "The model fitting process estimates the intercept ($\\hat{\\beta}_0$) and slope ($\\hat{\\beta}_1$) using the sample data. These values are stored in fitted_model.params, which contains the intercept and slope coefficients in the form of a pandas Series, or in fitted_model.params.values, which provides them as an array.\n",
    "\n",
    "For each observation $x_i$ in the dataset, the fitted value $\\hat{y}_i$ is calculated by plugging $x_i$ into the estimated model equation:\n",
    "\n",
    "$$ \\hat{y}_i = \\hat{\\beta}_0 + \\hat{\\beta}_1 x_i $$\n",
    "\n",
    "\n",
    "These fitted values are stored in fitted_model.fittedvalues, which represents the in-sample predictions of the outcome variable based on the fitted model. "
   ]
  },
  {
   "cell_type": "markdown",
   "id": "3e9fdfa9",
   "metadata": {},
   "source": [
    "### 5. Explain concisely in your own words what line is chosen for the fitted model based on observed data using the \"ordinary least squares\" method (as is done by *trendline='ols'* and *smf.ols(...).fit()*) and why it requires \"squares\"<br>\n",
    "    \n",
    "<details class=\"details-example\"><summary style=\"color:blue\"><u>Further Guidance</u></summary>\n",
    "\n",
    "> _This question addresses the use of **residuals** $\\text{e}_i = \\hat \\epsilon_i = Y_i - \\hat y_i$ (in contrast to the **error** terms $\\epsilon_i$ of the theoretical model), and particularly, asks for an explanation based on the following visualization_\n",
    ">\n",
    "> ```python \n",
    "> import scipy.stats as stats\n",
    "> import numpy as np\n",
    "> import pandas as pd\n",
    "> import statsmodels.formula.api as smf\n",
    "> import plotly.express as px\n",
    "> \n",
    "> n,x_min,x_range,beta0,beta1,sigma = 20,5,5,2,3,5\n",
    "> x = stats.uniform(x_min, x_range).rvs(size=n)\n",
    "> errors = stats.norm(loc=0, scale=sigma).rvs(size=n)\n",
    "> Y = beta0 + beta1 * x + errors\n",
    "> \n",
    "> df = pd.DataFrame({'x': x, 'y': Y})\n",
    "> model_data_specification = smf.ols(\"Y~x\", data=df) \n",
    "> fitted_model = model_data_specification.fit() \n",
    "> \n",
    "> df['Data'] = 'Data' # hack to add data to legend \n",
    "> fig = px.scatter(df, x='x',  y='Y', color='Data', \n",
    ">                  trendline='ols', title='Y vs. x')\n",
    "> \n",
    "> # This is what `trendline='ols'` is\n",
    "> fig.add_scatter(x=df['x'], y=fitted_model.fittedvalues,\n",
    ">                 line=dict(color='blue'), name=\"trendline='ols'\")\n",
    "> \n",
    "> x_range = np.array([df['x'].min(), df['x'].max()])\n",
    "> y_line = beta0 + beta1 * x_range\n",
    "> fig.add_scatter(x=x_range, y=y_line, mode='lines',\n",
    ">                 name=str(beta0)+' + '+str(beta1)+' * x', \n",
    ">                 line=dict(dash='dot', color='orange'))\n",
    "> \n",
    "> # Add vertical lines for residuals\n",
    "> for i in range(len(df)):\n",
    ">     fig.add_scatter(x=[df['x'][i], df['x'][i]],\n",
    ">                     y=[fitted_model.fittedvalues[i], df['Y'][i]],\n",
    ">                     mode='lines',\n",
    ">                     line=dict(color='red', dash='dash'),\n",
    ">                     showlegend=False)\n",
    ">     \n",
    "> # Add horizontal line at y-bar\n",
    "> fig.add_scatter(x=x_range, y=[df['Y'].mean()]*2, mode='lines',\n",
    ">                 line=dict(color='black', dash='dot'), name='y-bar')\n",
    "> \n",
    "> fig.show() # USE `fig.show(renderer=\"png\")` FOR ALL GitHub and MarkUs SUBMISSIONS\n",
    "> ```\n",
    ">\n",
    "> _**Question Scope Warning**: we are not looking for any explanation realted to the mathematical equations for the line chosen for the **Simple Linear Regression** model by the \"ordinary least squares\" method, which happen to be_\n",
    "> \n",
    "> _$$\\hat \\beta_1 = r_{xy}\\frac{s_y}{s_x} \\quad \\text{ and } \\quad  \\hat\\beta_0 = \\bar {y}-\\hat \\beta_1\\bar {x}$$_\n",
    ">\n",
    "> _where $r_{xy}$ is the **correlation** between $x$ and $Y$ and $s_x$ and $s_Y$ are the **sample standard deviations** of $x$ and $y$_\n",
    ">\n",
    "> ---\n",
    "> \n",
    "> ```python \n",
    "> # Use this if you need it    \n",
    "> # https://stackoverflow.com/questions/52771328/plotly-chart-not-showing-in-jupyter-notebook\n",
    "> import plotly.offline as pyo\n",
    "> # Set notebook mode to work in offline\n",
    "> pyo.init_notebook_mode()    \n",
    "> ```\n",
    ">\n",
    "> ---\n",
    "> \n",
    "> _Don't forget to ask for summaries of all your different ChatBot sessions and organize and paste these into your homework notebook (including link(s) to chat log histories if you're using ChatBot) But if you're using the STA130 custom NBLM ChatBot, you'll only be able to ask for summaries, of course!_  \n",
    "    \n",
    "</details>"
   ]
  },
  {
   "cell_type": "markdown",
   "id": "9c4c3b5c",
   "metadata": {},
   "source": [
    "The residuals $e_i$ are the observed deviations between the data points and the fitted line. The OLS model choses a line which minimises the squared residuals or  $e^2_i$ given by $(Y_i - \\hat{y}_i)^2$ which esentially decreases the squared distance between data points and line. The reason for using squares is becauses squared residuals are always positive so deviations on either side of the line can be identified. Additionally squaring them also emphasizises the larger devatations, as it magnifies larger errors more than smaller ones (since they are multiplied by themself), creating a suitable best fit line."
   ]
  },
  {
   "cell_type": "markdown",
   "id": "dc5ba222",
   "metadata": {},
   "source": [
    "### 6. Explain why the first expression below can be interpreted as \"the proportion of variation in (outcome) Y explained by the model (i.e. _fitted_model.fittedvalues_)\"; and therefore, why _fitted_model.rsquared_ can be interpreted as a measure of the accuracy of the model; and, therefore what the two _np.corrcoef(...)[0,1]\\*\\*2_ expressions capture in the context of _Simple Linear Regression models_.\n",
    "\n",
    "1. `1-((Y-fitted_model.fittedvalues)**2).sum()/((Y-Y.mean())**2).sum()`\n",
    "2. `fitted_model.rsquared`\n",
    "3. `np.corrcoef(Y,fitted_model.fittedvalues)[0,1]**2`\n",
    "4. `np.corrcoef(Y,x)[0,1]**2`<br><br>\n",
    "\n",
    "<details class=\"details-example\"><summary style=\"color:blue\"><u>Further Guidance</u></summary>\n",
    "\n",
    "> _**R-squared** is the \"the proportion of variation in (outcome) $Y$ explained by the model ($\\hat y_i$)\" and is defined as_\n",
    ">\n",
    "> _$R^2 = 1 - \\frac{\\sum_{i=1}^n(Y_i-\\hat y)^2}{\\sum_{i=1}^n(Y_i-\\bar Y)^2}$_\n",
    ">\n",
    "> _The visuzation provided in the previous problem can be used to consider $(Y_i-\\bar Y)^2$ as the squared distance of the $Y_i$ to their sample average $\\bar Y$ as opposed to the squared **residuals** $(Y_i-\\hat y)^2$ which is the squared distance of the $Y_i$ to their fitted (predicted) values $Y_i$._\n",
    ">    \n",
    "> ---\n",
    "> \n",
    "> _Don't forget to ask for summaries of all your different ChatBot sessions and organize and paste these into your homework notebook (including link(s) to chat log histories if you're using ChatBot) But if you're using the STA130 custom NBLM ChatBot, you'll only be able to ask for summaries, of course!_  \n",
    "</details>"
   ]
  },
  {
   "cell_type": "markdown",
   "id": "bebf1660",
   "metadata": {},
   "source": [
    "In the first expression, (Y-fitted_model.fittedvalues)\\**2).sum() represents the total variation in Y around its mean. Meanwhile, (Y-Y.mean())\\**2).sum() represents the unexplained variation or the  variation in Y not accounted for by the model's predictions.Therefore dividing them gives us the the proportion of the unexplained varioation in the total variation, and subtracting this value from 1 finally gives us the fraction of explained variation from the fitted model. \n",
    "\n",
    "This fraction is also reffered to as the coeffecient of determination or $R^2$ it measures how well the model's predictions approximate the observed values. fitted_model.rsquared directly provides us this value, and being a fraction the closer it is to one the more the explained variation than unexplained varioation, hence a stronger relationship between x and Y and vice versa.\n",
    "\n",
    "np.corrcoef(Y,fitted_model.fittedvalues)[0,1]\\**2 captures the the square of the correlation between the observed Y values and the fitted values. In linear regression this is equivilant to $R^2$ since the linearity assumption means that correlation and explained variance align directly.\n",
    "\n",
    "np.corrcoef(Y,x)[0,1]\\**2 also captures the square of the correlation between Y and x itself, and also equals to $R^2$ in the simple linear regression context since the strength of the relationship between x and Y fully dictates the power of the fitted model."
   ]
  },
  {
   "cell_type": "markdown",
   "id": "d821fd86",
   "metadata": {},
   "source": [
    "### 7. Indicate a couple of the assumptions of the *Simple Linear Regression* model specification that do not seem compatible with the example data below<br>\n",
    "\n",
    "<details class=\"details-example\"><summary style=\"color:blue\"><u>Further Guidance</u></summary>\n",
    "\n",
    "> _Hint: What even ARE the assumptions of the  **Simple Linear Regression** model, you ask? Have a look at the mathematical specification and see if what it seems to be assuming._\n",
    "> \n",
    "> _Don't forget to ask for summaries of all your different ChatBot sessions and organize and paste these into your homework notebook (including link(s) to chat log histories if you're using ChatBot) But if you're using the STA130 custom NBLM ChatBot, you'll only be able to ask for summaries, of course!_  \n",
    "</details>"
   ]
  },
  {
   "cell_type": "code",
   "execution_count": 6,
   "id": "ec7fda0d",
   "metadata": {},
   "outputs": [
    {
     "data": {
      "application/vnd.plotly.v1+json": {
       "config": {
        "plotlyServerURL": "https://plot.ly"
       },
       "data": [
        {
         "hovertemplate": "Amount of Fertilizer (kg) (x)=%{x}<br>Crop Yield (tons) (Y)=%{y}<extra></extra>",
         "legendgroup": "",
         "marker": {
          "color": "#636efa",
          "symbol": "circle"
         },
         "mode": "markers",
         "name": "",
         "orientation": "v",
         "showlegend": false,
         "type": "scatter",
         "x": [
          1,
          1.2,
          1.4,
          1.6,
          1.8,
          2,
          2.2,
          2.4,
          2.6,
          2.8,
          3,
          3.2,
          3.4,
          3.6,
          3.8,
          4,
          4.2,
          4.4,
          4.6,
          4.8,
          5,
          5.2,
          5.4,
          5.6,
          5.8,
          6,
          6.2,
          6.4,
          6.6,
          6.8,
          7,
          7.2,
          7.4,
          7.6,
          7.8,
          8,
          8.2,
          8.4,
          8.6,
          8.8,
          9,
          9.2,
          9.4,
          9.6
         ],
         "xaxis": "x",
         "y": [
          18.7,
          16.9,
          16.1,
          13.4,
          48.4,
          51.9,
          31.8,
          51.3,
          63.9,
          50.6,
          58.7,
          82.4,
          66.7,
          81.2,
          96.5,
          112.2,
          132.5,
          119.8,
          127.7,
          136.3,
          148.5,
          169.4,
          177.9,
          186.7,
          198.1,
          215.7,
          230.7,
          250.4,
          258,
          267.8,
          320.4,
          302,
          307.2,
          331.5,
          375.3,
          403.4,
          393.5,
          434.9,
          431.9,
          451.1,
          491.2,
          546.8,
          546.4,
          558.9
         ],
         "yaxis": "y"
        },
        {
         "hovertemplate": "<b>OLS trendline</b><br>Crop Yield (tons) (Y) = 62.3653 * Amount of Fertilizer (kg) (x) + -117.475<br>R<sup>2</sup>=0.940931<br><br>Amount of Fertilizer (kg) (x)=%{x}<br>Crop Yield (tons) (Y)=%{y} <b>(trend)</b><extra></extra>",
         "legendgroup": "",
         "marker": {
          "color": "#636efa",
          "symbol": "circle"
         },
         "mode": "lines",
         "name": "",
         "showlegend": false,
         "type": "scatter",
         "x": [
          1,
          1.2,
          1.4,
          1.6,
          1.8,
          2,
          2.2,
          2.4,
          2.6,
          2.8,
          3,
          3.2,
          3.4,
          3.6,
          3.8,
          4,
          4.2,
          4.4,
          4.6,
          4.8,
          5,
          5.2,
          5.4,
          5.6,
          5.8,
          6,
          6.2,
          6.4,
          6.6,
          6.8,
          7,
          7.2,
          7.4,
          7.6,
          7.8,
          8,
          8.2,
          8.4,
          8.6,
          8.8,
          9,
          9.2,
          9.4,
          9.6
         ],
         "xaxis": "x",
         "y": [
          -55.109393939394074,
          -42.63633544749837,
          -30.16327695560267,
          -17.690218463706955,
          -5.217159971811242,
          7.2558985200844575,
          19.72895701198017,
          32.20201550387587,
          44.67507399577157,
          57.14813248766727,
          69.621190979563,
          82.0942494714587,
          94.5673079633544,
          107.04036645525012,
          119.5134249471458,
          131.98648343904154,
          144.45954193093723,
          156.93260042283293,
          169.40565891472858,
          181.87871740662433,
          194.35177589852003,
          206.82483439041573,
          219.2978928823115,
          231.77095137420713,
          244.24400986610283,
          256.7170683579986,
          269.1901268498943,
          281.66318534179,
          294.1362438336857,
          306.6093023255814,
          319.0823608174771,
          331.55541930937284,
          344.02847780126854,
          356.5015362931642,
          368.97459478505994,
          381.44765327695563,
          393.9207117688513,
          406.3937702607471,
          418.8668287526427,
          431.3398872445385,
          443.8129457364342,
          456.2860042283298,
          468.7590627202256,
          481.2321212121213
         ],
         "yaxis": "y"
        },
        {
         "alignmentgroup": "True",
         "bingroup": "x",
         "hovertemplate": "Residuals=%{x}<br>count=%{y}<extra></extra>",
         "legendgroup": "",
         "marker": {
          "color": "#636efa",
          "pattern": {
           "shape": ""
          }
         },
         "name": "",
         "nbinsx": 10,
         "offsetgroup": "",
         "orientation": "v",
         "showlegend": false,
         "type": "histogram",
         "x": [
          73.80939393939391,
          59.536335447498224,
          46.26327695560253,
          31.09021846370681,
          53.61715997181111,
          44.64410147991541,
          12.071042988019702,
          19.097984496124027,
          19.2249260042283,
          -6.548132487667367,
          -10.921190979563093,
          0.30575052854121054,
          -27.86730796335449,
          -25.84036645525019,
          -23.013424947145893,
          -19.78648343904159,
          -11.95954193093732,
          -37.13260042283302,
          -41.70565891472866,
          -45.57871740662435,
          -45.85177589852012,
          -37.42483439041581,
          -41.39789288231151,
          -45.07095137420717,
          -46.14400986610292,
          -41.01706835799865,
          -38.49012684989435,
          -31.263185341790034,
          -36.136243833685626,
          -38.80930232558143,
          1.3176391825228393,
          -29.555419309372837,
          -36.82847780126855,
          -25.001536293164236,
          6.325405214940076,
          21.952346723044343,
          -0.42071176885121986,
          28.506229739252944,
          13.033171247357359,
          19.76011275546159,
          47.38705426356586,
          90.51399577167024,
          77.64093727977445,
          77.66787878787886
         ],
         "xaxis": "x2",
         "yaxis": "y2"
        }
       ],
       "layout": {
        "annotations": [
         {
          "font": {
           "size": 16
          },
          "showarrow": false,
          "text": "Crop Yield vs. Amount of Fertilizer",
          "x": 0.225,
          "xanchor": "center",
          "xref": "paper",
          "y": 1,
          "yanchor": "bottom",
          "yref": "paper"
         },
         {
          "font": {
           "size": 16
          },
          "showarrow": false,
          "text": "Histogram of Residuals",
          "x": 0.775,
          "xanchor": "center",
          "xref": "paper",
          "y": 1,
          "yanchor": "bottom",
          "yref": "paper"
         }
        ],
        "showlegend": false,
        "template": {
         "data": {
          "bar": [
           {
            "error_x": {
             "color": "#2a3f5f"
            },
            "error_y": {
             "color": "#2a3f5f"
            },
            "marker": {
             "line": {
              "color": "#E5ECF6",
              "width": 0.5
             },
             "pattern": {
              "fillmode": "overlay",
              "size": 10,
              "solidity": 0.2
             }
            },
            "type": "bar"
           }
          ],
          "barpolar": [
           {
            "marker": {
             "line": {
              "color": "#E5ECF6",
              "width": 0.5
             },
             "pattern": {
              "fillmode": "overlay",
              "size": 10,
              "solidity": 0.2
             }
            },
            "type": "barpolar"
           }
          ],
          "carpet": [
           {
            "aaxis": {
             "endlinecolor": "#2a3f5f",
             "gridcolor": "white",
             "linecolor": "white",
             "minorgridcolor": "white",
             "startlinecolor": "#2a3f5f"
            },
            "baxis": {
             "endlinecolor": "#2a3f5f",
             "gridcolor": "white",
             "linecolor": "white",
             "minorgridcolor": "white",
             "startlinecolor": "#2a3f5f"
            },
            "type": "carpet"
           }
          ],
          "choropleth": [
           {
            "colorbar": {
             "outlinewidth": 0,
             "ticks": ""
            },
            "type": "choropleth"
           }
          ],
          "contour": [
           {
            "colorbar": {
             "outlinewidth": 0,
             "ticks": ""
            },
            "colorscale": [
             [
              0,
              "#0d0887"
             ],
             [
              0.1111111111111111,
              "#46039f"
             ],
             [
              0.2222222222222222,
              "#7201a8"
             ],
             [
              0.3333333333333333,
              "#9c179e"
             ],
             [
              0.4444444444444444,
              "#bd3786"
             ],
             [
              0.5555555555555556,
              "#d8576b"
             ],
             [
              0.6666666666666666,
              "#ed7953"
             ],
             [
              0.7777777777777778,
              "#fb9f3a"
             ],
             [
              0.8888888888888888,
              "#fdca26"
             ],
             [
              1,
              "#f0f921"
             ]
            ],
            "type": "contour"
           }
          ],
          "contourcarpet": [
           {
            "colorbar": {
             "outlinewidth": 0,
             "ticks": ""
            },
            "type": "contourcarpet"
           }
          ],
          "heatmap": [
           {
            "colorbar": {
             "outlinewidth": 0,
             "ticks": ""
            },
            "colorscale": [
             [
              0,
              "#0d0887"
             ],
             [
              0.1111111111111111,
              "#46039f"
             ],
             [
              0.2222222222222222,
              "#7201a8"
             ],
             [
              0.3333333333333333,
              "#9c179e"
             ],
             [
              0.4444444444444444,
              "#bd3786"
             ],
             [
              0.5555555555555556,
              "#d8576b"
             ],
             [
              0.6666666666666666,
              "#ed7953"
             ],
             [
              0.7777777777777778,
              "#fb9f3a"
             ],
             [
              0.8888888888888888,
              "#fdca26"
             ],
             [
              1,
              "#f0f921"
             ]
            ],
            "type": "heatmap"
           }
          ],
          "heatmapgl": [
           {
            "colorbar": {
             "outlinewidth": 0,
             "ticks": ""
            },
            "colorscale": [
             [
              0,
              "#0d0887"
             ],
             [
              0.1111111111111111,
              "#46039f"
             ],
             [
              0.2222222222222222,
              "#7201a8"
             ],
             [
              0.3333333333333333,
              "#9c179e"
             ],
             [
              0.4444444444444444,
              "#bd3786"
             ],
             [
              0.5555555555555556,
              "#d8576b"
             ],
             [
              0.6666666666666666,
              "#ed7953"
             ],
             [
              0.7777777777777778,
              "#fb9f3a"
             ],
             [
              0.8888888888888888,
              "#fdca26"
             ],
             [
              1,
              "#f0f921"
             ]
            ],
            "type": "heatmapgl"
           }
          ],
          "histogram": [
           {
            "marker": {
             "pattern": {
              "fillmode": "overlay",
              "size": 10,
              "solidity": 0.2
             }
            },
            "type": "histogram"
           }
          ],
          "histogram2d": [
           {
            "colorbar": {
             "outlinewidth": 0,
             "ticks": ""
            },
            "colorscale": [
             [
              0,
              "#0d0887"
             ],
             [
              0.1111111111111111,
              "#46039f"
             ],
             [
              0.2222222222222222,
              "#7201a8"
             ],
             [
              0.3333333333333333,
              "#9c179e"
             ],
             [
              0.4444444444444444,
              "#bd3786"
             ],
             [
              0.5555555555555556,
              "#d8576b"
             ],
             [
              0.6666666666666666,
              "#ed7953"
             ],
             [
              0.7777777777777778,
              "#fb9f3a"
             ],
             [
              0.8888888888888888,
              "#fdca26"
             ],
             [
              1,
              "#f0f921"
             ]
            ],
            "type": "histogram2d"
           }
          ],
          "histogram2dcontour": [
           {
            "colorbar": {
             "outlinewidth": 0,
             "ticks": ""
            },
            "colorscale": [
             [
              0,
              "#0d0887"
             ],
             [
              0.1111111111111111,
              "#46039f"
             ],
             [
              0.2222222222222222,
              "#7201a8"
             ],
             [
              0.3333333333333333,
              "#9c179e"
             ],
             [
              0.4444444444444444,
              "#bd3786"
             ],
             [
              0.5555555555555556,
              "#d8576b"
             ],
             [
              0.6666666666666666,
              "#ed7953"
             ],
             [
              0.7777777777777778,
              "#fb9f3a"
             ],
             [
              0.8888888888888888,
              "#fdca26"
             ],
             [
              1,
              "#f0f921"
             ]
            ],
            "type": "histogram2dcontour"
           }
          ],
          "mesh3d": [
           {
            "colorbar": {
             "outlinewidth": 0,
             "ticks": ""
            },
            "type": "mesh3d"
           }
          ],
          "parcoords": [
           {
            "line": {
             "colorbar": {
              "outlinewidth": 0,
              "ticks": ""
             }
            },
            "type": "parcoords"
           }
          ],
          "pie": [
           {
            "automargin": true,
            "type": "pie"
           }
          ],
          "scatter": [
           {
            "fillpattern": {
             "fillmode": "overlay",
             "size": 10,
             "solidity": 0.2
            },
            "type": "scatter"
           }
          ],
          "scatter3d": [
           {
            "line": {
             "colorbar": {
              "outlinewidth": 0,
              "ticks": ""
             }
            },
            "marker": {
             "colorbar": {
              "outlinewidth": 0,
              "ticks": ""
             }
            },
            "type": "scatter3d"
           }
          ],
          "scattercarpet": [
           {
            "marker": {
             "colorbar": {
              "outlinewidth": 0,
              "ticks": ""
             }
            },
            "type": "scattercarpet"
           }
          ],
          "scattergeo": [
           {
            "marker": {
             "colorbar": {
              "outlinewidth": 0,
              "ticks": ""
             }
            },
            "type": "scattergeo"
           }
          ],
          "scattergl": [
           {
            "marker": {
             "colorbar": {
              "outlinewidth": 0,
              "ticks": ""
             }
            },
            "type": "scattergl"
           }
          ],
          "scattermapbox": [
           {
            "marker": {
             "colorbar": {
              "outlinewidth": 0,
              "ticks": ""
             }
            },
            "type": "scattermapbox"
           }
          ],
          "scatterpolar": [
           {
            "marker": {
             "colorbar": {
              "outlinewidth": 0,
              "ticks": ""
             }
            },
            "type": "scatterpolar"
           }
          ],
          "scatterpolargl": [
           {
            "marker": {
             "colorbar": {
              "outlinewidth": 0,
              "ticks": ""
             }
            },
            "type": "scatterpolargl"
           }
          ],
          "scatterternary": [
           {
            "marker": {
             "colorbar": {
              "outlinewidth": 0,
              "ticks": ""
             }
            },
            "type": "scatterternary"
           }
          ],
          "surface": [
           {
            "colorbar": {
             "outlinewidth": 0,
             "ticks": ""
            },
            "colorscale": [
             [
              0,
              "#0d0887"
             ],
             [
              0.1111111111111111,
              "#46039f"
             ],
             [
              0.2222222222222222,
              "#7201a8"
             ],
             [
              0.3333333333333333,
              "#9c179e"
             ],
             [
              0.4444444444444444,
              "#bd3786"
             ],
             [
              0.5555555555555556,
              "#d8576b"
             ],
             [
              0.6666666666666666,
              "#ed7953"
             ],
             [
              0.7777777777777778,
              "#fb9f3a"
             ],
             [
              0.8888888888888888,
              "#fdca26"
             ],
             [
              1,
              "#f0f921"
             ]
            ],
            "type": "surface"
           }
          ],
          "table": [
           {
            "cells": {
             "fill": {
              "color": "#EBF0F8"
             },
             "line": {
              "color": "white"
             }
            },
            "header": {
             "fill": {
              "color": "#C8D4E3"
             },
             "line": {
              "color": "white"
             }
            },
            "type": "table"
           }
          ]
         },
         "layout": {
          "annotationdefaults": {
           "arrowcolor": "#2a3f5f",
           "arrowhead": 0,
           "arrowwidth": 1
          },
          "autotypenumbers": "strict",
          "coloraxis": {
           "colorbar": {
            "outlinewidth": 0,
            "ticks": ""
           }
          },
          "colorscale": {
           "diverging": [
            [
             0,
             "#8e0152"
            ],
            [
             0.1,
             "#c51b7d"
            ],
            [
             0.2,
             "#de77ae"
            ],
            [
             0.3,
             "#f1b6da"
            ],
            [
             0.4,
             "#fde0ef"
            ],
            [
             0.5,
             "#f7f7f7"
            ],
            [
             0.6,
             "#e6f5d0"
            ],
            [
             0.7,
             "#b8e186"
            ],
            [
             0.8,
             "#7fbc41"
            ],
            [
             0.9,
             "#4d9221"
            ],
            [
             1,
             "#276419"
            ]
           ],
           "sequential": [
            [
             0,
             "#0d0887"
            ],
            [
             0.1111111111111111,
             "#46039f"
            ],
            [
             0.2222222222222222,
             "#7201a8"
            ],
            [
             0.3333333333333333,
             "#9c179e"
            ],
            [
             0.4444444444444444,
             "#bd3786"
            ],
            [
             0.5555555555555556,
             "#d8576b"
            ],
            [
             0.6666666666666666,
             "#ed7953"
            ],
            [
             0.7777777777777778,
             "#fb9f3a"
            ],
            [
             0.8888888888888888,
             "#fdca26"
            ],
            [
             1,
             "#f0f921"
            ]
           ],
           "sequentialminus": [
            [
             0,
             "#0d0887"
            ],
            [
             0.1111111111111111,
             "#46039f"
            ],
            [
             0.2222222222222222,
             "#7201a8"
            ],
            [
             0.3333333333333333,
             "#9c179e"
            ],
            [
             0.4444444444444444,
             "#bd3786"
            ],
            [
             0.5555555555555556,
             "#d8576b"
            ],
            [
             0.6666666666666666,
             "#ed7953"
            ],
            [
             0.7777777777777778,
             "#fb9f3a"
            ],
            [
             0.8888888888888888,
             "#fdca26"
            ],
            [
             1,
             "#f0f921"
            ]
           ]
          },
          "colorway": [
           "#636efa",
           "#EF553B",
           "#00cc96",
           "#ab63fa",
           "#FFA15A",
           "#19d3f3",
           "#FF6692",
           "#B6E880",
           "#FF97FF",
           "#FECB52"
          ],
          "font": {
           "color": "#2a3f5f"
          },
          "geo": {
           "bgcolor": "white",
           "lakecolor": "white",
           "landcolor": "#E5ECF6",
           "showlakes": true,
           "showland": true,
           "subunitcolor": "white"
          },
          "hoverlabel": {
           "align": "left"
          },
          "hovermode": "closest",
          "mapbox": {
           "style": "light"
          },
          "paper_bgcolor": "white",
          "plot_bgcolor": "#E5ECF6",
          "polar": {
           "angularaxis": {
            "gridcolor": "white",
            "linecolor": "white",
            "ticks": ""
           },
           "bgcolor": "#E5ECF6",
           "radialaxis": {
            "gridcolor": "white",
            "linecolor": "white",
            "ticks": ""
           }
          },
          "scene": {
           "xaxis": {
            "backgroundcolor": "#E5ECF6",
            "gridcolor": "white",
            "gridwidth": 2,
            "linecolor": "white",
            "showbackground": true,
            "ticks": "",
            "zerolinecolor": "white"
           },
           "yaxis": {
            "backgroundcolor": "#E5ECF6",
            "gridcolor": "white",
            "gridwidth": 2,
            "linecolor": "white",
            "showbackground": true,
            "ticks": "",
            "zerolinecolor": "white"
           },
           "zaxis": {
            "backgroundcolor": "#E5ECF6",
            "gridcolor": "white",
            "gridwidth": 2,
            "linecolor": "white",
            "showbackground": true,
            "ticks": "",
            "zerolinecolor": "white"
           }
          },
          "shapedefaults": {
           "line": {
            "color": "#2a3f5f"
           }
          },
          "ternary": {
           "aaxis": {
            "gridcolor": "white",
            "linecolor": "white",
            "ticks": ""
           },
           "baxis": {
            "gridcolor": "white",
            "linecolor": "white",
            "ticks": ""
           },
           "bgcolor": "#E5ECF6",
           "caxis": {
            "gridcolor": "white",
            "linecolor": "white",
            "ticks": ""
           }
          },
          "title": {
           "x": 0.05
          },
          "xaxis": {
           "automargin": true,
           "gridcolor": "white",
           "linecolor": "white",
           "ticks": "",
           "title": {
            "standoff": 15
           },
           "zerolinecolor": "white",
           "zerolinewidth": 2
          },
          "yaxis": {
           "automargin": true,
           "gridcolor": "white",
           "linecolor": "white",
           "ticks": "",
           "title": {
            "standoff": 15
           },
           "zerolinecolor": "white",
           "zerolinewidth": 2
          }
         }
        },
        "title": {
         "text": "Scatter Plot and Histogram of Residuals"
        },
        "xaxis": {
         "anchor": "y",
         "domain": [
          0,
          0.45
         ],
         "title": {
          "text": "Amount of Fertilizer (kg)"
         }
        },
        "xaxis2": {
         "anchor": "y2",
         "domain": [
          0.55,
          1
         ],
         "title": {
          "text": "Residuals"
         }
        },
        "yaxis": {
         "anchor": "x",
         "domain": [
          0,
          1
         ],
         "title": {
          "text": "Crop Yield (tons)"
         }
        },
        "yaxis2": {
         "anchor": "x2",
         "domain": [
          0,
          1
         ],
         "title": {
          "text": "Frequency"
         }
        }
       }
      },
      "text/html": [
       "<div>                            <div id=\"0fb81805-a389-4a4d-95ea-56e03ff6f671\" class=\"plotly-graph-div\" style=\"height:525px; width:100%;\"></div>            <script type=\"text/javascript\">                require([\"plotly\"], function(Plotly) {                    window.PLOTLYENV=window.PLOTLYENV || {};                                    if (document.getElementById(\"0fb81805-a389-4a4d-95ea-56e03ff6f671\")) {                    Plotly.newPlot(                        \"0fb81805-a389-4a4d-95ea-56e03ff6f671\",                        [{\"hovertemplate\":\"Amount of Fertilizer (kg) (x)=%{x}\\u003cbr\\u003eCrop Yield (tons) (Y)=%{y}\\u003cextra\\u003e\\u003c\\u002fextra\\u003e\",\"legendgroup\":\"\",\"marker\":{\"color\":\"#636efa\",\"symbol\":\"circle\"},\"mode\":\"markers\",\"name\":\"\",\"orientation\":\"v\",\"showlegend\":false,\"x\":[1.0,1.2,1.4,1.6,1.8,2.0,2.2,2.4,2.6,2.8,3.0,3.2,3.4,3.6,3.8,4.0,4.2,4.4,4.6,4.8,5.0,5.2,5.4,5.6,5.8,6.0,6.2,6.4,6.6,6.8,7.0,7.2,7.4,7.6,7.8,8.0,8.2,8.4,8.6,8.8,9.0,9.2,9.4,9.6],\"xaxis\":\"x\",\"y\":[18.7,16.9,16.1,13.4,48.4,51.9,31.8,51.3,63.9,50.6,58.7,82.4,66.7,81.2,96.5,112.2,132.5,119.8,127.7,136.3,148.5,169.4,177.9,186.7,198.1,215.7,230.7,250.4,258.0,267.8,320.4,302.0,307.2,331.5,375.3,403.4,393.5,434.9,431.9,451.1,491.2,546.8,546.4,558.9],\"yaxis\":\"y\",\"type\":\"scatter\"},{\"hovertemplate\":\"\\u003cb\\u003eOLS trendline\\u003c\\u002fb\\u003e\\u003cbr\\u003eCrop Yield (tons) (Y) = 62.3653 * Amount of Fertilizer (kg) (x) + -117.475\\u003cbr\\u003eR\\u003csup\\u003e2\\u003c\\u002fsup\\u003e=0.940931\\u003cbr\\u003e\\u003cbr\\u003eAmount of Fertilizer (kg) (x)=%{x}\\u003cbr\\u003eCrop Yield (tons) (Y)=%{y} \\u003cb\\u003e(trend)\\u003c\\u002fb\\u003e\\u003cextra\\u003e\\u003c\\u002fextra\\u003e\",\"legendgroup\":\"\",\"marker\":{\"color\":\"#636efa\",\"symbol\":\"circle\"},\"mode\":\"lines\",\"name\":\"\",\"showlegend\":false,\"x\":[1.0,1.2,1.4,1.6,1.8,2.0,2.2,2.4,2.6,2.8,3.0,3.2,3.4,3.6,3.8,4.0,4.2,4.4,4.6,4.8,5.0,5.2,5.4,5.6,5.8,6.0,6.2,6.4,6.6,6.8,7.0,7.2,7.4,7.6,7.8,8.0,8.2,8.4,8.6,8.8,9.0,9.2,9.4,9.6],\"xaxis\":\"x\",\"y\":[-55.109393939394074,-42.63633544749837,-30.16327695560267,-17.690218463706955,-5.217159971811242,7.2558985200844575,19.72895701198017,32.20201550387587,44.67507399577157,57.14813248766727,69.621190979563,82.0942494714587,94.5673079633544,107.04036645525012,119.5134249471458,131.98648343904154,144.45954193093723,156.93260042283293,169.40565891472858,181.87871740662433,194.35177589852003,206.82483439041573,219.2978928823115,231.77095137420713,244.24400986610283,256.7170683579986,269.1901268498943,281.66318534179,294.1362438336857,306.6093023255814,319.0823608174771,331.55541930937284,344.02847780126854,356.5015362931642,368.97459478505994,381.44765327695563,393.9207117688513,406.3937702607471,418.8668287526427,431.3398872445385,443.8129457364342,456.2860042283298,468.7590627202256,481.2321212121213],\"yaxis\":\"y\",\"type\":\"scatter\"},{\"alignmentgroup\":\"True\",\"bingroup\":\"x\",\"hovertemplate\":\"Residuals=%{x}\\u003cbr\\u003ecount=%{y}\\u003cextra\\u003e\\u003c\\u002fextra\\u003e\",\"legendgroup\":\"\",\"marker\":{\"color\":\"#636efa\",\"pattern\":{\"shape\":\"\"}},\"name\":\"\",\"nbinsx\":10,\"offsetgroup\":\"\",\"orientation\":\"v\",\"showlegend\":false,\"x\":[73.80939393939391,59.536335447498224,46.26327695560253,31.09021846370681,53.61715997181111,44.64410147991541,12.071042988019702,19.097984496124027,19.2249260042283,-6.548132487667367,-10.921190979563093,0.30575052854121054,-27.86730796335449,-25.84036645525019,-23.013424947145893,-19.78648343904159,-11.95954193093732,-37.13260042283302,-41.70565891472866,-45.57871740662435,-45.85177589852012,-37.42483439041581,-41.39789288231151,-45.07095137420717,-46.14400986610292,-41.01706835799865,-38.49012684989435,-31.263185341790034,-36.136243833685626,-38.80930232558143,1.3176391825228393,-29.555419309372837,-36.82847780126855,-25.001536293164236,6.325405214940076,21.952346723044343,-0.42071176885121986,28.506229739252944,13.033171247357359,19.76011275546159,47.38705426356586,90.51399577167024,77.64093727977445,77.66787878787886],\"xaxis\":\"x2\",\"yaxis\":\"y2\",\"type\":\"histogram\"}],                        {\"template\":{\"data\":{\"histogram2dcontour\":[{\"type\":\"histogram2dcontour\",\"colorbar\":{\"outlinewidth\":0,\"ticks\":\"\"},\"colorscale\":[[0.0,\"#0d0887\"],[0.1111111111111111,\"#46039f\"],[0.2222222222222222,\"#7201a8\"],[0.3333333333333333,\"#9c179e\"],[0.4444444444444444,\"#bd3786\"],[0.5555555555555556,\"#d8576b\"],[0.6666666666666666,\"#ed7953\"],[0.7777777777777778,\"#fb9f3a\"],[0.8888888888888888,\"#fdca26\"],[1.0,\"#f0f921\"]]}],\"choropleth\":[{\"type\":\"choropleth\",\"colorbar\":{\"outlinewidth\":0,\"ticks\":\"\"}}],\"histogram2d\":[{\"type\":\"histogram2d\",\"colorbar\":{\"outlinewidth\":0,\"ticks\":\"\"},\"colorscale\":[[0.0,\"#0d0887\"],[0.1111111111111111,\"#46039f\"],[0.2222222222222222,\"#7201a8\"],[0.3333333333333333,\"#9c179e\"],[0.4444444444444444,\"#bd3786\"],[0.5555555555555556,\"#d8576b\"],[0.6666666666666666,\"#ed7953\"],[0.7777777777777778,\"#fb9f3a\"],[0.8888888888888888,\"#fdca26\"],[1.0,\"#f0f921\"]]}],\"heatmap\":[{\"type\":\"heatmap\",\"colorbar\":{\"outlinewidth\":0,\"ticks\":\"\"},\"colorscale\":[[0.0,\"#0d0887\"],[0.1111111111111111,\"#46039f\"],[0.2222222222222222,\"#7201a8\"],[0.3333333333333333,\"#9c179e\"],[0.4444444444444444,\"#bd3786\"],[0.5555555555555556,\"#d8576b\"],[0.6666666666666666,\"#ed7953\"],[0.7777777777777778,\"#fb9f3a\"],[0.8888888888888888,\"#fdca26\"],[1.0,\"#f0f921\"]]}],\"heatmapgl\":[{\"type\":\"heatmapgl\",\"colorbar\":{\"outlinewidth\":0,\"ticks\":\"\"},\"colorscale\":[[0.0,\"#0d0887\"],[0.1111111111111111,\"#46039f\"],[0.2222222222222222,\"#7201a8\"],[0.3333333333333333,\"#9c179e\"],[0.4444444444444444,\"#bd3786\"],[0.5555555555555556,\"#d8576b\"],[0.6666666666666666,\"#ed7953\"],[0.7777777777777778,\"#fb9f3a\"],[0.8888888888888888,\"#fdca26\"],[1.0,\"#f0f921\"]]}],\"contourcarpet\":[{\"type\":\"contourcarpet\",\"colorbar\":{\"outlinewidth\":0,\"ticks\":\"\"}}],\"contour\":[{\"type\":\"contour\",\"colorbar\":{\"outlinewidth\":0,\"ticks\":\"\"},\"colorscale\":[[0.0,\"#0d0887\"],[0.1111111111111111,\"#46039f\"],[0.2222222222222222,\"#7201a8\"],[0.3333333333333333,\"#9c179e\"],[0.4444444444444444,\"#bd3786\"],[0.5555555555555556,\"#d8576b\"],[0.6666666666666666,\"#ed7953\"],[0.7777777777777778,\"#fb9f3a\"],[0.8888888888888888,\"#fdca26\"],[1.0,\"#f0f921\"]]}],\"surface\":[{\"type\":\"surface\",\"colorbar\":{\"outlinewidth\":0,\"ticks\":\"\"},\"colorscale\":[[0.0,\"#0d0887\"],[0.1111111111111111,\"#46039f\"],[0.2222222222222222,\"#7201a8\"],[0.3333333333333333,\"#9c179e\"],[0.4444444444444444,\"#bd3786\"],[0.5555555555555556,\"#d8576b\"],[0.6666666666666666,\"#ed7953\"],[0.7777777777777778,\"#fb9f3a\"],[0.8888888888888888,\"#fdca26\"],[1.0,\"#f0f921\"]]}],\"mesh3d\":[{\"type\":\"mesh3d\",\"colorbar\":{\"outlinewidth\":0,\"ticks\":\"\"}}],\"scatter\":[{\"fillpattern\":{\"fillmode\":\"overlay\",\"size\":10,\"solidity\":0.2},\"type\":\"scatter\"}],\"parcoords\":[{\"type\":\"parcoords\",\"line\":{\"colorbar\":{\"outlinewidth\":0,\"ticks\":\"\"}}}],\"scatterpolargl\":[{\"type\":\"scatterpolargl\",\"marker\":{\"colorbar\":{\"outlinewidth\":0,\"ticks\":\"\"}}}],\"bar\":[{\"error_x\":{\"color\":\"#2a3f5f\"},\"error_y\":{\"color\":\"#2a3f5f\"},\"marker\":{\"line\":{\"color\":\"#E5ECF6\",\"width\":0.5},\"pattern\":{\"fillmode\":\"overlay\",\"size\":10,\"solidity\":0.2}},\"type\":\"bar\"}],\"scattergeo\":[{\"type\":\"scattergeo\",\"marker\":{\"colorbar\":{\"outlinewidth\":0,\"ticks\":\"\"}}}],\"scatterpolar\":[{\"type\":\"scatterpolar\",\"marker\":{\"colorbar\":{\"outlinewidth\":0,\"ticks\":\"\"}}}],\"histogram\":[{\"marker\":{\"pattern\":{\"fillmode\":\"overlay\",\"size\":10,\"solidity\":0.2}},\"type\":\"histogram\"}],\"scattergl\":[{\"type\":\"scattergl\",\"marker\":{\"colorbar\":{\"outlinewidth\":0,\"ticks\":\"\"}}}],\"scatter3d\":[{\"type\":\"scatter3d\",\"line\":{\"colorbar\":{\"outlinewidth\":0,\"ticks\":\"\"}},\"marker\":{\"colorbar\":{\"outlinewidth\":0,\"ticks\":\"\"}}}],\"scattermapbox\":[{\"type\":\"scattermapbox\",\"marker\":{\"colorbar\":{\"outlinewidth\":0,\"ticks\":\"\"}}}],\"scatterternary\":[{\"type\":\"scatterternary\",\"marker\":{\"colorbar\":{\"outlinewidth\":0,\"ticks\":\"\"}}}],\"scattercarpet\":[{\"type\":\"scattercarpet\",\"marker\":{\"colorbar\":{\"outlinewidth\":0,\"ticks\":\"\"}}}],\"carpet\":[{\"aaxis\":{\"endlinecolor\":\"#2a3f5f\",\"gridcolor\":\"white\",\"linecolor\":\"white\",\"minorgridcolor\":\"white\",\"startlinecolor\":\"#2a3f5f\"},\"baxis\":{\"endlinecolor\":\"#2a3f5f\",\"gridcolor\":\"white\",\"linecolor\":\"white\",\"minorgridcolor\":\"white\",\"startlinecolor\":\"#2a3f5f\"},\"type\":\"carpet\"}],\"table\":[{\"cells\":{\"fill\":{\"color\":\"#EBF0F8\"},\"line\":{\"color\":\"white\"}},\"header\":{\"fill\":{\"color\":\"#C8D4E3\"},\"line\":{\"color\":\"white\"}},\"type\":\"table\"}],\"barpolar\":[{\"marker\":{\"line\":{\"color\":\"#E5ECF6\",\"width\":0.5},\"pattern\":{\"fillmode\":\"overlay\",\"size\":10,\"solidity\":0.2}},\"type\":\"barpolar\"}],\"pie\":[{\"automargin\":true,\"type\":\"pie\"}]},\"layout\":{\"autotypenumbers\":\"strict\",\"colorway\":[\"#636efa\",\"#EF553B\",\"#00cc96\",\"#ab63fa\",\"#FFA15A\",\"#19d3f3\",\"#FF6692\",\"#B6E880\",\"#FF97FF\",\"#FECB52\"],\"font\":{\"color\":\"#2a3f5f\"},\"hovermode\":\"closest\",\"hoverlabel\":{\"align\":\"left\"},\"paper_bgcolor\":\"white\",\"plot_bgcolor\":\"#E5ECF6\",\"polar\":{\"bgcolor\":\"#E5ECF6\",\"angularaxis\":{\"gridcolor\":\"white\",\"linecolor\":\"white\",\"ticks\":\"\"},\"radialaxis\":{\"gridcolor\":\"white\",\"linecolor\":\"white\",\"ticks\":\"\"}},\"ternary\":{\"bgcolor\":\"#E5ECF6\",\"aaxis\":{\"gridcolor\":\"white\",\"linecolor\":\"white\",\"ticks\":\"\"},\"baxis\":{\"gridcolor\":\"white\",\"linecolor\":\"white\",\"ticks\":\"\"},\"caxis\":{\"gridcolor\":\"white\",\"linecolor\":\"white\",\"ticks\":\"\"}},\"coloraxis\":{\"colorbar\":{\"outlinewidth\":0,\"ticks\":\"\"}},\"colorscale\":{\"sequential\":[[0.0,\"#0d0887\"],[0.1111111111111111,\"#46039f\"],[0.2222222222222222,\"#7201a8\"],[0.3333333333333333,\"#9c179e\"],[0.4444444444444444,\"#bd3786\"],[0.5555555555555556,\"#d8576b\"],[0.6666666666666666,\"#ed7953\"],[0.7777777777777778,\"#fb9f3a\"],[0.8888888888888888,\"#fdca26\"],[1.0,\"#f0f921\"]],\"sequentialminus\":[[0.0,\"#0d0887\"],[0.1111111111111111,\"#46039f\"],[0.2222222222222222,\"#7201a8\"],[0.3333333333333333,\"#9c179e\"],[0.4444444444444444,\"#bd3786\"],[0.5555555555555556,\"#d8576b\"],[0.6666666666666666,\"#ed7953\"],[0.7777777777777778,\"#fb9f3a\"],[0.8888888888888888,\"#fdca26\"],[1.0,\"#f0f921\"]],\"diverging\":[[0,\"#8e0152\"],[0.1,\"#c51b7d\"],[0.2,\"#de77ae\"],[0.3,\"#f1b6da\"],[0.4,\"#fde0ef\"],[0.5,\"#f7f7f7\"],[0.6,\"#e6f5d0\"],[0.7,\"#b8e186\"],[0.8,\"#7fbc41\"],[0.9,\"#4d9221\"],[1,\"#276419\"]]},\"xaxis\":{\"gridcolor\":\"white\",\"linecolor\":\"white\",\"ticks\":\"\",\"title\":{\"standoff\":15},\"zerolinecolor\":\"white\",\"automargin\":true,\"zerolinewidth\":2},\"yaxis\":{\"gridcolor\":\"white\",\"linecolor\":\"white\",\"ticks\":\"\",\"title\":{\"standoff\":15},\"zerolinecolor\":\"white\",\"automargin\":true,\"zerolinewidth\":2},\"scene\":{\"xaxis\":{\"backgroundcolor\":\"#E5ECF6\",\"gridcolor\":\"white\",\"linecolor\":\"white\",\"showbackground\":true,\"ticks\":\"\",\"zerolinecolor\":\"white\",\"gridwidth\":2},\"yaxis\":{\"backgroundcolor\":\"#E5ECF6\",\"gridcolor\":\"white\",\"linecolor\":\"white\",\"showbackground\":true,\"ticks\":\"\",\"zerolinecolor\":\"white\",\"gridwidth\":2},\"zaxis\":{\"backgroundcolor\":\"#E5ECF6\",\"gridcolor\":\"white\",\"linecolor\":\"white\",\"showbackground\":true,\"ticks\":\"\",\"zerolinecolor\":\"white\",\"gridwidth\":2}},\"shapedefaults\":{\"line\":{\"color\":\"#2a3f5f\"}},\"annotationdefaults\":{\"arrowcolor\":\"#2a3f5f\",\"arrowhead\":0,\"arrowwidth\":1},\"geo\":{\"bgcolor\":\"white\",\"landcolor\":\"#E5ECF6\",\"subunitcolor\":\"white\",\"showland\":true,\"showlakes\":true,\"lakecolor\":\"white\"},\"title\":{\"x\":0.05},\"mapbox\":{\"style\":\"light\"}}},\"xaxis\":{\"anchor\":\"y\",\"domain\":[0.0,0.45],\"title\":{\"text\":\"Amount of Fertilizer (kg)\"}},\"yaxis\":{\"anchor\":\"x\",\"domain\":[0.0,1.0],\"title\":{\"text\":\"Crop Yield (tons)\"}},\"xaxis2\":{\"anchor\":\"y2\",\"domain\":[0.55,1.0],\"title\":{\"text\":\"Residuals\"}},\"yaxis2\":{\"anchor\":\"x2\",\"domain\":[0.0,1.0],\"title\":{\"text\":\"Frequency\"}},\"annotations\":[{\"font\":{\"size\":16},\"showarrow\":false,\"text\":\"Crop Yield vs. Amount of Fertilizer\",\"x\":0.225,\"xanchor\":\"center\",\"xref\":\"paper\",\"y\":1.0,\"yanchor\":\"bottom\",\"yref\":\"paper\"},{\"font\":{\"size\":16},\"showarrow\":false,\"text\":\"Histogram of Residuals\",\"x\":0.775,\"xanchor\":\"center\",\"xref\":\"paper\",\"y\":1.0,\"yanchor\":\"bottom\",\"yref\":\"paper\"}],\"title\":{\"text\":\"Scatter Plot and Histogram of Residuals\"},\"showlegend\":false},                        {\"responsive\": true}                    ).then(function(){\n",
       "                            \n",
       "var gd = document.getElementById('0fb81805-a389-4a4d-95ea-56e03ff6f671');\n",
       "var x = new MutationObserver(function (mutations, observer) {{\n",
       "        var display = window.getComputedStyle(gd).display;\n",
       "        if (!display || display === 'none') {{\n",
       "            console.log([gd, 'removed!']);\n",
       "            Plotly.purge(gd);\n",
       "            observer.disconnect();\n",
       "        }}\n",
       "}});\n",
       "\n",
       "// Listen for the removal of the full notebook cells\n",
       "var notebookContainer = gd.closest('#notebook-container');\n",
       "if (notebookContainer) {{\n",
       "    x.observe(notebookContainer, {childList: true});\n",
       "}}\n",
       "\n",
       "// Listen for the clearing of the current output cell\n",
       "var outputEl = gd.closest('.output');\n",
       "if (outputEl) {{\n",
       "    x.observe(outputEl, {childList: true});\n",
       "}}\n",
       "\n",
       "                        })                };                });            </script>        </div>"
      ]
     },
     "metadata": {},
     "output_type": "display_data"
    }
   ],
   "source": [
    "import pandas as pd\n",
    "from scipy import stats\n",
    "import plotly.express as px\n",
    "from plotly.subplots import make_subplots\n",
    "\n",
    "# This data shows the relationship between the amount of fertilizer used and crop yield\n",
    "data = {'Amount of Fertilizer (kg) (x)': [1, 1.2, 1.4, 1.6, 1.8, 2, 2.2, 2.4, 2.6, \n",
    "                                          2.8, 3, 3.2, 3.4, 3.6, 3.8, 4, 4.2, 4.4, \n",
    "                                          4.6, 4.8, 5, 5.2, 5.4, 5.6, 5.8, 6, 6.2, \n",
    "                                          6.4, 6.6, 6.8, 7, 7.2, 7.4, 7.6, 7.8, 8, \n",
    "                                          8.2, 8.4, 8.6, 8.8,9, 9.2, 9.4, 9.6],\n",
    "        'Crop Yield (tons) (Y)': [18.7, 16.9, 16.1, 13.4, 48.4, 51.9, 31.8, 51.3, \n",
    "                                  63.9, 50.6, 58.7, 82.4, 66.7, 81.2, 96.5, 112.2, \n",
    "                                  132.5, 119.8, 127.7, 136.3, 148.5, 169.4, 177.9, \n",
    "                                  186.7, 198.1, 215.7, 230.7, 250.4, 258. , 267.8, \n",
    "                                  320.4, 302. , 307.2, 331.5, 375.3, 403.4, 393.5,\n",
    "                                  434.9, 431.9, 451.1, 491.2, 546.8, 546.4, 558.9]}\n",
    "df = pd.DataFrame(data)\n",
    "fig1 = px.scatter(df, x='Amount of Fertilizer (kg) (x)', y='Crop Yield (tons) (Y)',\n",
    "                  trendline='ols', title='Crop Yield vs. Amount of Fertilizer')\n",
    "\n",
    "# Perform linear regression using scipy.stats\n",
    "slope, intercept, r_value, p_value, std_err = \\\n",
    "    stats.linregress(df['Amount of Fertilizer (kg) (x)'], df['Crop Yield (tons) (Y)'])\n",
    "# Predict the values and calculate residuals\n",
    "y_hat = intercept + slope * df['Amount of Fertilizer (kg) (x)']\n",
    "residuals = df['Crop Yield (tons) (Y)'] - y_hat\n",
    "df['Residuals'] = residuals\n",
    "fig2 = px.histogram(df, x='Residuals', nbins=10, title='Histogram of Residuals',\n",
    "                    labels={'Residuals': 'Residuals'})\n",
    "\n",
    "fig = make_subplots(rows=1, cols=2,\n",
    "                    subplot_titles=('Crop Yield vs. Amount of Fertilizer', \n",
    "                                    'Histogram of Residuals'))\n",
    "for trace in fig1.data:\n",
    "    fig.add_trace(trace, row=1, col=1)\n",
    "for trace in fig2.data:\n",
    "    fig.add_trace(trace, row=1, col=2)\n",
    "fig.update_layout(title='Scatter Plot and Histogram of Residuals',\n",
    "    xaxis_title='Amount of Fertilizer (kg)', yaxis_title='Crop Yield (tons)',\n",
    "    xaxis2_title='Residuals', yaxis2_title='Frequency', showlegend=False)\n",
    "\n",
    "fig.show() # USE `fig.show(renderer=\"png\")` FOR ALL GitHub and MarkUs SUBMISSIONS"
   ]
  },
  {
   "cell_type": "markdown",
   "id": "dece745d",
   "metadata": {},
   "source": [
    "Simple Linear Regression assumes a linear relationship between the predictor (amount of fertilizer) and outcome (crop yield). However, from the scatter plot, the relationship between fertilizer and yield seems more exponential or quadratic than linear. This would indicate a the use of a linear model is inneffecient for the given data.\n",
    "\n",
    "In Simple linear regression models the residuals often have constant variance across all levels of the predictor variable. However the histogram of residuals shows how this is not the case, with frequency of residuals significantly decreasing when values range from-50 to 100, suggesting residuals may be expanding as when fertiliser usage increases. This again suggests that maybe linea regression is not the best model for this data. "
   ]
  },
  {
   "cell_type": "markdown",
   "id": "abd28c5b",
   "metadata": {},
   "source": [
    "### CHATBOT SUMMARY ###\n",
    "\n",
    "Certainly! Here’s a summary of our conversation up to now:\n",
    "\n",
    "1. **Simple Linear Regression Model Explanation**: I explained the theoretical basis of Simple Linear Regression, describing the predictor and outcome variables, the slope and intercept coefficients, and the error term. We discussed how these components combine to generate \\( Y \\) values around a fitted line using simulated data, with code to visualize this.\n",
    "\n",
    "2. **Fitting a Simple Linear Regression Model**: We created a fitted model using `statsmodels` and discussed key outputs such as the model summary, parameter values, and \\( R^2 \\). You also learned how to use `plotly` to visualize both the theoretical line and fitted line together.\n",
    "\n",
    "3. **Comparing Theoretical and Fitted Models**: We added the theoretical line from the simulation to the fitted model plot and discussed the difference, focusing on how random sampling variation affects observed vs. theoretical models.\n",
    "\n",
    "4. **Interpreting Fitted Values and R-squared**: We explored how fitted values are derived using model parameters and how \\( R^2 \\) measures model accuracy by indicating the proportion of variation in \\( Y \\) explained by the model. You also learned how squared correlation coefficients relate to \\( R^2 \\) in this context.\n",
    "\n",
    "5. **OLS and Residual Analysis**: I explained the OLS method, which minimizes the sum of squared residuals, ensuring a balanced fit by penalizing larger deviations. We also discussed how residuals capture data-based deviations in a fitted model.\n",
    "\n",
    "6. **Checking Assumptions**: We analyzed a crop yield dataset with fertilizer as a predictor, highlighting violations in linearity and homoscedasticity assumptions due to the observed nonlinear pattern and non-constant residual variance. This led to insights on when Simple Linear Regression may be inappropriate."
   ]
  },
  {
   "cell_type": "markdown",
   "id": "a977ba64",
   "metadata": {},
   "source": [
    "## \"Week of Nov04\" HW [due prior to the Nov08 TUT]\n",
    "\n",
    "_**In place of the \"Data Analysis Assignment\" format we introduced for the previous weeks' HW, the remaining questions will be a collection of exercises based around the following data**_\n",
    "\n",
    "> The details of the \"LOWESS Trendline\" shown below are not a part of the intended scope of the activities here, but it is included since it is suggestive of the questions we will consider and address here\n"
   ]
  },
  {
   "cell_type": "code",
   "execution_count": 15,
   "id": "a29449cd",
   "metadata": {},
   "outputs": [
    {
     "data": {
      "image/png": "[encoded data removed]"
     },
     "metadata": {},
     "output_type": "display_data"
    }
   ],
   "source": [
    "import plotly.express as px\n",
    "import seaborn as sns\n",
    "import statsmodels.api as sm\n",
    "\n",
    "# The \"Classic\" Old Faithful Geyser dataset: ask a ChatBot for more details if desired\n",
    "old_faithful = sns.load_dataset('geyser')\n",
    "\n",
    "# Create a scatter plot with a Simple Linear Regression trendline\n",
    "fig = px.scatter(old_faithful, x='waiting', y='duration', \n",
    "                 title=\"Old Faithful Geyser Eruptions\", \n",
    "                 trendline='ols')#'lowess'\n",
    "\n",
    "# Add a smoothed LOWESS Trendline to the scatter plot\n",
    "lowess = sm.nonparametric.lowess  # Adjust 'frac' to change \"smoothness bandwidth\"\n",
    "smoothed = lowess(old_faithful['duration'], old_faithful['waiting'], frac=0.25)  \n",
    "smoothed_df = pd.DataFrame(smoothed, columns=['waiting', 'smoothed_duration'])\n",
    "fig.add_scatter(x=smoothed_df['waiting'], y=smoothed_df['smoothed_duration'], \n",
    "                mode='lines', name='LOWESS Trendline')\n",
    "\n",
    "fig.show(renderer=\"png\") # USE `fig.show(renderer=\"png\")` FOR ALL GitHub and MarkUs SUBMISSIONS"
   ]
  },
  {
   "cell_type": "markdown",
   "id": "b0db85ec",
   "metadata": {},
   "source": [
    "### 8. Specify a *null hypothesis* of \"no linear association (on average)\" in terms of the relevant *parameter* of the *Simple Linear Regression* model, and use the code below to characterize the evidence in the data relative to the *null hypothesis* and interpret your subsequent beliefs regarding the Old Faithful Geyser dataset.<br>\n",
    "\n",
    "<details class=\"details-example\"><summary style=\"color:blue\"><u>Further Guidance</u></summary>\n",
    "\n",
    "> _Remember that **Hypothesis Testing** is not a \"mathematical proof\"_\n",
    ">\n",
    "> - _We do not prove $H_0$ false, we instead give evidence against the $H_0$: \"We reject the null hypothesis with a p-value of XYZ, meaning we have ABC evidence against the null hypothesis\"_\n",
    "> - _We do not prove $H_0$ is true, we instead do not have evidence to reject $H_0$: \"We fail to reject the null hypothesis with a p-value of XYZ\"_\n",
    "\n",
    "|p-value|Evidence|\n",
    "|-|-|\n",
    "|$$p > 0.1$$|No evidence against the null hypothesis|\n",
    "|$$0.1 \\ge p > 0.05$$|Weak evidence against the null hypothesis|\n",
    "|$$0.05 \\ge p > 0.01$$|Moderate evidence against the null hypothesis|\n",
    "|$$0.01 \\ge p > 0.001$$|Strong evidence against the null hypothesis|\n",
    "|$$0.001 \\ge p$$|Very strong evidence against the null hypothesis|\n",
    "\n",
    "</details>    \n",
    "\n",
    "> ```python\n",
    "> import seaborn as sns\n",
    "> import statsmodels.formula.api as smf\n",
    ">\n",
    "> # The \"Classic\" Old Faithful Geyser dataset\n",
    "> old_faithful = sns.load_dataset('geyser')\n",
    "> \n",
    "> linear_for_specification = 'duration ~ waiting'\n",
    "> model = smf.ols(linear_for_specification, data=old_faithful)\n",
    "> fitted_model = model.fit()\n",
    "> fitted_model.summary()\n",
    "> ```\n"
   ]
  },
  {
   "cell_type": "markdown",
   "id": "5766b1c8",
   "metadata": {},
   "source": [
    "**For the equation of the line:** Y = $β_0$ + $β_1x_i$\n",
    "\n",
    "$$ \\text{Null Hypothesis: } β_1 = 0  \\text{ (the gradient of slope is 0, or no linear association)} $$\n",
    "\n",
    "$$ \\text{Alternative Hypothesis: } β_1 ≠ 0 \\text{ (the gradient of slope is not 0, or there is some linear association)} $$\n",
    "\n",
    "Lets take α = 0.05 for this case."
   ]
  },
  {
   "cell_type": "code",
   "execution_count": 9,
   "id": "321df7c3",
   "metadata": {},
   "outputs": [
    {
     "name": "stdout",
     "output_type": "stream",
     "text": [
      "                            OLS Regression Results                            \n",
      "==============================================================================\n",
      "Dep. Variable:               duration   R-squared:                       0.811\n",
      "Model:                            OLS   Adj. R-squared:                  0.811\n",
      "Method:                 Least Squares   F-statistic:                     1162.\n",
      "Date:                Fri, 08 Nov 2024   Prob (F-statistic):          8.13e-100\n",
      "Time:                        03:58:42   Log-Likelihood:                -194.51\n",
      "No. Observations:                 272   AIC:                             393.0\n",
      "Df Residuals:                     270   BIC:                             400.2\n",
      "Df Model:                           1                                         \n",
      "Covariance Type:            nonrobust                                         \n",
      "==============================================================================\n",
      "                 coef    std err          t      P>|t|      [0.025      0.975]\n",
      "------------------------------------------------------------------------------\n",
      "Intercept     -1.8740      0.160    -11.702      0.000      -2.189      -1.559\n",
      "waiting        0.0756      0.002     34.089      0.000       0.071       0.080\n",
      "==============================================================================\n",
      "Omnibus:                        4.133   Durbin-Watson:                   2.561\n",
      "Prob(Omnibus):                  0.127   Jarque-Bera (JB):                3.173\n",
      "Skew:                          -0.138   Prob(JB):                        0.205\n",
      "Kurtosis:                       2.548   Cond. No.                         384.\n",
      "==============================================================================\n",
      "\n",
      "Notes:\n",
      "[1] Standard Errors assume that the covariance matrix of the errors is correctly specified.\n"
     ]
    }
   ],
   "source": [
    "import seaborn as sns\n",
    "import statsmodels.formula.api as smf\n",
    "\n",
    "# Load Old Faithful Geyser dataset\n",
    "old_faithful = sns.load_dataset('geyser')\n",
    "\n",
    "# Specify the linear model\n",
    "linear_for_specification = 'duration ~ waiting'\n",
    "model = smf.ols(linear_for_specification, data=old_faithful)\n",
    "fitted_model = model.fit()\n",
    "\n",
    "# Display the model summary\n",
    "print(fitted_model.summary())\n"
   ]
  },
  {
   "cell_type": "markdown",
   "id": "66810f9d",
   "metadata": {},
   "source": [
    "The $R^2$ value is 0.811, indicating 81.1% of the variability in duration can be explained by waiting suggesting a strong fit for the linear model.\n",
    "\n",
    "The p value for this is extremely small, denoted by 0.000 n the output. This means p < α = 0.05, suggesting very strong evidence against the null hypothesis. This allows us to reject the null hypothesis with high confidence, giving strong evidence for the alternative hypothesis, suggesting that there is some linear association between waiting and duration."
   ]
  },
  {
   "cell_type": "markdown",
   "id": "bd719fef",
   "metadata": {},
   "source": [
    "### 9. As seen in the introductory figure above, if the delay of the geyser eruption since the previous geyser eruption exceeds approximately 63 minutes, there is a notable increase in the duration of the geyser eruption itself. In the figure below we therefore restrict the dataset to only short wait times. Within the context of only short wait times, is there evidence in the data for a relationship between duration and wait time in the same manner as in the full data set? Using the following code, characterize the evidence against the *null hypothesis* in the context of short wait times which are less than  *short_wait_limit* values of *62*, *64*, *66*.<br>\n"
   ]
  },
  {
   "cell_type": "code",
   "execution_count": 16,
   "id": "f0cd0ffd",
   "metadata": {},
   "outputs": [
    {
     "name": "stdout",
     "output_type": "stream",
     "text": [
      "==============================================================================\n",
      "                 coef    std err          t      P>|t|      [0.025      0.975]\n",
      "------------------------------------------------------------------------------\n",
      "Intercept      1.4140      0.288      4.915      0.000       0.842       1.986\n",
      "waiting        0.0114      0.005      2.127      0.036       0.001       0.022\n",
      "==============================================================================\n"
     ]
    },
    {
     "data": {
      "image/png": "[encoded data removed]"
     },
     "metadata": {},
     "output_type": "display_data"
    }
   ],
   "source": [
    "import plotly.express as px\n",
    "import statsmodels.formula.api as smf\n",
    "\n",
    "\n",
    "short_wait_limit = 64 #62 # 64 # 66 #\n",
    "short_wait = old_faithful.waiting < short_wait_limit\n",
    "\n",
    "print(smf.ols('duration ~ waiting', data=old_faithful[short_wait]).fit().summary().tables[1])\n",
    "\n",
    "# Create a scatter plot with a linear regression trendline\n",
    "fig = px.scatter(old_faithful[short_wait], x='waiting', y='duration', \n",
    "                 title=\"Old Faithful Geyser Eruptions for short wait times (<\"+str(short_wait_limit)+\")\", \n",
    "                 trendline='ols')\n",
    "\n",
    "fig.show(renderer=\"png\") # USE `fig.show(renderer=\"png\")` FOR ALL GitHub and MarkUs SUBMISSIONS"
   ]
  },
  {
   "cell_type": "markdown",
   "id": "8a542598",
   "metadata": {},
   "source": [
    "#### short_wait_limit = 62 ###\n",
    " Coefficient for waiting is 0.0069 which is much smaller than the one observed in the full dataset (0.0756), suggesting a much weaker relationship between waiting time and duration when we focus only on shorter wait times.\n",
    "\n",
    "The p-value for waiting is 0.238, and since 0.238 > 0.05 meaning p > α, so we fail to reject the null hyothesis. This means that the relationship between waiting time and duration is not statistically significant within the restricted dataset of short wait times.\n",
    "\n",
    "#### short_wait_limit = 64 ###\n",
    "p = 0.036 > 0.05 = α. Again we fail to reject null hypothesis.\n",
    "\n",
    "#### short_wait_limit = 66 ###\n",
    "p = 0.000 < 0.05 = α. Now for this larger wait limit we have enough evidence to reject the null hypothesis confidently. \n",
    "\n",
    "This suggests that the relationship observed in the full dataset where longer waits are associated with longer eruption durations may primarily be driven by wait times exceeding the short wait limit.\n"
   ]
  },
  {
   "cell_type": "markdown",
   "id": "009bfa79",
   "metadata": {},
   "source": [
    "### 10. Let's now consider just the (*n=160*) long wait times (as specified in the code below), and write code to do the following:\n",
    "\n",
    "1. create fitted **Simple Linear Regression** models for **boostrap samples** and collect and visualize the **bootstrapped sampling distribution** of the **fitted slope coefficients** of the fitted models;  \n",
    "\n",
    "\n",
    "2. **simulate** samples (of size `n=160`) from a **Simple Linear Regression** model that uses $\\beta_0 = 1.65$, $\\beta_1 = 0$, $\\sigma = 0.37$ along with the values of `waiting` for $x$ to create **simuations** of $Y$ and use these collect and visualize the **sampling distribution** of the **fitted slope coefficient** under a **null hypothesis** assumption of \"no linear association (on average)\"; then,  \n",
    "\n",
    "\n",
    "3. report if $0$ is contained within a 95\\% **bootstrapped confidence interval**; and if the **simulated p-value** matches `smf.ols('duration ~ waiting', data=old_faithful[long_wait]).fit().summary().tables[1]`?<br><br>\n",
    "\n",
    "<details class=\"details-example\"><summary style=\"color:blue\"><u>Further Guidance</u></summary>\n",
    "\n",
    "> _You'll need to create `for` loops to repeatedly create fitted **Simple Linear Regression** models using different samples, collecting the **fitted slope coeffient** created in each `for` loop \"step\" in order to visualize the **simulated sampling distributions**_\n",
    "> \n",
    "> - _A **bootstrapped sample** of the \"long wait times\" dataset can be created with `old_faithful[long_wait].sample(n=long_wait.sum(), replace=True)`_\n",
    ">\n",
    ">\n",
    "> - _A **simulated** version of the \"long wait times under a null hypothesis assumption of **no linear association (on average)**\" dataset can be created by first creating `old_faithful_simulation = old_faithful[long_wait].copy()` and then assigning the **simulated** it values with `old_faithful_simulation['duration'] = 1.65 + 0*old_faithful_simulation.waiting + stats.norm(loc=0, scale=0.37).rvs(size=long_wait.sum())`_ \n",
    ">\n",
    ">  _The values $\\beta_0 = 1.65$ and $\\sigma = 0.37$ are chosen to match what is actually observed in the data, while $\\beta_1 = 0$ is chosen to reflect a **null hypothesis** assumption of \"no linear assocaition (on average)\"; and, make sure that you understand why it is that_\n",
    ">\n",
    ">\n",
    "> - _if `bootstrapped_slope_coefficients` is the `np.array` of your **bootstrapped slope coefficients** then `np.quantile(bootstrapped_slope_coefficients, [0.025, 0.975])` is a 95\\% **bootstrapped confidence interval**_\n",
    "> \n",
    ">\n",
    "> - _if `simulated_slope_coefficients` is the `np.array` of your **fitted slope coefficients** **simulated** under a **null hypothesis** \"no linear association (on average)\" then `(np.abs(simulated_slope_coefficients) >= smf.ols('duration ~ waiting', data=old_faithful[long_wait]).fit().params[1]).mean()` is the **p-value** for the **simulated** **simulated sampling distribution of the slope coeficients** under a **null hypothesis** \"no linear association (on average)\"_\n",
    "\n",
    "</details>\n",
    "<br>"
   ]
  },
  {
   "cell_type": "code",
   "execution_count": 19,
   "id": "7c246ca4",
   "metadata": {},
   "outputs": [
    {
     "data": {
      "application/vnd.plotly.v1+json": {
       "config": {
        "plotlyServerURL": "https://plot.ly"
       },
       "data": [
        {
         "alignmentgroup": "True",
         "bingroup": "x",
         "hovertemplate": "Distribution Type=Bootstrapped Slopes<br>Slope Coefficient=%{x}<br>count=%{y}<extra></extra>",
         "legendgroup": "Bootstrapped Slopes",
         "marker": {
          "color": "#636efa",
          "pattern": {
           "shape": ""
          }
         },
         "name": "Bootstrapped Slopes",
         "nbinsx": 50,
         "offsetgroup": "Bootstrapped Slopes",
         "orientation": "v",
         "showlegend": true,
         "type": "histogram",
         "x": [
          0.011714669816061892,
          0.01319349908530228,
          0.013547752218697424,
          0.007381322130416007,
          0.0011286688527228222,
          0.008493122017041946,
          0.005334356228079491,
          0.016397666355427033,
          0.011142651015236676,
          0.010452232631791902,
          0.011960765654944697,
          0.011894693109136496,
          0.0023217535153019376,
          0.002590271898133184,
          0.015189645816890432,
          0.01278555351444207,
          0.012986145169200582,
          0.014750778540980974,
          0.01084736904903949,
          0.013366059082338129,
          0.018477277013011467,
          0.013301426012456097,
          0.010400641051875076,
          0.02827181641838879,
          -0.0028317711656007626,
          0.01871908746611315,
          0.009976711866076503,
          0.026380026741522126,
          0.0028014965845123627,
          0.011955698063283178,
          0.02259579327717511,
          0.015788295795346304,
          0.006423364952571144,
          0.017343762154803575,
          0.0097428976089311,
          0.013053580021172151,
          0.015105908030864448,
          0.004978617580067797,
          0.02200063533227158,
          0.016905761160401933,
          0.009769461008051549,
          0.008881796043450914,
          0.005747047267169066,
          0.011528896069646008,
          0.01855448852606561,
          0.0121359574790791,
          0.01806033047895733,
          0.008216154903528575,
          0.019234857981968723,
          0.0027104783137413212,
          0.010315311548907309,
          0.0029516002941290184,
          0.002825005966548527,
          0.02908377855818172,
          0.012999292721279617,
          0.02247692465981028,
          0.011715823533152682,
          0.009337972546028993,
          0.01910366777898804,
          0.014730855998659885,
          0.011851974222647905,
          0.014426368159203933,
          0.005313868839255279,
          0.01964792477918135,
          0.012945158681375517,
          0.014021679357021977,
          0.009143306379155391,
          0.009773280793299394,
          0.014360254122906008,
          0.0027616635842152987,
          0.012531497944747137,
          0.013452378262343273,
          0.017964915700224224,
          0.020804554102839302,
          0.012841546775765999,
          0.016765657781599334,
          0.02762917698666799,
          0.01821379793096145,
          0.008677747964182036,
          0.008738337052815728,
          0.011193612162391148,
          0.014187764399609532,
          0.01762839663268246,
          0.009767603463683725,
          0.027948446146742068,
          0.011872888519877927,
          0.01934229130465827,
          0.009747221394952899,
          0.019395562804470884,
          0.01706224348316035,
          0.010610279851132741,
          0.009341584699055726,
          0.014578708959892522,
          0.01619703106861034,
          0.02069579813490991,
          0.01559956502145492,
          0.008007218938299237,
          0.006889265987888485,
          0.00810047684794564,
          0.008661878414668069,
          0.012766759488448787,
          0.015731748643100257,
          0.007216446846321181,
          0.010654441509122491,
          0.015243418633108474,
          0.01169364349575892,
          0.007698505160123374,
          0.003914219618098416,
          0.015535431169771914,
          0.006829081474528723,
          0.008003006733643025,
          0.02057054275206916,
          0.017049929709778443,
          0.017149799215986215,
          0.009402388070028717,
          -0.00013986659130872311,
          0.01396244081861412,
          0.014050358518125097,
          0.007793199372084517,
          0.012093329190407929,
          0.0179674992732518,
          0.015827547303175198,
          -0.0017801614801797143,
          0.009140414418246007,
          0.0010001709446665792,
          0.0040599135170779205,
          0.005647008799086651,
          0.015556687727045502,
          0.001326922028501959,
          0.017334816872661276,
          0.012917924211938242,
          0.011548012232415871,
          0.016979426301585866,
          0.014775150273032618,
          0.010932064702538904,
          0.008322855516557318,
          0.010378999523026143,
          0.017704037624250345,
          0.010502005730658945,
          -0.004531274620885211,
          0.016297145892209354,
          -0.002591203009185729,
          0.009055754156384899,
          0.016155664661142044,
          0.015275342220631746,
          0.01335353818647123,
          0.008635284179768752,
          0.008399532872304162,
          0.007909514725634118,
          0.015603277798441964,
          0.01346620135768234,
          0.007394042758235908,
          0.01951592990840308,
          0.0025369951206194357,
          0.0034242576748867923,
          0.02106634475591905,
          0.004617918461100941,
          0.0010194057732294988,
          0.01564624038727375,
          0.01579081790921308,
          0.02155739269957341,
          0.016475678410277472,
          0.016972779570646884,
          0.017107280681160776,
          0.005409699466342125,
          0.008697888323715323,
          0.0127878907543017,
          0.010607104167168216,
          0.0031888965234221286,
          0.01156055389878087,
          0.01242972559394128,
          0.0044442823660531955,
          0.01815973284388707,
          0.025013394840393798,
          0.014018153487223586,
          0.015462568190864237,
          0.012992973868646479,
          0.0030008581911056195,
          0.011530957056276162,
          0.0058103261321703695,
          0.018017139761774423,
          0.019256116721320066,
          0.011074643887060817,
          0.007489214477812648,
          0.022221842186752182,
          0.009435551629790893,
          0.0202786828242085,
          0.012536803083575344,
          0.015160136944697523,
          0.016745681929281428,
          0.014143845089903156,
          0.007898369578767966,
          0.008780784682681671,
          0.019664395644503896,
          0.014434588854386442,
          0.0014594315948423392,
          0.005480087499636224,
          0.012610637395481012,
          0.013866695139360133,
          0.008781985154374491,
          0.018501485377080577,
          0.014669037925638579,
          0.01760693871212022,
          0.01939876406019793,
          0.018159045459175717,
          0.015936270894360154,
          0.011869409782311748,
          0.013826322478488218,
          0.002817816273494582,
          0.004623015873015869,
          0.012476026271378511,
          0.009043693513857174,
          0.02273777833360128,
          0.009231264352247956,
          0.010690640817811906,
          0.01429861430973528,
          0.008703306546265228,
          0.018527466436309904,
          0.025185954277059466,
          0.014434866389754733,
          0.017278436982804634,
          0.021302104788132728,
          0.007515254221535067,
          0.022576956439078887,
          0.011195952511584562,
          0.008871861184888677,
          0.008042180379566378,
          0.018148339049514996,
          0.013684137384511512,
          0.021735940041831395,
          0.008696535566339855,
          0.0024741410772940696,
          0.007474234209069248,
          0.017076289083641314,
          0.01171832916660502,
          0.007447636021885411,
          0.010600636630754133,
          0.007682949609452485,
          0.014766391744005715,
          0.011668553086944575,
          0.017413603949533746,
          0.008942081223860868,
          0.013510626685501521,
          0.0010129981232301945,
          0.01154446381865732,
          0.019862473304317372,
          0.01675042571119811,
          0.0075708201153899535,
          0.017485008335389657,
          0.011681861840435216,
          0.001178285063185583,
          0.01880747248044884,
          0.017233455585094384,
          0.010093742865115812,
          0.00628494066893317,
          0.01715178958062063,
          0.008400546070539623,
          0.02213946884655999,
          0.015050250052552595,
          0.018749890634082562,
          0.00961370013044223,
          0.011306958875723451,
          0.02443309534776599,
          0.019474714342356658,
          0.02084506512933028,
          0.013575977433421205,
          0.010312429115311952,
          0.012199372910637026,
          0.011137136545198935,
          0.014714856896431712,
          0.01638831472444363,
          0.016087457632377018,
          0.0076227688408989774,
          0.01005007797255033,
          0.009596901935775892,
          0.004030574020213843,
          0.012291780271116224,
          0.015252341465643245,
          0.02360252729850111,
          0.008465611395514612,
          0.012437530170860543,
          0.010286810933904642,
          0.018183589247342435,
          0.01659457700036799,
          0.011793085920831333,
          0.010535896414278968,
          0.0034940632609272437,
          0.01110599096566297,
          0.0056218566793458935,
          0.014491215685547391,
          0.017832471052704787,
          0.008016988483420168,
          0.019408676340585136,
          0.010593251861606732,
          0.020330063391121502,
          0.019652120123149635,
          0.01695636345334356,
          0.010062348859215683,
          0.01696159848749578,
          0.020122851450801033,
          0.016880085480769382,
          0.01477324834922961,
          0.008266425803590731,
          0.009176018536396928,
          0.013954870129870095,
          0.019103113790494914,
          0.012786859078064686,
          0.02112543830253293,
          0.012995889588010227,
          0.016928069375375502,
          0.02188764489779281,
          0.016819317189911528,
          0.012999168544641587,
          0.01905326116844938,
          2.7485728140336924e-05,
          0.009917226774049454,
          0.009404568256571755,
          0.011527887077634188,
          0.012911437357559816,
          0.01520434522104562,
          0.004565304368820605,
          0.009037478504107258,
          0.008524600926044547,
          0.010796217547000941,
          0.0180723306248753,
          0.010227838181996275,
          0.00863034069749883,
          0.012113203322525336,
          0.011360075805432732,
          0.02010263956173312,
          0.0072056182249028294,
          0.014883628808690937,
          0.021307248354123353,
          0.0043387301733616365,
          0.014969868800724255,
          0.015700620270983665,
          0.016871119785718754,
          0.0075538795858365385,
          0.00412864473580532,
          0.018368007436815464,
          0.014259040240291607,
          0.0019451505820904103,
          0.01209294457159911,
          0.011068787386194955,
          0.026987733320422484,
          0.011800240255332599,
          0.009089135792299153,
          0.006420628888515205,
          0.018882453097095936,
          0.012426742101464485,
          0.0031071616285392595,
          0.020560979696503813,
          0.02381225960971244,
          0.007274719254998625,
          0.018282783740782783,
          0.009579002423741257,
          0.005989779482363366,
          0.02118798634264388,
          0.015098454007908834,
          0.016437487844694974,
          0.007427143993205808,
          0.01487958092761222,
          0.016614916002798828,
          0.017532500453095998,
          0.007599585204876767,
          0.02176656713104623,
          0.012338617655108526,
          0.014044793238957158,
          0.0007367925638310513,
          0.008253108867270924,
          0.01484686081275615,
          0.002199247758414501,
          0.009045760682933933,
          0.004214817089817004,
          0.014106096409945534,
          0.0025725431735459867,
          0.003545796265772283,
          0.020153937244209347,
          0.018227490088397903,
          0.003543705322388055,
          0.003471002806713669,
          0.016218776905873988,
          0.016053453022867464,
          0.007740542804619766,
          0.012079053807819193,
          0.015716032733090912,
          0.004569678902536813,
          0.010053734057625103,
          0.01423553719008262,
          0.01220513343231453,
          0.018707509084441014,
          0.001988201409397909,
          0.022821930382190922,
          0.0058987380970813505,
          0.00917855542611351,
          0.008968035545281021,
          0.021869248739798695,
          0.015413369430912666,
          0.013973041611379158,
          0.004829916591297372,
          0.017195804957464818,
          0.0016166758984449215,
          0.012310768499622607,
          0.01363572160728218,
          0.016828201712889693,
          0.0033377078855074613,
          0.008743131108242656,
          0.009199114076342604,
          0.004541129068966712,
          0.004997104771808716,
          -0.0018812510462907703,
          0.01542776046210622,
          0.006632203412521485,
          7.65570560060675e-05,
          0.010056869031300635,
          0.0077753313237162135,
          0.01013431309983336,
          0.015935923350502576,
          0.011364978989097718,
          0.025085306525141213,
          0.012016699708239632,
          0.00562184056809855,
          0.010210626359214409,
          0.018646231023066832,
          -0.0035900787177296292,
          0.012734104277539888,
          0.021707916245752593,
          0.007330047589297402,
          0.014519823416938516,
          0.02028401909242069,
          0.013920420692504504,
          0.004149361872857665,
          0.01535337515109639,
          0.006735248068256046,
          0.01190640618843189,
          0.012437678719367119,
          0.012567858446868852,
          0.00793375748502996,
          0.02269552759363747,
          0.013023215837247394,
          0.015115191614050498,
          0.026116109546734538,
          0.02381648393358987,
          0.015031099675578991,
          0.015621839625294204,
          0.018045720229062798,
          0.005094269867468039,
          0.01646012037833186,
          0.020029119017876178,
          0.00784503921397122,
          0.008277844067796473,
          0.018623445832907946,
          0.006881988097229966,
          0.006445617269416368,
          0.012666067110733351,
          0.005855161156188031,
          0.01525646883416698,
          0.011559892492397403,
          0.010667078888522544,
          0.019426397058701615,
          0.0051074693946387,
          0.012784338396216371,
          0.012756260611039991,
          0.013227518569475488,
          0.02472885522247488,
          0.019614651346110186,
          0.013694727615255364,
          0.01143300288017343,
          0.01526209069977173,
          0.009052190373174637,
          0.007094830691642601,
          0.017116418881379006,
          0.016311229768294445,
          0.02269987065982359,
          0.02075722543352604,
          0.017477447332296506,
          0.0160157097654494,
          0.020695245167901666,
          0.011396587750150407,
          -0.0016519991834683355,
          0.007879278804067212,
          0.0110477691275771,
          0.012083183144125934,
          0.007886907268483213,
          0.013503915783055596,
          0.020819570732394335,
          0.022177490331187905,
          0.007931458916451375,
          0.013903428819444355,
          0.01367840947291131,
          0.019958249817005256,
          0.006852023250823396,
          0.0024709110099443016,
          0.018394187507986576,
          0.00781448861597666,
          0.012110646350998809,
          0.010187886071115697,
          0.010015369375547652,
          0.013030009278316,
          0.0022236909199289806,
          0.012792711275046598,
          0.009335161343794897,
          0.010533694928420864,
          0.015001331870533124,
          0.014568143247388601,
          0.010017264198922807,
          0.01582241347304908,
          0.0065709856598159255,
          0.008508705195679908,
          0.01216508540864459,
          0.01627343176175508,
          0.009530304615979542,
          0.001545218885247071,
          0.014720397428404454,
          0.0023207018512155925,
          0.006413754826053698,
          0.0017597766609586032,
          0.010804725984157555,
          0.020680522964765597,
          0.008631229256922833,
          0.01720313593705708,
          0.011517689646973979,
          0.008903906398329227,
          0.011129731941886663,
          0.013303151867787879,
          0.01961829227134665,
          0.014032171729669828,
          0.0241040205604513,
          0.019395819906086048,
          0.008706044529245624,
          0.016524763767907402,
          0.015908597374395393,
          0.008984852575675079,
          0.015824268225277268,
          0.009144832498280788,
          0.012428370240672905,
          0.014448561439146856,
          0.006437250160309504,
          0.01044813785436354,
          0.007580073880921266,
          0.018436192266231822,
          0.015787317688996407,
          0.012906296195734138,
          0.0038798110372487288,
          0.017277171072044295,
          0.004715047416846095,
          0.008262614947879866,
          0.016002820349084658,
          0.014750690432414552,
          0.012210712132179505,
          0.00875457267236781,
          0.0070097339247510125,
          0.019932961036311682,
          0.015045946650566789,
          0.007559095482833476,
          0.007190905805254992,
          0.01683012818391343,
          0.01957117667304188,
          0.017216165914767892,
          0.016693923065132094,
          0.015051574422047614,
          0.017010832704589446,
          0.01995920833513161,
          0.0018638974625785273,
          0.007411108714286495,
          0.006124065321507166,
          0.0054151838671411615,
          0.0031213170772639003,
          0.012673383833478956,
          0.013863392242088761,
          0.00814867047873022,
          0.00804238927011848,
          0.00875056394641811,
          0.006856976767834269,
          0.010431027238039726,
          0.018846019681022876,
          0.01440446873640256,
          0.0062536960599835,
          0.015944691246516804,
          0.009673945896932167,
          0.006882445533338499,
          0.009684839271757206,
          0.013365016635237675,
          0.007675118402002435,
          0.010561315496098074,
          0.012063796271070404,
          0.0025904996503864127,
          0.004154204178698837,
          0.008998272785577754,
          0.016467468241545127,
          0.011894332497853786,
          0.015019675248683473,
          0.012609121407199136,
          0.019660444371964833,
          0.007789453526720773,
          0.010319078324020617,
          0.007109055415528226,
          0.017727505972598548,
          0.019862336411346677,
          0.02165451273794851,
          0.011942572500784926,
          0.015304309134645347,
          0.012604847069963357,
          0.021888296041308087,
          0.008167571938972634,
          0.004251304355528786,
          0.008952339716947002,
          0.01339223148590684,
          0.019192160120526852,
          0.025149225717272784,
          0.02118738887976527,
          0.013005920631144773,
          0.01708979153982202,
          0.01587791690882505,
          0.01554302007757859,
          0.011126713295486645,
          0.01628217526928398,
          0.01763266597855235,
          0.02277660506810901,
          0.013431906307501556,
          0.004306959277493921,
          0.016788755531424414,
          0.017226587242279906,
          0.007434065836140324,
          0.01606101212388948,
          0.005598550481860257,
          0.018321856919783726,
          0.018824563588282283,
          0.010150776614188676,
          0.014675246360497881,
          0.0045365055654523305,
          0.00451057676129471,
          0.013836425551902374,
          0.01923677825309882,
          0.003138766080510603,
          0.009711180827129087,
          0.013765624109672341,
          0.008550880352041388,
          0.012987537831582727,
          0.015590012113185323,
          0.01469090124251686,
          0.0024005234446531007,
          0.011881226053639848,
          0.014081014640658807,
          0.018111302266437306,
          0.012161172899938533,
          0.017905438733125615,
          0.019980861709791124,
          0.016150351720161504,
          0.006572189837632185,
          0.017008595119085902,
          0.022286663545811568,
          0.014145703511540215,
          0.01266945753080908,
          0.0138405085902376,
          0.010516994664900478,
          0.019803846434729995,
          0.015583993635123743,
          0.01761808390285205,
          0.014805293755982891,
          0.017174353166035418,
          0.008864047398744987,
          0.02060572819920682,
          0.008138776212723742,
          0.016465785381026367,
          0.016470297820457787,
          0.01624582684601444,
          0.005234887110269242,
          0.019546400955777546,
          0.0007933627820254537,
          0.009134828613064715,
          0.014538622627504981,
          0.01274356873668685,
          0.004791044052008478,
          0.013119463283759809,
          0.02011085974445167,
          0.009937351175222176,
          0.021887094511660557,
          0.011695534775661993,
          0.016724330047882895,
          0.008330085453349588,
          0.00235405113243314,
          0.0013788639148053887,
          0.011264151355602589,
          0.021285821752927044,
          0.010641799155842659,
          0.014054000921517418,
          0.006199107910576159,
          0.010327730200028834,
          0.005355621881682128,
          0.011064487892811944,
          0.01276222016525291,
          0.015692244322930274,
          0.011342056728771546,
          0.018899304294900866,
          0.0154852551108728,
          0.013869837884245154,
          0.020073407123866256,
          0.014930074145518037,
          0.02179565254301084,
          0.01735956360969352,
          0.014598409143119648,
          0.004750259424555776,
          7.907755833425067e-06,
          0.010214755032381811,
          0.005542090258727331,
          0.012930157099546483,
          0.008092791670658864,
          0.007002541360788289,
          0.016981219375748938,
          0.01510866262811649,
          0.01097171740408455,
          0.012353684071323104,
          0.012312617357521781,
          0.01939807428235138,
          0.004483358417014124,
          0.012382906851033233,
          0.016428408874110782,
          0.006406325432201793,
          0.01756962665462876,
          0.01494906302004189,
          0.011910779668317807,
          0.005243240350717448,
          0.011586821857018183,
          0.0076788099671057,
          0.021697493182557297,
          0.01439222546257233,
          0.006745055421224878,
          0.009243512147415592,
          0.012511585378857326,
          0.013005664349131096,
          0.009235031548584832,
          0.011408964094784396,
          0.006981661464003391,
          0.013139208518364007,
          0.006228269372932034,
          0.007840195611181305,
          0.010732896201905266,
          0.014531896280225423,
          0.012190310336229852,
          0.014315485235984776,
          0.008539092116436844,
          0.011790799471891789,
          0.008072393822393796,
          0.00875581417891632,
          0.017260395395991536,
          0.017030739904838173,
          0.017041573843532908,
          0.006845023662556193,
          0.004833352138102281,
          0.015770268515407096,
          0.008185654386030508,
          0.010885602264290986,
          0.012163730054116001,
          0.014139594625169442,
          0.0035194906474963136,
          0.015397593530590128,
          0.009650234552920935,
          0.019108214629128636,
          0.008696145533141145,
          0.0027834870895545455,
          0.014239308542112313,
          0.012044850912811517,
          0.018671018153095555,
          -0.0011290306820403023,
          0.017211460760679816,
          0.014164509711093348,
          0.009629853343484103,
          0.0072192378041141606,
          0.013864554795504039,
          0.0005041891417445904,
          0.01872686506257857,
          0.016688123134292396,
          0.01900220568266059,
          0.007391588663827591,
          0.01005964293845757,
          0.011155183575644448,
          0.014765083157430817,
          0.019077764420338546,
          0.011664650631517483,
          0.019179363466245786,
          0.01639915246387548,
          0.01269908153268581,
          0.016330775385923854,
          0.01504294521118551,
          0.013159439197383365,
          0.010916008189641349,
          0.01676007304429787,
          0.01349565480063196,
          0.016896350906721397,
          0.007395526764346058,
          0.0019363902182535642,
          0.004379254656926124,
          0.006089464530409993,
          0.019348241784539467,
          0.012916787140218614,
          0.010452985466643375,
          0.009153074268183535,
          0.010448252465433905,
          0.009727688202566073,
          0.006497205554804646,
          0.012384498986945679,
          3.5554965350081263e-05,
          0.018162835814411273,
          0.01549985464096314,
          0.016990874307326938,
          0.01409076072406756,
          0.010054670159030638,
          0.024823035342662038,
          0.016019132058523858,
          0.014858834512578585,
          0.01611694634468456,
          0.012739917445897368,
          0.019397593231320398,
          0.010446522240911263,
          0.007225104511214761,
          0.0041590981613956746,
          0.0004252596306947472,
          0.01954462381967715,
          0.017709759674779016,
          0.019598512899919936,
          0.019629186112267785,
          0.008388833001092395,
          0.011744301562277674,
          0.01128641332701686,
          0.012889436443069389,
          0.012756699769706514,
          -0.0017318167891546901,
          0.013564368101203081,
          0.011078756058158322,
          0.01423352702721186,
          0.01864325616680844,
          0.00728911084572797,
          0.009393030486941744,
          0.019763424936842737,
          0.017600320426766118,
          0.01855326424508873,
          0.0033939335869727187,
          0.016602542721621774,
          0.011409428642695646,
          0.013703897740272178,
          0.01213529565212115,
          0.006175204692529078,
          0.008423405372562205,
          0.01297744845360825,
          0.014288183022660751,
          0.008317516972843483,
          0.0067857055365017314,
          0.01940584078417467,
          0.006469629704734234,
          0.010070605388290785,
          0.010118185208203949,
          0.009640415335758698,
          0.013639193809609526,
          0.0077117784372717196,
          0.021483262383900865,
          0.021891552554430958,
          0.007481065334997941,
          0.012388718937158566,
          0.01236708830319357,
          -0.00031788488591494996,
          0.009369932391351955,
          0.01373798874621271,
          0.017550246872593923,
          0.011329442408309687,
          0.017580017059325284,
          0.012333570162081664,
          0.012055824806520336,
          0.00868873634162827,
          0.010670853407645245,
          0.010655108492599465,
          0.008444776141963168,
          0.010507689827739024,
          0.0069187151803575715,
          0.015872489941449828,
          0.015526339027126888,
          0.010178532859624709,
          0.01205349439171692,
          0.00164468903919876,
          0.0063147936816767836,
          0.014541232290831239,
          0.012086395969176012,
          0.013374684405100808,
          0.014666588013213779,
          0.01326040006029687,
          0.01100241150241145,
          0.006263565740009892,
          0.015061783099763838,
          0.008556834075848577,
          0.008829586918011723,
          0.0062612508999784966,
          0.02633782919097899,
          0.0206363417293709,
          0.011735354238816735,
          -0.0031809924435270715,
          0.011017058247420428,
          0.007707394888497997,
          0.00916930007888036,
          0.012746673928265673,
          0.019215477398736712,
          0.007175419777276147,
          0.006436641752129312,
          0.01246400593021884,
          0.003328611044128257,
          0.010285763615182311,
          0.006404960272665714,
          0.01600363855036495,
          0.01633806858139476,
          0.007085855343266407,
          0.009990812691402267,
          0.012941540153084984,
          0.015792083965772058,
          0.009714543665156512,
          0.019986765858152723,
          0.019904714605092255,
          0.01021314823079654,
          0.00869883355620135,
          0.021277138224098095,
          0.010555237701809302,
          0.011953511902219632,
          0.0019622448473424446,
          0.01772403538921038,
          0.01506143875933885,
          0.007972046706768543,
          0.010518250649790915,
          0.007237412949797267,
          0.00568112693873063,
          0.008254353191932396,
          0.00450308467002365,
          0.008274071606140583,
          0.009666858269577002,
          0.016166057699816737,
          0.012443938951587913,
          -0.0032050811020142914,
          0.015523342974524672,
          0.009501141077475031,
          0.021398560927500872,
          0.011000771468999363,
          0.012543857874055117,
          0.01810063515202011,
          0.013896858015770059,
          0.005782178217821739,
          0.013066447713462468,
          0.023435330785499534,
          0.005225276746477103,
          0.01808147714595653,
          0.013636962285569681,
          0.00707671118964703,
          0.006420615098312904,
          0.009252910829231305,
          0.021414824747988375,
          0.009247558029618751,
          0.019929837148145557,
          0.024415272932485126,
          0.015431398579462609,
          0.02551840306506955,
          0.0177134129472519,
          0.012604592164837787,
          0.009842261555435555,
          0.015242960103534514,
          0.006607430477657897,
          0.010908521574701967,
          0.004683995624243126,
          0.013703959258123777,
          0.019643701364471848,
          0.014352994279662877,
          0.012743893532184313,
          0.014054610267906336,
          0.007993892890933944,
          0.00893742741435109,
          0.010034465003973085,
          0.013437746587709052,
          0.018821627182738266,
          0.017154892863975528,
          0.014883590526691779,
          0.015079333707431815,
          0.025873974671921273,
          0.010596950960916014,
          0.02264323440306714,
          0.015731044655887594,
          0.015043071498150658,
          0.01021438452763488,
          0.010360622627020678,
          0.01352167201113209,
          0.011268667180920084,
          0.01579719816981781,
          0.007927672330914258,
          0.010528096158363868,
          0.009027311550302897,
          0.014682548375319425,
          0.016117828785910223,
          0.011628296031170708,
          0.015783937935052547,
          0.007449913721025405,
          0.013576555889139311,
          0.019568013545114532,
          0.016193944005424486,
          0.017510971178607913,
          0.019923591417489325,
          0.023812518101367655
         ],
         "xaxis": "x",
         "yaxis": "y"
        },
        {
         "alignmentgroup": "True",
         "bingroup": "x",
         "hovertemplate": "Distribution Type=Simulated Slopes (Null)<br>Slope Coefficient=%{x}<br>count=%{y}<extra></extra>",
         "legendgroup": "Simulated Slopes (Null)",
         "marker": {
          "color": "#EF553B",
          "pattern": {
           "shape": ""
          }
         },
         "name": "Simulated Slopes (Null)",
         "nbinsx": 50,
         "offsetgroup": "Simulated Slopes (Null)",
         "orientation": "v",
         "showlegend": true,
         "type": "histogram",
         "x": [
          0.0032496355465069238,
          -0.0011296098643802685,
          -0.0058724069650422615,
          0.00017482295707245193,
          0.005667750367372087,
          0.002201399590610908,
          -0.00774693406175605,
          0.0010742630715485499,
          0.005654914540337574,
          -0.00228213427060849,
          -5.472109912968122e-05,
          0.0010847235635721032,
          -0.004671282277127521,
          -0.009564004629935261,
          -0.01103659289054297,
          0.0014889181009941992,
          -0.004955257340401243,
          0.007943081871222798,
          -0.0011397345695626717,
          0.00011935864037015747,
          0.001213519449009686,
          -0.0016287546257338567,
          -0.006015319856499941,
          -0.0013680829582135264,
          -0.0022828882788261014,
          0.0002204752402064961,
          -0.012982435319265306,
          0.0017045577182891935,
          0.008562026700023602,
          -0.00021208559300766238,
          -0.007848320050710938,
          0.0038967643544741124,
          0.007179713044459036,
          -0.0009468876583648722,
          -0.0059248816250198,
          0.006016060212855292,
          -0.00774207993444455,
          -0.006736361623248169,
          -0.007509111139233432,
          0.0029832437589537865,
          0.001402735501973272,
          -0.003530606990715373,
          -0.009815103604226286,
          -0.0020029924670454877,
          -0.008274356067869247,
          -0.0036398375740169468,
          -0.009133444681304798,
          0.0038611143574584137,
          0.0003841980539245043,
          -0.004921865350492943,
          0.0054565206136266186,
          0.011831772612814314,
          0.00524233241369842,
          -0.0037576949883703433,
          0.0019478570765426918,
          -0.0094839917365648,
          0.0035057998095937657,
          0.002367846478941972,
          -0.005112936220356461,
          -0.001191897976563013,
          0.009135737684390906,
          -0.0017858235194717275,
          0.005082606712301771,
          0.009832187259502051,
          0.0005374057433381279,
          0.009846722831900107,
          -0.003893192007656138,
          -0.003307497825397212,
          0.003744618300729481,
          0.0025852440940252255,
          -0.004729140717963447,
          -0.0006571641418282967,
          -0.0003397314438046595,
          -0.01431272349429447,
          0.015540892111148456,
          0.005572995694716195,
          0.002176387068301238,
          -0.005639353081383087,
          0.00782296618398444,
          -0.0005707697466739519,
          0.003774631686827496,
          0.007748766619007287,
          0.0011437308545299242,
          -0.006251934442020375,
          -0.0045528481004360015,
          -0.007104055916761106,
          -0.010843465277626162,
          -0.001137540911385999,
          -0.0004969951568040152,
          0.0006450539692038036,
          -0.006888846566557013,
          -0.003968851307226982,
          -0.0025371980284597537,
          -0.006353556349707728,
          -0.006040623667019601,
          -0.0032418516955606087,
          0.00017629133966612972,
          0.004477002823030683,
          0.004227277612599019,
          -0.0037327505213289127,
          0.002413499792713677,
          -0.0020736663477475335,
          0.006377272872352744,
          -0.00485061335193668,
          0.008984532107157892,
          0.004087998746817437,
          0.0014410863045038473,
          -0.00692988996862663,
          0.0017487944628900983,
          -0.0022873474160681473,
          0.004542436813567585,
          -0.0023777948081395847,
          0.005027850033681055,
          -0.000429796768241464,
          0.009281799413061384,
          0.0030747037103273146,
          0.0019819345242666994,
          -0.0008028759385742996,
          -0.00025222661163915483,
          -0.00019275191471416022,
          0.002779746143017409,
          -0.0046869074758777995,
          0.005525201655042867,
          -0.006875926698558394,
          -0.0029622324401627634,
          0.0026154943312405986,
          0.005526432420098281,
          0.0052118785195446,
          -0.004841113806850928,
          0.003148098140825056,
          0.0018873183107296384,
          0.0007031593632250721,
          0.005758891063183759,
          -0.0023598002915581518,
          0.005176562700244597,
          0.0005003991142184931,
          -0.0037780194447761817,
          0.015626601316127645,
          -0.0038223009056847362,
          0.00043551047356726706,
          -0.0043547700395681595,
          0.0010316396073751736,
          0.007168354485135453,
          -0.007068626097496842,
          0.0076818091697968315,
          -0.00461229199057683,
          -0.0003012892950584479,
          -0.005719976901232403,
          -0.0026671070159183783,
          -0.007470930699993375,
          0.005010732718155041,
          -0.005365560114790917,
          -0.006184961886981994,
          0.009880046742667238,
          -0.010047746430127541,
          0.007792460946643962,
          0.0026760516214538177,
          0.0016695118083627798,
          0.00039666061255655633,
          -0.001180307899870386,
          0.000435628782208629,
          -0.014089281472364712,
          -0.005817370929111262,
          -0.00507479663221405,
          -0.004725931030158895,
          0.005049159250612835,
          8.851116995837321e-05,
          -0.001916233998156422,
          0.0031214539847083146,
          0.0021117774726692887,
          0.002921301936366902,
          0.0005106084728757876,
          0.0023413347932863854,
          -0.00505729630474083,
          -0.004179787226946188,
          0.0028852218441498415,
          -0.00042600532174486743,
          0.003084320376791387,
          0.0071886598563542774,
          -0.006336366286189215,
          -1.7732840904092356e-05,
          -0.0017551783118572683,
          -0.0031898962585261664,
          -0.0045725513614591415,
          0.007026233259120085,
          0.0022327037285389726,
          -0.005290618228350613,
          0.0020796790900989514,
          0.004696716713855246,
          -0.003240915624713881,
          0.0030734791613723387,
          -0.007750607227958806,
          0.004345621061549866,
          0.0028881703287883106,
          -0.004137620626560426,
          0.00807770454254678,
          -0.002006633102391339,
          -0.006192322777508951,
          -0.0026568639720985533,
          0.001549675287530182,
          -0.0032873376606163502,
          0.008778031310611788,
          0.014148510868175295,
          0.002644864835913152,
          -0.011514716266390768,
          0.0002452454929898931,
          0.005741346102313158,
          -0.0038170311477091004,
          0.0001707252593411751,
          0.0005811593601986404,
          -0.005942021445120105,
          0.005410389427631468,
          -0.0012887164570547266,
          0.002105280335344111,
          -0.0054809332501540315,
          0.007811242752205639,
          0.010694927015932073,
          -0.002395088101856322,
          -0.0012886704131262246,
          -0.007143489680269381,
          -0.007193457765860866,
          0.0079855269157619,
          0.0014431921067169888,
          -0.005668548349739197,
          -0.0075393216118020846,
          0.0007230104521175314,
          -0.0029048178226515767,
          0.00873086998787284,
          0.006388223597573397,
          -0.007492133088690199,
          -0.002887599429300663,
          -0.0061239665664393084,
          0.009329761052298834,
          -0.0006712570988525166,
          0.0046624225984752375,
          -0.008206573933084334,
          -0.001577917035168064,
          0.0032836531412027484,
          -0.0020596202390785645,
          -0.003676669467789598,
          -0.00270695093492498,
          -0.001958803093646622,
          -0.00015166281865821273,
          0.005407645056360698,
          0.005882320710998038,
          -0.006147505194008386,
          -0.004051062408305019,
          -7.512170731750235e-06,
          -0.0049248987540129055,
          0.002844136120795397,
          -0.01068556707339363,
          -0.001494043025655923,
          -0.005637566337454771,
          -0.006810776871047887,
          -0.007429178930838403,
          0.009386237125257041,
          -0.0027841360101964383,
          0.011176943546540478,
          -0.010307289752601818,
          -0.0026801870841257026,
          -0.0029262091867093207,
          0.007612875422987169,
          -0.0054512386768921384,
          -0.0027421798293486466,
          0.0018313215531328268,
          -0.009345490847602533,
          -0.00902542423377352,
          -0.0025667234554023434,
          0.002611850321813966,
          -0.012209146279681136,
          -0.009330294480148842,
          -0.0008324161031570861,
          0.0002561276239752227,
          -0.005440517725727161,
          0.0010316252563568177,
          0.002328480577595137,
          -0.009263301437038114,
          0.00023640410357236375,
          -0.011804061756481124,
          0.0003162316084654483,
          0.004264567993811761,
          0.003438266364511451,
          0.009054246735921596,
          -0.00764166747559165,
          -0.004562161127001453,
          -0.012019221593957644,
          0.008490237016664855,
          -0.0010285419479165968,
          -0.002646530346585572,
          -0.004645973940473651,
          0.001578026858523771,
          0.002115247422633644,
          -0.0041881502471613615,
          0.008102520790697128,
          -0.006941479953397544,
          0.0016218123049249085,
          -0.002861827086353942,
          0.0073999894573428164,
          -0.0009481892374477077,
          0.0005927185345799405,
          -0.006297522876803257,
          0.013942831547709488,
          0.0014458091637479641,
          0.0019101556981003897,
          -0.008510695092996097,
          -0.007739163963908011,
          -0.00854567786835947,
          -0.004966749961188349,
          -0.0030583934223693,
          0.008352184589250897,
          0.006826611818485443,
          -0.008031170257318945,
          0.003153543104492954,
          -0.001210033133833038,
          -0.006920220388348071,
          0.00100127994956919,
          0.00827049251783402,
          0.0003607805260139908,
          -0.007612171601983187,
          -0.00030067864002845013,
          -0.00454020563118435,
          -0.009362208716392567,
          0.0016623904141622294,
          -0.012857202010235233,
          -0.0039826542771496855,
          -0.008203345415927698,
          0.00533852925850548,
          -0.00957875048715396,
          -0.0038810519087342315,
          -0.003590824969313892,
          -0.006039486906091062,
          0.004464518387363373,
          0.0008094022974390784,
          -0.006275316675359859,
          -0.0023397536824926145,
          0.009913829872103725,
          -0.003277116014982744,
          -0.004314677228398729,
          0.012811699431648537,
          0.011586995594410216,
          -0.004922220548581946,
          -0.006432444829405063,
          -0.0034947778881589796,
          0.003272491155625742,
          -0.0029896576029809167,
          -0.008680249047921572,
          -0.0018607438785469138,
          0.00035417936138064723,
          -0.00416626018482076,
          -0.004010987861851224,
          -0.0032056914142047453,
          0.0010708248744633647,
          -0.005619681112561781,
          0.009102609257433995,
          0.001606913724429553,
          0.014030171398196059,
          0.0030309437071152434,
          -0.005978206257058429,
          0.0004175543423698127,
          -0.002643743680128339,
          0.006680457712526697,
          -0.013301422140050704,
          -0.0031508325806350614,
          -0.014898729356196447,
          -0.000928540215223558,
          0.00010466232509929963,
          -0.0016455644068611055,
          0.0046270168919889335,
          -0.0001859079086801653,
          -0.00042798348528168165,
          0.004621104896133531,
          0.009170648854148417,
          -0.0033099622556962667,
          0.00643161000856311,
          -2.434088483261286e-05,
          0.009540620206176331,
          -0.0013287118476089416,
          0.009857580505408787,
          -0.003381676058393694,
          0.002065723278717996,
          -0.006805032055983964,
          -0.003280855967275112,
          0.008887987567377301,
          0.0068675056223820394,
          -0.00453825919485586,
          0.0030676495112355404,
          0.005939825393865103,
          0.00346376441266718,
          0.006550743725976125,
          -0.004384879138788834,
          -0.0025817741745597905,
          0.0006760233401183723,
          0.0015507683090434819,
          0.0022340305642975337,
          -0.005776739079084384,
          -0.0019883295264522083,
          -6.915049158797131e-05,
          -0.004078851685097619,
          -0.004218763686430762,
          0.004908661584391419,
          -0.006386545210710439,
          0.0019950960074120927,
          0.0012913064115749355,
          -0.004403450680964953,
          0.010152150199304282,
          0.006590537915296741,
          -0.0020912333659905214,
          -0.00022373321459131894,
          0.005692489749520764,
          0.0083108264034566,
          -0.007422890084176829,
          -0.0015720314237213234,
          0.00836045003946111,
          0.0019802445711892156,
          0.0005605980071234293,
          0.002875246012617322,
          -0.0055840536115152085,
          0.0003981952329208298,
          0.002913386805037083,
          0.0035704530117812816,
          -0.0038441515957971344,
          0.007440412421633424,
          -0.002557096121738529,
          -0.00979305943486038,
          0.009271184617951763,
          0.0038187218059077296,
          0.0077536806602144,
          0.0027946158525084894,
          0.003338384363381671,
          0.002740742784769373,
          -0.0012303028257028698,
          0.003083769011786409,
          0.0004942069431921,
          -0.008076568062167014,
          -0.0079102997916747,
          -2.390696080911258e-05,
          0.012721331261157976,
          0.003847546948955861,
          -0.004820609855134279,
          -0.005373681688193135,
          0.010285327109979855,
          0.004850940467734913,
          0.003038380832313014,
          -0.006725950518700098,
          0.0015342382920915756,
          -0.003290628929775538,
          -0.014727658403540908,
          -0.0011513614246517869,
          -0.0004011312084896933,
          0.0036123096642047205,
          -0.0017266226222724407,
          0.008309672676364118,
          0.004065772352885615,
          0.015607557492542647,
          0.0018713138474696985,
          -0.008841976991243993,
          -0.004680854760918391,
          0.006763090982482973,
          -0.002034337165306757,
          0.009624823414242839,
          -0.007910348973596782,
          -0.00987414473888016,
          -0.003346238266221017,
          -0.002828965983296485,
          0.0035591019549106964,
          -0.010053257813915289,
          0.008607961451339241,
          -0.0035397563959644694,
          0.002969945366191444,
          0.004008962228631548,
          0.003371236006891926,
          -0.007183643486981278,
          -0.004994344055596827,
          0.008806243436457062,
          0.011377749457402223,
          9.11063655174493e-05,
          -0.0024249370704220244,
          -0.0010977299236293175,
          -0.007604029960641933,
          0.001627828936527831,
          0.0072985916245957225,
          0.007486739416088529,
          0.0006840211790067087,
          -0.0012731533657742208,
          0.0033262751145968516,
          0.004656803998448954,
          0.0022667954496477846,
          -0.001832317960242906,
          0.010874613776343054,
          0.00027228918016235573,
          -0.003948468884049051,
          0.007677927482302186,
          -0.000892424080483848,
          -0.004599498212401806,
          -0.014173487050880208,
          -0.004684979306869036,
          0.00022481620502441593,
          -0.004596424000845783,
          0.004152742991420426,
          -0.009803312883966468,
          0.002949111233823698,
          -0.01106826750115911,
          -0.006798710287159783,
          -0.0037554942274377334,
          0.00021098276344999438,
          -0.008924826695895283,
          0.0008207332272046272,
          0.0015677007701774032,
          -0.010177143197974359,
          -0.0007704469154701885,
          0.0020251325427635917,
          -0.003145471818082582,
          -0.001102460822948217,
          0.0066554944739444875,
          -0.007429875372302275,
          -0.004717336366790242,
          0.0038975742070888704,
          -0.011128793484764428,
          0.006377994695732641,
          0.0008786782043851372,
          -0.0034172036295169917,
          -0.005612816091875055,
          -0.0031319893187333366,
          -0.002677377152966546,
          -0.0028323845919653147,
          0.0004438663952824303,
          -0.0023408299331622293,
          -0.0019972167627990748,
          -0.00589668176981287,
          -0.006374112490436132,
          -0.00048476125852762097,
          0.006779978450582131,
          -0.006557148971973308,
          -0.007255240579275309,
          0.0036574601156341108,
          0.0031749406303791788,
          0.006362648246024673,
          -0.0008763861812924748,
          0.004284911738492185,
          -0.008128317763477612,
          -0.005209172818057675,
          -0.0022000331537012545,
          -0.006752922578515539,
          0.0036792281697297386,
          -0.014114984607937062,
          0.011111359930825224,
          -0.0004241415225305924,
          -0.0022269197737414714,
          0.004182408290396543,
          -0.002019083627650564,
          -0.007315565833696186,
          -0.007030977388539186,
          0.00476487823854694,
          0.005111751849705191,
          -0.006344896775952149,
          0.0028912650805234634,
          -0.0020280052625734632,
          -0.010334587840621329,
          0.006315098595469354,
          0.006596737289732122,
          0.007642629234798911,
          -0.0021198797785615575,
          -0.004404101174337887,
          -0.003299985146488399,
          0.0004484963159987476,
          0.003998478733893311,
          0.0005390194034257199,
          0.0016755957063213905,
          0.003194983769700177,
          0.002433331280859676,
          -0.005039747872414345,
          0.002130952977818199,
          -0.009593818639345563,
          -0.008721978408141097,
          -0.0032347216701944905,
          0.001041738852540863,
          0.011698731259166564,
          0.0001737104216381312,
          -0.003759114941652703,
          -0.004954849722742719,
          -0.00025990363805741736,
          -0.0026602230536775474,
          -5.943319755214935e-06,
          0.0007928065244634122,
          0.0029145978411404426,
          -0.0018919090227102016,
          0.004037297753941833,
          -0.0016338094635806573,
          -0.00477999617617747,
          -0.0018858672779797376,
          -0.0019295449190658385,
          0.0016944414284440386,
          0.007416114155452085,
          -0.004265140067474367,
          0.008380695223378538,
          -0.002221043410155554,
          0.012558344061978508,
          -3.348064775637004e-05,
          0.0005779636522000491,
          -0.0020947865297614044,
          0.004339856921896467,
          -0.0030309220326815113,
          0.011624266472144122,
          -0.005322925375000828,
          0.0071535929204286745,
          -0.005586028866521529,
          0.0048094900764343185,
          0.007231325871356106,
          0.00012345551033596074,
          -0.005992666759498771,
          0.005440008950074704,
          0.002083466455968455,
          0.0052732901613338715,
          0.003510927479910826,
          -0.00804236824681014,
          -0.0027583532607253747,
          -0.0024833971363311656,
          0.0005180094789332549,
          -0.002427200709970873,
          -0.005230351217201029,
          -0.0013052883387991514,
          0.00672007535345402,
          -0.0015378161713546015,
          0.004956111368613454,
          0.00925221100355219,
          -0.006802132527961187,
          -0.005147218859185379,
          -0.0022035640030063914,
          0.008579076011115063,
          -0.003971416127582001,
          0.014219919324529429,
          0.006418997513962512,
          0.005429246388536384,
          0.006676720839615515,
          0.0038681061090841146,
          0.0003738597002583494,
          0.003361862782148853,
          -0.007085887655653926,
          -0.008715461376688785,
          -0.002461454350973109,
          -0.0012127590285744808,
          0.0011828066534922427,
          -0.002833020813878914,
          0.001590599889872828,
          0.00314182377277769,
          -0.0015985166977574919,
          -0.00025046276085822876,
          0.0013025883737830773,
          0.002465238149127867,
          -0.0013485575713629416,
          -0.007256440172718481,
          0.0032031094871437745,
          0.0010113698555514247,
          0.0020055941724466666,
          0.0013189788037706813,
          0.01500582203579919,
          0.008451370469227363,
          0.0027093226110916396,
          0.003088266308873564,
          -0.005062269271219292,
          -7.318233175422455e-05,
          -0.008931359245522023,
          0.007219302577351366,
          -0.011317199752793043,
          0.004405578966940126,
          -0.001117066549383752,
          0.0021133969619496614,
          0.0031791771492899355,
          0.005283776496907437,
          -0.010203310304723573,
          -0.006504611493680428,
          0.0026243759562688536,
          0.00012796056420430555,
          0.004783553978525087,
          -0.0042338829286116845,
          -0.003291281775256691,
          -0.005574123681150169,
          -0.008216086077665854,
          -0.007583621952638234,
          0.003116609363627664,
          -0.002171970635943316,
          -0.0027347395450368437,
          -0.0017827168929855954,
          -0.004994546614416249,
          0.005909929444010362,
          -0.00039081692115522067,
          -0.0021071690898565305,
          -0.0018911343405280047,
          0.0022936344440879696,
          -0.0064127795757520645,
          -0.008302746508379673,
          -4.047022928293717e-05,
          -1.5290343364825557e-05,
          0.003925609272077608,
          -0.001646929895191408,
          0.004796839657184012,
          0.0015526334798703668,
          0.0017419001177109792,
          0.0033167379855724363,
          -0.002983375839020713,
          0.002695381229330383,
          -0.0036376109228910664,
          0.002376659081083607,
          0.00380215268847065,
          -0.0031285133788927174,
          0.0034429417990487887,
          -0.013391410299290571,
          0.0003996501222317968,
          0.002088951433555938,
          -0.011355487124724398,
          -0.015228136152323457,
          -0.011199109492830876,
          0.008445507804482492,
          0.004293395706347308,
          0.0006700951174631879,
          0.012494601403973972,
          -0.005061896568892171,
          -0.002466112835048482,
          -0.005992823147416021,
          0.007015600949702102,
          -0.0015140070836646923,
          0.0001272839983972253,
          0.005582723787713736,
          -0.0034788910507437083,
          0.0009009342501543119,
          -0.006006235388436241,
          -0.008845438350771244,
          0.0024466850973449217,
          -0.007516498488549039,
          6.763031454438181e-05,
          0.0068380974269105065,
          -0.0005774714338071096,
          9.54513893120382e-05,
          -0.011333820543123345,
          0.001701899948389412,
          -0.0019706383811253,
          0.0026333933544864588,
          -0.006518046836764552,
          -0.0029362174341818785,
          0.0009264585760144031,
          0.003079872695967454,
          0.0019038053838414254,
          0.005854140162428181,
          -0.006333730541670964,
          0.005740990114041359,
          -0.001830455797452898,
          -0.004010862606478235,
          0.00013025920527829802,
          0.0011747541663880948,
          0.0020020854912912037,
          0.008296645179199383,
          0.006014546725886628,
          0.008454740812862592,
          -0.01095008180499189,
          -0.006815402875875041,
          0.007005540559775223,
          -0.005585190376633829,
          0.010994898829977746,
          0.0014225685313198023,
          -0.011169013052900459,
          0.011983886335427164,
          0.003688710997863157,
          0.0101770291520705,
          0.0008786944295015625,
          -0.0021334931023435006,
          0.003387231343311007,
          -0.0009652004173934213,
          -0.012093335565494022,
          0.018102405812618606,
          0.016863083292385877,
          0.007907867185448773,
          -0.01050700198899683,
          -0.003165761241320233,
          -0.007914078846405015,
          0.0034611191653404465,
          0.004910194098086827,
          -0.006907848297266225,
          -0.001442572067356638,
          0.0037343532082444258,
          0.006022949732251451,
          -0.0017523836418307502,
          0.010119039111522843,
          0.004717057730371876,
          0.0023381027225648325,
          0.0009671283782643494,
          0.002667483274496531,
          0.007544540383427566,
          -0.011099100277825756,
          0.0009610067333013983,
          0.0022996912416816707,
          0.0026240974703578028,
          -0.007195233419903023,
          -0.009768356290449092,
          0.009690002452144169,
          0.00426356705716803,
          -0.005459984820574316,
          0.0037678849743210717,
          -0.004825899480161024,
          -0.001622537908795086,
          0.010470748407561074,
          -0.006478402744546848,
          0.0015013372980239043,
          0.0017516741515700334,
          0.008042416125089567,
          -0.009023118577997563,
          -0.005832828406902569,
          -0.0094390472447889,
          -0.00040822847404688514,
          -0.002842329298287498,
          -0.007499401563329818,
          -0.01029859714595241,
          -0.0012580412485493366,
          -0.005843435673627688,
          -0.0028460848659518194,
          -0.0031641599451838515,
          -0.00936561101203988,
          -0.011871789082394064,
          0.008642452850749065,
          0.00021128687519448306,
          -0.005877139014337613,
          0.004604159569225313,
          -0.0006623881065569645,
          -0.003642766385937609,
          -0.011552104758854743,
          -0.002058648076476194,
          0.0003736085465687014,
          0.00019221966756017075,
          0.0004837665946701001,
          -0.00023187090854224525,
          0.003865484687627871,
          -0.0035285369543170486,
          -0.0008089816407646656,
          0.0027393529446448897,
          -0.006770128155517288,
          0.008120560434555568,
          -0.003842718725672696,
          0.013748083187321111,
          0.004692559332131921,
          0.0062020490626554636,
          0.011101371180405743,
          0.001152907340280081,
          -0.016126921205355936,
          -0.00041936537435016685,
          -0.001699350207439092,
          -8.504755397839136e-05,
          0.0006220154749656771,
          -0.0005386158313517931,
          0.0001047659695411051,
          -0.005230122802327609,
          0.007571476753893297,
          -0.003012831627012627,
          -0.00011772151478931349,
          0.009011272251978465,
          -0.0035715132288283696,
          -0.0070890946211114875,
          -0.01315622506094836,
          0.003372128953863151,
          -0.005119976865961525,
          0.0008988195612217708,
          -0.0030027695256348913,
          -0.007886594923525588,
          0.0036502225701395565,
          -0.007883365553802176,
          -0.007988101349795575,
          0.0020049613334705884,
          0.014949266591926453,
          -0.00844698786467667,
          0.005905771788561217,
          0.002408538033209388,
          0.006509016166410017,
          -0.008649285367733354,
          -0.003364730720994787,
          -0.006079708248043756,
          -0.0014223184464399697,
          -0.010464488333277183,
          0.003225689676358537,
          -0.0027532099964063294,
          -0.002848352146043024,
          0.01046195390038638,
          -0.00854610875975419,
          -0.0029557349661326754,
          0.0054797893963455645,
          -0.019681741438757193,
          0.0015577378108286798,
          -9.233451367463529e-05,
          0.000168591783136887,
          -0.006777871121402676,
          0.001715858090397677,
          -0.00345479037536389,
          -0.0003788171523149294,
          0.004047192696216559,
          0.0006410277306792707,
          -0.00503008029439566,
          -0.0004853044345969563,
          0.008286102485120635,
          0.0073628561735720344,
          0.0018132485878442402,
          -0.0015776821223442991,
          -0.002541127673328185,
          0.005536948758502478,
          0.014774077211760408,
          0.001954666061686038,
          -0.007218817925342085,
          0.009418321822301855,
          -0.004046300929322098,
          -0.004308137553633584,
          -0.001498925014176158,
          -0.005916296967949286,
          -0.012762919010068343,
          -0.0037466564957277927,
          -0.00011131784493126611,
          -0.000745407100692892,
          -0.003123084465557643,
          -0.0018639621187772218,
          0.010614765460665412,
          0.0025055625483290213,
          0.0046293530252348,
          -0.0014027792108496251,
          -0.0008783690463577717,
          0.0015278036593993334,
          0.0026462507482544174,
          0.008431154647961537,
          0.0004778542422717313,
          -0.0010249294598497715,
          0.0032941204319314,
          0.007298646113316436,
          -0.0016840846144745851,
          -0.0014608023538101311,
          -0.0076129600171110584,
          0.006690757487832433,
          0.010406299793011468,
          0.007469028629767128,
          0.0026105595240672195,
          -0.00435136124444024,
          -0.00910208349913299,
          -0.009724784071226076,
          -0.001667961776014833,
          -0.006671898822968871,
          -0.006949812953145909,
          3.765433951382095e-05,
          -0.002295326558980208,
          0.008964326241009079,
          0.0030893246518410625,
          -0.005994993932773821,
          -0.010058693146049812,
          -0.0036282456924585033,
          0.007819405780899107,
          -0.002404605935768235,
          -0.008002610624221352,
          0.0027424615412157596,
          -0.0003930432920411682,
          0.012673760537684018,
          0.003960867422077379,
          -0.0033842938952983914,
          -0.00271385296939106,
          0.0011252818821130342,
          0.00393278842413102,
          -0.00820905045572791,
          0.0020533232732127074,
          0.0007061716504194997,
          0.0002024721905082615,
          -0.005882447379611861,
          -0.009700823270975267,
          -0.0008131213125105695,
          -0.0036607918276159355,
          0.003902163402615311,
          0.006723673716149101,
          -0.005114338615522586,
          0.006610441273746374,
          -0.002098816010290435,
          -0.004010510755718205,
          0.004345638720837052,
          -0.004005571134494305,
          0.002271689477473751,
          0.009969451223924801,
          -0.0008171739631097803,
          -0.005268461314776342,
          -0.0029495025313846877,
          0.010907866363268622,
          0.008637917725170413,
          -0.000421690670968854,
          -0.00045049981454309057,
          -0.004391210927037741,
          -0.013013570053298661,
          -0.006047256871635976,
          0.003486624362696568,
          -0.01060440973094842,
          0.0063164010948163485,
          0.016592980956866222,
          -0.0064742539619678675,
          0.00172658539604079,
          -0.007207747482174111,
          -0.00511852256320869,
          0.0033301886226356162,
          -0.003122829130034396,
          0.001315895539096528,
          -0.0017998204446825201,
          0.0011333822821252663,
          -0.005170595740273665,
          0.003944138584423829
         ],
         "xaxis": "x",
         "yaxis": "y"
        }
       ],
       "layout": {
        "barmode": "relative",
        "legend": {
         "title": {
          "text": "Distribution Type"
         },
         "tracegroupgap": 0
        },
        "template": {
         "data": {
          "bar": [
           {
            "error_x": {
             "color": "#2a3f5f"
            },
            "error_y": {
             "color": "#2a3f5f"
            },
            "marker": {
             "line": {
              "color": "#E5ECF6",
              "width": 0.5
             },
             "pattern": {
              "fillmode": "overlay",
              "size": 10,
              "solidity": 0.2
             }
            },
            "type": "bar"
           }
          ],
          "barpolar": [
           {
            "marker": {
             "line": {
              "color": "#E5ECF6",
              "width": 0.5
             },
             "pattern": {
              "fillmode": "overlay",
              "size": 10,
              "solidity": 0.2
             }
            },
            "type": "barpolar"
           }
          ],
          "carpet": [
           {
            "aaxis": {
             "endlinecolor": "#2a3f5f",
             "gridcolor": "white",
             "linecolor": "white",
             "minorgridcolor": "white",
             "startlinecolor": "#2a3f5f"
            },
            "baxis": {
             "endlinecolor": "#2a3f5f",
             "gridcolor": "white",
             "linecolor": "white",
             "minorgridcolor": "white",
             "startlinecolor": "#2a3f5f"
            },
            "type": "carpet"
           }
          ],
          "choropleth": [
           {
            "colorbar": {
             "outlinewidth": 0,
             "ticks": ""
            },
            "type": "choropleth"
           }
          ],
          "contour": [
           {
            "colorbar": {
             "outlinewidth": 0,
             "ticks": ""
            },
            "colorscale": [
             [
              0,
              "#0d0887"
             ],
             [
              0.1111111111111111,
              "#46039f"
             ],
             [
              0.2222222222222222,
              "#7201a8"
             ],
             [
              0.3333333333333333,
              "#9c179e"
             ],
             [
              0.4444444444444444,
              "#bd3786"
             ],
             [
              0.5555555555555556,
              "#d8576b"
             ],
             [
              0.6666666666666666,
              "#ed7953"
             ],
             [
              0.7777777777777778,
              "#fb9f3a"
             ],
             [
              0.8888888888888888,
              "#fdca26"
             ],
             [
              1,
              "#f0f921"
             ]
            ],
            "type": "contour"
           }
          ],
          "contourcarpet": [
           {
            "colorbar": {
             "outlinewidth": 0,
             "ticks": ""
            },
            "type": "contourcarpet"
           }
          ],
          "heatmap": [
           {
            "colorbar": {
             "outlinewidth": 0,
             "ticks": ""
            },
            "colorscale": [
             [
              0,
              "#0d0887"
             ],
             [
              0.1111111111111111,
              "#46039f"
             ],
             [
              0.2222222222222222,
              "#7201a8"
             ],
             [
              0.3333333333333333,
              "#9c179e"
             ],
             [
              0.4444444444444444,
              "#bd3786"
             ],
             [
              0.5555555555555556,
              "#d8576b"
             ],
             [
              0.6666666666666666,
              "#ed7953"
             ],
             [
              0.7777777777777778,
              "#fb9f3a"
             ],
             [
              0.8888888888888888,
              "#fdca26"
             ],
             [
              1,
              "#f0f921"
             ]
            ],
            "type": "heatmap"
           }
          ],
          "heatmapgl": [
           {
            "colorbar": {
             "outlinewidth": 0,
             "ticks": ""
            },
            "colorscale": [
             [
              0,
              "#0d0887"
             ],
             [
              0.1111111111111111,
              "#46039f"
             ],
             [
              0.2222222222222222,
              "#7201a8"
             ],
             [
              0.3333333333333333,
              "#9c179e"
             ],
             [
              0.4444444444444444,
              "#bd3786"
             ],
             [
              0.5555555555555556,
              "#d8576b"
             ],
             [
              0.6666666666666666,
              "#ed7953"
             ],
             [
              0.7777777777777778,
              "#fb9f3a"
             ],
             [
              0.8888888888888888,
              "#fdca26"
             ],
             [
              1,
              "#f0f921"
             ]
            ],
            "type": "heatmapgl"
           }
          ],
          "histogram": [
           {
            "marker": {
             "pattern": {
              "fillmode": "overlay",
              "size": 10,
              "solidity": 0.2
             }
            },
            "type": "histogram"
           }
          ],
          "histogram2d": [
           {
            "colorbar": {
             "outlinewidth": 0,
             "ticks": ""
            },
            "colorscale": [
             [
              0,
              "#0d0887"
             ],
             [
              0.1111111111111111,
              "#46039f"
             ],
             [
              0.2222222222222222,
              "#7201a8"
             ],
             [
              0.3333333333333333,
              "#9c179e"
             ],
             [
              0.4444444444444444,
              "#bd3786"
             ],
             [
              0.5555555555555556,
              "#d8576b"
             ],
             [
              0.6666666666666666,
              "#ed7953"
             ],
             [
              0.7777777777777778,
              "#fb9f3a"
             ],
             [
              0.8888888888888888,
              "#fdca26"
             ],
             [
              1,
              "#f0f921"
             ]
            ],
            "type": "histogram2d"
           }
          ],
          "histogram2dcontour": [
           {
            "colorbar": {
             "outlinewidth": 0,
             "ticks": ""
            },
            "colorscale": [
             [
              0,
              "#0d0887"
             ],
             [
              0.1111111111111111,
              "#46039f"
             ],
             [
              0.2222222222222222,
              "#7201a8"
             ],
             [
              0.3333333333333333,
              "#9c179e"
             ],
             [
              0.4444444444444444,
              "#bd3786"
             ],
             [
              0.5555555555555556,
              "#d8576b"
             ],
             [
              0.6666666666666666,
              "#ed7953"
             ],
             [
              0.7777777777777778,
              "#fb9f3a"
             ],
             [
              0.8888888888888888,
              "#fdca26"
             ],
             [
              1,
              "#f0f921"
             ]
            ],
            "type": "histogram2dcontour"
           }
          ],
          "mesh3d": [
           {
            "colorbar": {
             "outlinewidth": 0,
             "ticks": ""
            },
            "type": "mesh3d"
           }
          ],
          "parcoords": [
           {
            "line": {
             "colorbar": {
              "outlinewidth": 0,
              "ticks": ""
             }
            },
            "type": "parcoords"
           }
          ],
          "pie": [
           {
            "automargin": true,
            "type": "pie"
           }
          ],
          "scatter": [
           {
            "fillpattern": {
             "fillmode": "overlay",
             "size": 10,
             "solidity": 0.2
            },
            "type": "scatter"
           }
          ],
          "scatter3d": [
           {
            "line": {
             "colorbar": {
              "outlinewidth": 0,
              "ticks": ""
             }
            },
            "marker": {
             "colorbar": {
              "outlinewidth": 0,
              "ticks": ""
             }
            },
            "type": "scatter3d"
           }
          ],
          "scattercarpet": [
           {
            "marker": {
             "colorbar": {
              "outlinewidth": 0,
              "ticks": ""
             }
            },
            "type": "scattercarpet"
           }
          ],
          "scattergeo": [
           {
            "marker": {
             "colorbar": {
              "outlinewidth": 0,
              "ticks": ""
             }
            },
            "type": "scattergeo"
           }
          ],
          "scattergl": [
           {
            "marker": {
             "colorbar": {
              "outlinewidth": 0,
              "ticks": ""
             }
            },
            "type": "scattergl"
           }
          ],
          "scattermapbox": [
           {
            "marker": {
             "colorbar": {
              "outlinewidth": 0,
              "ticks": ""
             }
            },
            "type": "scattermapbox"
           }
          ],
          "scatterpolar": [
           {
            "marker": {
             "colorbar": {
              "outlinewidth": 0,
              "ticks": ""
             }
            },
            "type": "scatterpolar"
           }
          ],
          "scatterpolargl": [
           {
            "marker": {
             "colorbar": {
              "outlinewidth": 0,
              "ticks": ""
             }
            },
            "type": "scatterpolargl"
           }
          ],
          "scatterternary": [
           {
            "marker": {
             "colorbar": {
              "outlinewidth": 0,
              "ticks": ""
             }
            },
            "type": "scatterternary"
           }
          ],
          "surface": [
           {
            "colorbar": {
             "outlinewidth": 0,
             "ticks": ""
            },
            "colorscale": [
             [
              0,
              "#0d0887"
             ],
             [
              0.1111111111111111,
              "#46039f"
             ],
             [
              0.2222222222222222,
              "#7201a8"
             ],
             [
              0.3333333333333333,
              "#9c179e"
             ],
             [
              0.4444444444444444,
              "#bd3786"
             ],
             [
              0.5555555555555556,
              "#d8576b"
             ],
             [
              0.6666666666666666,
              "#ed7953"
             ],
             [
              0.7777777777777778,
              "#fb9f3a"
             ],
             [
              0.8888888888888888,
              "#fdca26"
             ],
             [
              1,
              "#f0f921"
             ]
            ],
            "type": "surface"
           }
          ],
          "table": [
           {
            "cells": {
             "fill": {
              "color": "#EBF0F8"
             },
             "line": {
              "color": "white"
             }
            },
            "header": {
             "fill": {
              "color": "#C8D4E3"
             },
             "line": {
              "color": "white"
             }
            },
            "type": "table"
           }
          ]
         },
         "layout": {
          "annotationdefaults": {
           "arrowcolor": "#2a3f5f",
           "arrowhead": 0,
           "arrowwidth": 1
          },
          "autotypenumbers": "strict",
          "coloraxis": {
           "colorbar": {
            "outlinewidth": 0,
            "ticks": ""
           }
          },
          "colorscale": {
           "diverging": [
            [
             0,
             "#8e0152"
            ],
            [
             0.1,
             "#c51b7d"
            ],
            [
             0.2,
             "#de77ae"
            ],
            [
             0.3,
             "#f1b6da"
            ],
            [
             0.4,
             "#fde0ef"
            ],
            [
             0.5,
             "#f7f7f7"
            ],
            [
             0.6,
             "#e6f5d0"
            ],
            [
             0.7,
             "#b8e186"
            ],
            [
             0.8,
             "#7fbc41"
            ],
            [
             0.9,
             "#4d9221"
            ],
            [
             1,
             "#276419"
            ]
           ],
           "sequential": [
            [
             0,
             "#0d0887"
            ],
            [
             0.1111111111111111,
             "#46039f"
            ],
            [
             0.2222222222222222,
             "#7201a8"
            ],
            [
             0.3333333333333333,
             "#9c179e"
            ],
            [
             0.4444444444444444,
             "#bd3786"
            ],
            [
             0.5555555555555556,
             "#d8576b"
            ],
            [
             0.6666666666666666,
             "#ed7953"
            ],
            [
             0.7777777777777778,
             "#fb9f3a"
            ],
            [
             0.8888888888888888,
             "#fdca26"
            ],
            [
             1,
             "#f0f921"
            ]
           ],
           "sequentialminus": [
            [
             0,
             "#0d0887"
            ],
            [
             0.1111111111111111,
             "#46039f"
            ],
            [
             0.2222222222222222,
             "#7201a8"
            ],
            [
             0.3333333333333333,
             "#9c179e"
            ],
            [
             0.4444444444444444,
             "#bd3786"
            ],
            [
             0.5555555555555556,
             "#d8576b"
            ],
            [
             0.6666666666666666,
             "#ed7953"
            ],
            [
             0.7777777777777778,
             "#fb9f3a"
            ],
            [
             0.8888888888888888,
             "#fdca26"
            ],
            [
             1,
             "#f0f921"
            ]
           ]
          },
          "colorway": [
           "#636efa",
           "#EF553B",
           "#00cc96",
           "#ab63fa",
           "#FFA15A",
           "#19d3f3",
           "#FF6692",
           "#B6E880",
           "#FF97FF",
           "#FECB52"
          ],
          "font": {
           "color": "#2a3f5f"
          },
          "geo": {
           "bgcolor": "white",
           "lakecolor": "white",
           "landcolor": "#E5ECF6",
           "showlakes": true,
           "showland": true,
           "subunitcolor": "white"
          },
          "hoverlabel": {
           "align": "left"
          },
          "hovermode": "closest",
          "mapbox": {
           "style": "light"
          },
          "paper_bgcolor": "white",
          "plot_bgcolor": "#E5ECF6",
          "polar": {
           "angularaxis": {
            "gridcolor": "white",
            "linecolor": "white",
            "ticks": ""
           },
           "bgcolor": "#E5ECF6",
           "radialaxis": {
            "gridcolor": "white",
            "linecolor": "white",
            "ticks": ""
           }
          },
          "scene": {
           "xaxis": {
            "backgroundcolor": "#E5ECF6",
            "gridcolor": "white",
            "gridwidth": 2,
            "linecolor": "white",
            "showbackground": true,
            "ticks": "",
            "zerolinecolor": "white"
           },
           "yaxis": {
            "backgroundcolor": "#E5ECF6",
            "gridcolor": "white",
            "gridwidth": 2,
            "linecolor": "white",
            "showbackground": true,
            "ticks": "",
            "zerolinecolor": "white"
           },
           "zaxis": {
            "backgroundcolor": "#E5ECF6",
            "gridcolor": "white",
            "gridwidth": 2,
            "linecolor": "white",
            "showbackground": true,
            "ticks": "",
            "zerolinecolor": "white"
           }
          },
          "shapedefaults": {
           "line": {
            "color": "#2a3f5f"
           }
          },
          "ternary": {
           "aaxis": {
            "gridcolor": "white",
            "linecolor": "white",
            "ticks": ""
           },
           "baxis": {
            "gridcolor": "white",
            "linecolor": "white",
            "ticks": ""
           },
           "bgcolor": "#E5ECF6",
           "caxis": {
            "gridcolor": "white",
            "linecolor": "white",
            "ticks": ""
           }
          },
          "title": {
           "x": 0.05
          },
          "xaxis": {
           "automargin": true,
           "gridcolor": "white",
           "linecolor": "white",
           "ticks": "",
           "title": {
            "standoff": 15
           },
           "zerolinecolor": "white",
           "zerolinewidth": 2
          },
          "yaxis": {
           "automargin": true,
           "gridcolor": "white",
           "linecolor": "white",
           "ticks": "",
           "title": {
            "standoff": 15
           },
           "zerolinecolor": "white",
           "zerolinewidth": 2
          }
         }
        },
        "title": {
         "text": "Bootstrapped vs. Simulated Slope Coefficients Distribution"
        },
        "xaxis": {
         "anchor": "y",
         "domain": [
          0,
          1
         ],
         "title": {
          "text": "Slope Coefficient"
         }
        },
        "yaxis": {
         "anchor": "x",
         "domain": [
          0,
          1
         ],
         "title": {
          "text": "count"
         }
        }
       }
      },
      "text/html": [
       "<div>                            <div id=\"747d888e-b368-4a0e-b7d2-6821fd1cb25e\" class=\"plotly-graph-div\" style=\"height:525px; width:100%;\"></div>            <script type=\"text/javascript\">                require([\"plotly\"], function(Plotly) {                    window.PLOTLYENV=window.PLOTLYENV || {};                                    if (document.getElementById(\"747d888e-b368-4a0e-b7d2-6821fd1cb25e\")) {                    Plotly.newPlot(                        \"747d888e-b368-4a0e-b7d2-6821fd1cb25e\",                        [{\"alignmentgroup\":\"True\",\"bingroup\":\"x\",\"hovertemplate\":\"Distribution Type=Bootstrapped Slopes\\u003cbr\\u003eSlope Coefficient=%{x}\\u003cbr\\u003ecount=%{y}\\u003cextra\\u003e\\u003c\\u002fextra\\u003e\",\"legendgroup\":\"Bootstrapped Slopes\",\"marker\":{\"color\":\"#636efa\",\"pattern\":{\"shape\":\"\"}},\"name\":\"Bootstrapped Slopes\",\"nbinsx\":50,\"offsetgroup\":\"Bootstrapped Slopes\",\"orientation\":\"v\",\"showlegend\":true,\"x\":[0.011714669816061892,0.01319349908530228,0.013547752218697424,0.007381322130416007,0.0011286688527228222,0.008493122017041946,0.005334356228079491,0.016397666355427033,0.011142651015236676,0.010452232631791902,0.011960765654944697,0.011894693109136496,0.0023217535153019376,0.002590271898133184,0.015189645816890432,0.01278555351444207,0.012986145169200582,0.014750778540980974,0.01084736904903949,0.013366059082338129,0.018477277013011467,0.013301426012456097,0.010400641051875076,0.02827181641838879,-0.0028317711656007626,0.01871908746611315,0.009976711866076503,0.026380026741522126,0.0028014965845123627,0.011955698063283178,0.02259579327717511,0.015788295795346304,0.006423364952571144,0.017343762154803575,0.0097428976089311,0.013053580021172151,0.015105908030864448,0.004978617580067797,0.02200063533227158,0.016905761160401933,0.009769461008051549,0.008881796043450914,0.005747047267169066,0.011528896069646008,0.01855448852606561,0.0121359574790791,0.01806033047895733,0.008216154903528575,0.019234857981968723,0.0027104783137413212,0.010315311548907309,0.0029516002941290184,0.002825005966548527,0.02908377855818172,0.012999292721279617,0.02247692465981028,0.011715823533152682,0.009337972546028993,0.01910366777898804,0.014730855998659885,0.011851974222647905,0.014426368159203933,0.005313868839255279,0.01964792477918135,0.012945158681375517,0.014021679357021977,0.009143306379155391,0.009773280793299394,0.014360254122906008,0.0027616635842152987,0.012531497944747137,0.013452378262343273,0.017964915700224224,0.020804554102839302,0.012841546775765999,0.016765657781599334,0.02762917698666799,0.01821379793096145,0.008677747964182036,0.008738337052815728,0.011193612162391148,0.014187764399609532,0.01762839663268246,0.009767603463683725,0.027948446146742068,0.011872888519877927,0.01934229130465827,0.009747221394952899,0.019395562804470884,0.01706224348316035,0.010610279851132741,0.009341584699055726,0.014578708959892522,0.01619703106861034,0.02069579813490991,0.01559956502145492,0.008007218938299237,0.006889265987888485,0.00810047684794564,0.008661878414668069,0.012766759488448787,0.015731748643100257,0.007216446846321181,0.010654441509122491,0.015243418633108474,0.01169364349575892,0.007698505160123374,0.003914219618098416,0.015535431169771914,0.006829081474528723,0.008003006733643025,0.02057054275206916,0.017049929709778443,0.017149799215986215,0.009402388070028717,-0.00013986659130872311,0.01396244081861412,0.014050358518125097,0.007793199372084517,0.012093329190407929,0.0179674992732518,0.015827547303175198,-0.0017801614801797143,0.009140414418246007,0.0010001709446665792,0.0040599135170779205,0.005647008799086651,0.015556687727045502,0.001326922028501959,0.017334816872661276,0.012917924211938242,0.011548012232415871,0.016979426301585866,0.014775150273032618,0.010932064702538904,0.008322855516557318,0.010378999523026143,0.017704037624250345,0.010502005730658945,-0.004531274620885211,0.016297145892209354,-0.002591203009185729,0.009055754156384899,0.016155664661142044,0.015275342220631746,0.01335353818647123,0.008635284179768752,0.008399532872304162,0.007909514725634118,0.015603277798441964,0.01346620135768234,0.007394042758235908,0.01951592990840308,0.0025369951206194357,0.0034242576748867923,0.02106634475591905,0.004617918461100941,0.0010194057732294988,0.01564624038727375,0.01579081790921308,0.02155739269957341,0.016475678410277472,0.016972779570646884,0.017107280681160776,0.005409699466342125,0.008697888323715323,0.0127878907543017,0.010607104167168216,0.0031888965234221286,0.01156055389878087,0.01242972559394128,0.0044442823660531955,0.01815973284388707,0.025013394840393798,0.014018153487223586,0.015462568190864237,0.012992973868646479,0.0030008581911056195,0.011530957056276162,0.0058103261321703695,0.018017139761774423,0.019256116721320066,0.011074643887060817,0.007489214477812648,0.022221842186752182,0.009435551629790893,0.0202786828242085,0.012536803083575344,0.015160136944697523,0.016745681929281428,0.014143845089903156,0.007898369578767966,0.008780784682681671,0.019664395644503896,0.014434588854386442,0.0014594315948423392,0.005480087499636224,0.012610637395481012,0.013866695139360133,0.008781985154374491,0.018501485377080577,0.014669037925638579,0.01760693871212022,0.01939876406019793,0.018159045459175717,0.015936270894360154,0.011869409782311748,0.013826322478488218,0.002817816273494582,0.004623015873015869,0.012476026271378511,0.009043693513857174,0.02273777833360128,0.009231264352247956,0.010690640817811906,0.01429861430973528,0.008703306546265228,0.018527466436309904,0.025185954277059466,0.014434866389754733,0.017278436982804634,0.021302104788132728,0.007515254221535067,0.022576956439078887,0.011195952511584562,0.008871861184888677,0.008042180379566378,0.018148339049514996,0.013684137384511512,0.021735940041831395,0.008696535566339855,0.0024741410772940696,0.007474234209069248,0.017076289083641314,0.01171832916660502,0.007447636021885411,0.010600636630754133,0.007682949609452485,0.014766391744005715,0.011668553086944575,0.017413603949533746,0.008942081223860868,0.013510626685501521,0.0010129981232301945,0.01154446381865732,0.019862473304317372,0.01675042571119811,0.0075708201153899535,0.017485008335389657,0.011681861840435216,0.001178285063185583,0.01880747248044884,0.017233455585094384,0.010093742865115812,0.00628494066893317,0.01715178958062063,0.008400546070539623,0.02213946884655999,0.015050250052552595,0.018749890634082562,0.00961370013044223,0.011306958875723451,0.02443309534776599,0.019474714342356658,0.02084506512933028,0.013575977433421205,0.010312429115311952,0.012199372910637026,0.011137136545198935,0.014714856896431712,0.01638831472444363,0.016087457632377018,0.0076227688408989774,0.01005007797255033,0.009596901935775892,0.004030574020213843,0.012291780271116224,0.015252341465643245,0.02360252729850111,0.008465611395514612,0.012437530170860543,0.010286810933904642,0.018183589247342435,0.01659457700036799,0.011793085920831333,0.010535896414278968,0.0034940632609272437,0.01110599096566297,0.0056218566793458935,0.014491215685547391,0.017832471052704787,0.008016988483420168,0.019408676340585136,0.010593251861606732,0.020330063391121502,0.019652120123149635,0.01695636345334356,0.010062348859215683,0.01696159848749578,0.020122851450801033,0.016880085480769382,0.01477324834922961,0.008266425803590731,0.009176018536396928,0.013954870129870095,0.019103113790494914,0.012786859078064686,0.02112543830253293,0.012995889588010227,0.016928069375375502,0.02188764489779281,0.016819317189911528,0.012999168544641587,0.01905326116844938,2.7485728140336924e-05,0.009917226774049454,0.009404568256571755,0.011527887077634188,0.012911437357559816,0.01520434522104562,0.004565304368820605,0.009037478504107258,0.008524600926044547,0.010796217547000941,0.0180723306248753,0.010227838181996275,0.00863034069749883,0.012113203322525336,0.011360075805432732,0.02010263956173312,0.0072056182249028294,0.014883628808690937,0.021307248354123353,0.0043387301733616365,0.014969868800724255,0.015700620270983665,0.016871119785718754,0.0075538795858365385,0.00412864473580532,0.018368007436815464,0.014259040240291607,0.0019451505820904103,0.01209294457159911,0.011068787386194955,0.026987733320422484,0.011800240255332599,0.009089135792299153,0.006420628888515205,0.018882453097095936,0.012426742101464485,0.0031071616285392595,0.020560979696503813,0.02381225960971244,0.007274719254998625,0.018282783740782783,0.009579002423741257,0.005989779482363366,0.02118798634264388,0.015098454007908834,0.016437487844694974,0.007427143993205808,0.01487958092761222,0.016614916002798828,0.017532500453095998,0.007599585204876767,0.02176656713104623,0.012338617655108526,0.014044793238957158,0.0007367925638310513,0.008253108867270924,0.01484686081275615,0.002199247758414501,0.009045760682933933,0.004214817089817004,0.014106096409945534,0.0025725431735459867,0.003545796265772283,0.020153937244209347,0.018227490088397903,0.003543705322388055,0.003471002806713669,0.016218776905873988,0.016053453022867464,0.007740542804619766,0.012079053807819193,0.015716032733090912,0.004569678902536813,0.010053734057625103,0.01423553719008262,0.01220513343231453,0.018707509084441014,0.001988201409397909,0.022821930382190922,0.0058987380970813505,0.00917855542611351,0.008968035545281021,0.021869248739798695,0.015413369430912666,0.013973041611379158,0.004829916591297372,0.017195804957464818,0.0016166758984449215,0.012310768499622607,0.01363572160728218,0.016828201712889693,0.0033377078855074613,0.008743131108242656,0.009199114076342604,0.004541129068966712,0.004997104771808716,-0.0018812510462907703,0.01542776046210622,0.006632203412521485,7.65570560060675e-05,0.010056869031300635,0.0077753313237162135,0.01013431309983336,0.015935923350502576,0.011364978989097718,0.025085306525141213,0.012016699708239632,0.00562184056809855,0.010210626359214409,0.018646231023066832,-0.0035900787177296292,0.012734104277539888,0.021707916245752593,0.007330047589297402,0.014519823416938516,0.02028401909242069,0.013920420692504504,0.004149361872857665,0.01535337515109639,0.006735248068256046,0.01190640618843189,0.012437678719367119,0.012567858446868852,0.00793375748502996,0.02269552759363747,0.013023215837247394,0.015115191614050498,0.026116109546734538,0.02381648393358987,0.015031099675578991,0.015621839625294204,0.018045720229062798,0.005094269867468039,0.01646012037833186,0.020029119017876178,0.00784503921397122,0.008277844067796473,0.018623445832907946,0.006881988097229966,0.006445617269416368,0.012666067110733351,0.005855161156188031,0.01525646883416698,0.011559892492397403,0.010667078888522544,0.019426397058701615,0.0051074693946387,0.012784338396216371,0.012756260611039991,0.013227518569475488,0.02472885522247488,0.019614651346110186,0.013694727615255364,0.01143300288017343,0.01526209069977173,0.009052190373174637,0.007094830691642601,0.017116418881379006,0.016311229768294445,0.02269987065982359,0.02075722543352604,0.017477447332296506,0.0160157097654494,0.020695245167901666,0.011396587750150407,-0.0016519991834683355,0.007879278804067212,0.0110477691275771,0.012083183144125934,0.007886907268483213,0.013503915783055596,0.020819570732394335,0.022177490331187905,0.007931458916451375,0.013903428819444355,0.01367840947291131,0.019958249817005256,0.006852023250823396,0.0024709110099443016,0.018394187507986576,0.00781448861597666,0.012110646350998809,0.010187886071115697,0.010015369375547652,0.013030009278316,0.0022236909199289806,0.012792711275046598,0.009335161343794897,0.010533694928420864,0.015001331870533124,0.014568143247388601,0.010017264198922807,0.01582241347304908,0.0065709856598159255,0.008508705195679908,0.01216508540864459,0.01627343176175508,0.009530304615979542,0.001545218885247071,0.014720397428404454,0.0023207018512155925,0.006413754826053698,0.0017597766609586032,0.010804725984157555,0.020680522964765597,0.008631229256922833,0.01720313593705708,0.011517689646973979,0.008903906398329227,0.011129731941886663,0.013303151867787879,0.01961829227134665,0.014032171729669828,0.0241040205604513,0.019395819906086048,0.008706044529245624,0.016524763767907402,0.015908597374395393,0.008984852575675079,0.015824268225277268,0.009144832498280788,0.012428370240672905,0.014448561439146856,0.006437250160309504,0.01044813785436354,0.007580073880921266,0.018436192266231822,0.015787317688996407,0.012906296195734138,0.0038798110372487288,0.017277171072044295,0.004715047416846095,0.008262614947879866,0.016002820349084658,0.014750690432414552,0.012210712132179505,0.00875457267236781,0.0070097339247510125,0.019932961036311682,0.015045946650566789,0.007559095482833476,0.007190905805254992,0.01683012818391343,0.01957117667304188,0.017216165914767892,0.016693923065132094,0.015051574422047614,0.017010832704589446,0.01995920833513161,0.0018638974625785273,0.007411108714286495,0.006124065321507166,0.0054151838671411615,0.0031213170772639003,0.012673383833478956,0.013863392242088761,0.00814867047873022,0.00804238927011848,0.00875056394641811,0.006856976767834269,0.010431027238039726,0.018846019681022876,0.01440446873640256,0.0062536960599835,0.015944691246516804,0.009673945896932167,0.006882445533338499,0.009684839271757206,0.013365016635237675,0.007675118402002435,0.010561315496098074,0.012063796271070404,0.0025904996503864127,0.004154204178698837,0.008998272785577754,0.016467468241545127,0.011894332497853786,0.015019675248683473,0.012609121407199136,0.019660444371964833,0.007789453526720773,0.010319078324020617,0.007109055415528226,0.017727505972598548,0.019862336411346677,0.02165451273794851,0.011942572500784926,0.015304309134645347,0.012604847069963357,0.021888296041308087,0.008167571938972634,0.004251304355528786,0.008952339716947002,0.01339223148590684,0.019192160120526852,0.025149225717272784,0.02118738887976527,0.013005920631144773,0.01708979153982202,0.01587791690882505,0.01554302007757859,0.011126713295486645,0.01628217526928398,0.01763266597855235,0.02277660506810901,0.013431906307501556,0.004306959277493921,0.016788755531424414,0.017226587242279906,0.007434065836140324,0.01606101212388948,0.005598550481860257,0.018321856919783726,0.018824563588282283,0.010150776614188676,0.014675246360497881,0.0045365055654523305,0.00451057676129471,0.013836425551902374,0.01923677825309882,0.003138766080510603,0.009711180827129087,0.013765624109672341,0.008550880352041388,0.012987537831582727,0.015590012113185323,0.01469090124251686,0.0024005234446531007,0.011881226053639848,0.014081014640658807,0.018111302266437306,0.012161172899938533,0.017905438733125615,0.019980861709791124,0.016150351720161504,0.006572189837632185,0.017008595119085902,0.022286663545811568,0.014145703511540215,0.01266945753080908,0.0138405085902376,0.010516994664900478,0.019803846434729995,0.015583993635123743,0.01761808390285205,0.014805293755982891,0.017174353166035418,0.008864047398744987,0.02060572819920682,0.008138776212723742,0.016465785381026367,0.016470297820457787,0.01624582684601444,0.005234887110269242,0.019546400955777546,0.0007933627820254537,0.009134828613064715,0.014538622627504981,0.01274356873668685,0.004791044052008478,0.013119463283759809,0.02011085974445167,0.009937351175222176,0.021887094511660557,0.011695534775661993,0.016724330047882895,0.008330085453349588,0.00235405113243314,0.0013788639148053887,0.011264151355602589,0.021285821752927044,0.010641799155842659,0.014054000921517418,0.006199107910576159,0.010327730200028834,0.005355621881682128,0.011064487892811944,0.01276222016525291,0.015692244322930274,0.011342056728771546,0.018899304294900866,0.0154852551108728,0.013869837884245154,0.020073407123866256,0.014930074145518037,0.02179565254301084,0.01735956360969352,0.014598409143119648,0.004750259424555776,7.907755833425067e-06,0.010214755032381811,0.005542090258727331,0.012930157099546483,0.008092791670658864,0.007002541360788289,0.016981219375748938,0.01510866262811649,0.01097171740408455,0.012353684071323104,0.012312617357521781,0.01939807428235138,0.004483358417014124,0.012382906851033233,0.016428408874110782,0.006406325432201793,0.01756962665462876,0.01494906302004189,0.011910779668317807,0.005243240350717448,0.011586821857018183,0.0076788099671057,0.021697493182557297,0.01439222546257233,0.006745055421224878,0.009243512147415592,0.012511585378857326,0.013005664349131096,0.009235031548584832,0.011408964094784396,0.006981661464003391,0.013139208518364007,0.006228269372932034,0.007840195611181305,0.010732896201905266,0.014531896280225423,0.012190310336229852,0.014315485235984776,0.008539092116436844,0.011790799471891789,0.008072393822393796,0.00875581417891632,0.017260395395991536,0.017030739904838173,0.017041573843532908,0.006845023662556193,0.004833352138102281,0.015770268515407096,0.008185654386030508,0.010885602264290986,0.012163730054116001,0.014139594625169442,0.0035194906474963136,0.015397593530590128,0.009650234552920935,0.019108214629128636,0.008696145533141145,0.0027834870895545455,0.014239308542112313,0.012044850912811517,0.018671018153095555,-0.0011290306820403023,0.017211460760679816,0.014164509711093348,0.009629853343484103,0.0072192378041141606,0.013864554795504039,0.0005041891417445904,0.01872686506257857,0.016688123134292396,0.01900220568266059,0.007391588663827591,0.01005964293845757,0.011155183575644448,0.014765083157430817,0.019077764420338546,0.011664650631517483,0.019179363466245786,0.01639915246387548,0.01269908153268581,0.016330775385923854,0.01504294521118551,0.013159439197383365,0.010916008189641349,0.01676007304429787,0.01349565480063196,0.016896350906721397,0.007395526764346058,0.0019363902182535642,0.004379254656926124,0.006089464530409993,0.019348241784539467,0.012916787140218614,0.010452985466643375,0.009153074268183535,0.010448252465433905,0.009727688202566073,0.006497205554804646,0.012384498986945679,3.5554965350081263e-05,0.018162835814411273,0.01549985464096314,0.016990874307326938,0.01409076072406756,0.010054670159030638,0.024823035342662038,0.016019132058523858,0.014858834512578585,0.01611694634468456,0.012739917445897368,0.019397593231320398,0.010446522240911263,0.007225104511214761,0.0041590981613956746,0.0004252596306947472,0.01954462381967715,0.017709759674779016,0.019598512899919936,0.019629186112267785,0.008388833001092395,0.011744301562277674,0.01128641332701686,0.012889436443069389,0.012756699769706514,-0.0017318167891546901,0.013564368101203081,0.011078756058158322,0.01423352702721186,0.01864325616680844,0.00728911084572797,0.009393030486941744,0.019763424936842737,0.017600320426766118,0.01855326424508873,0.0033939335869727187,0.016602542721621774,0.011409428642695646,0.013703897740272178,0.01213529565212115,0.006175204692529078,0.008423405372562205,0.01297744845360825,0.014288183022660751,0.008317516972843483,0.0067857055365017314,0.01940584078417467,0.006469629704734234,0.010070605388290785,0.010118185208203949,0.009640415335758698,0.013639193809609526,0.0077117784372717196,0.021483262383900865,0.021891552554430958,0.007481065334997941,0.012388718937158566,0.01236708830319357,-0.00031788488591494996,0.009369932391351955,0.01373798874621271,0.017550246872593923,0.011329442408309687,0.017580017059325284,0.012333570162081664,0.012055824806520336,0.00868873634162827,0.010670853407645245,0.010655108492599465,0.008444776141963168,0.010507689827739024,0.0069187151803575715,0.015872489941449828,0.015526339027126888,0.010178532859624709,0.01205349439171692,0.00164468903919876,0.0063147936816767836,0.014541232290831239,0.012086395969176012,0.013374684405100808,0.014666588013213779,0.01326040006029687,0.01100241150241145,0.006263565740009892,0.015061783099763838,0.008556834075848577,0.008829586918011723,0.0062612508999784966,0.02633782919097899,0.0206363417293709,0.011735354238816735,-0.0031809924435270715,0.011017058247420428,0.007707394888497997,0.00916930007888036,0.012746673928265673,0.019215477398736712,0.007175419777276147,0.006436641752129312,0.01246400593021884,0.003328611044128257,0.010285763615182311,0.006404960272665714,0.01600363855036495,0.01633806858139476,0.007085855343266407,0.009990812691402267,0.012941540153084984,0.015792083965772058,0.009714543665156512,0.019986765858152723,0.019904714605092255,0.01021314823079654,0.00869883355620135,0.021277138224098095,0.010555237701809302,0.011953511902219632,0.0019622448473424446,0.01772403538921038,0.01506143875933885,0.007972046706768543,0.010518250649790915,0.007237412949797267,0.00568112693873063,0.008254353191932396,0.00450308467002365,0.008274071606140583,0.009666858269577002,0.016166057699816737,0.012443938951587913,-0.0032050811020142914,0.015523342974524672,0.009501141077475031,0.021398560927500872,0.011000771468999363,0.012543857874055117,0.01810063515202011,0.013896858015770059,0.005782178217821739,0.013066447713462468,0.023435330785499534,0.005225276746477103,0.01808147714595653,0.013636962285569681,0.00707671118964703,0.006420615098312904,0.009252910829231305,0.021414824747988375,0.009247558029618751,0.019929837148145557,0.024415272932485126,0.015431398579462609,0.02551840306506955,0.0177134129472519,0.012604592164837787,0.009842261555435555,0.015242960103534514,0.006607430477657897,0.010908521574701967,0.004683995624243126,0.013703959258123777,0.019643701364471848,0.014352994279662877,0.012743893532184313,0.014054610267906336,0.007993892890933944,0.00893742741435109,0.010034465003973085,0.013437746587709052,0.018821627182738266,0.017154892863975528,0.014883590526691779,0.015079333707431815,0.025873974671921273,0.010596950960916014,0.02264323440306714,0.015731044655887594,0.015043071498150658,0.01021438452763488,0.010360622627020678,0.01352167201113209,0.011268667180920084,0.01579719816981781,0.007927672330914258,0.010528096158363868,0.009027311550302897,0.014682548375319425,0.016117828785910223,0.011628296031170708,0.015783937935052547,0.007449913721025405,0.013576555889139311,0.019568013545114532,0.016193944005424486,0.017510971178607913,0.019923591417489325,0.023812518101367655],\"xaxis\":\"x\",\"yaxis\":\"y\",\"type\":\"histogram\"},{\"alignmentgroup\":\"True\",\"bingroup\":\"x\",\"hovertemplate\":\"Distribution Type=Simulated Slopes (Null)\\u003cbr\\u003eSlope Coefficient=%{x}\\u003cbr\\u003ecount=%{y}\\u003cextra\\u003e\\u003c\\u002fextra\\u003e\",\"legendgroup\":\"Simulated Slopes (Null)\",\"marker\":{\"color\":\"#EF553B\",\"pattern\":{\"shape\":\"\"}},\"name\":\"Simulated Slopes (Null)\",\"nbinsx\":50,\"offsetgroup\":\"Simulated Slopes (Null)\",\"orientation\":\"v\",\"showlegend\":true,\"x\":[0.0032496355465069238,-0.0011296098643802685,-0.0058724069650422615,0.00017482295707245193,0.005667750367372087,0.002201399590610908,-0.00774693406175605,0.0010742630715485499,0.005654914540337574,-0.00228213427060849,-5.472109912968122e-05,0.0010847235635721032,-0.004671282277127521,-0.009564004629935261,-0.01103659289054297,0.0014889181009941992,-0.004955257340401243,0.007943081871222798,-0.0011397345695626717,0.00011935864037015747,0.001213519449009686,-0.0016287546257338567,-0.006015319856499941,-0.0013680829582135264,-0.0022828882788261014,0.0002204752402064961,-0.012982435319265306,0.0017045577182891935,0.008562026700023602,-0.00021208559300766238,-0.007848320050710938,0.0038967643544741124,0.007179713044459036,-0.0009468876583648722,-0.0059248816250198,0.006016060212855292,-0.00774207993444455,-0.006736361623248169,-0.007509111139233432,0.0029832437589537865,0.001402735501973272,-0.003530606990715373,-0.009815103604226286,-0.0020029924670454877,-0.008274356067869247,-0.0036398375740169468,-0.009133444681304798,0.0038611143574584137,0.0003841980539245043,-0.004921865350492943,0.0054565206136266186,0.011831772612814314,0.00524233241369842,-0.0037576949883703433,0.0019478570765426918,-0.0094839917365648,0.0035057998095937657,0.002367846478941972,-0.005112936220356461,-0.001191897976563013,0.009135737684390906,-0.0017858235194717275,0.005082606712301771,0.009832187259502051,0.0005374057433381279,0.009846722831900107,-0.003893192007656138,-0.003307497825397212,0.003744618300729481,0.0025852440940252255,-0.004729140717963447,-0.0006571641418282967,-0.0003397314438046595,-0.01431272349429447,0.015540892111148456,0.005572995694716195,0.002176387068301238,-0.005639353081383087,0.00782296618398444,-0.0005707697466739519,0.003774631686827496,0.007748766619007287,0.0011437308545299242,-0.006251934442020375,-0.0045528481004360015,-0.007104055916761106,-0.010843465277626162,-0.001137540911385999,-0.0004969951568040152,0.0006450539692038036,-0.006888846566557013,-0.003968851307226982,-0.0025371980284597537,-0.006353556349707728,-0.006040623667019601,-0.0032418516955606087,0.00017629133966612972,0.004477002823030683,0.004227277612599019,-0.0037327505213289127,0.002413499792713677,-0.0020736663477475335,0.006377272872352744,-0.00485061335193668,0.008984532107157892,0.004087998746817437,0.0014410863045038473,-0.00692988996862663,0.0017487944628900983,-0.0022873474160681473,0.004542436813567585,-0.0023777948081395847,0.005027850033681055,-0.000429796768241464,0.009281799413061384,0.0030747037103273146,0.0019819345242666994,-0.0008028759385742996,-0.00025222661163915483,-0.00019275191471416022,0.002779746143017409,-0.0046869074758777995,0.005525201655042867,-0.006875926698558394,-0.0029622324401627634,0.0026154943312405986,0.005526432420098281,0.0052118785195446,-0.004841113806850928,0.003148098140825056,0.0018873183107296384,0.0007031593632250721,0.005758891063183759,-0.0023598002915581518,0.005176562700244597,0.0005003991142184931,-0.0037780194447761817,0.015626601316127645,-0.0038223009056847362,0.00043551047356726706,-0.0043547700395681595,0.0010316396073751736,0.007168354485135453,-0.007068626097496842,0.0076818091697968315,-0.00461229199057683,-0.0003012892950584479,-0.005719976901232403,-0.0026671070159183783,-0.007470930699993375,0.005010732718155041,-0.005365560114790917,-0.006184961886981994,0.009880046742667238,-0.010047746430127541,0.007792460946643962,0.0026760516214538177,0.0016695118083627798,0.00039666061255655633,-0.001180307899870386,0.000435628782208629,-0.014089281472364712,-0.005817370929111262,-0.00507479663221405,-0.004725931030158895,0.005049159250612835,8.851116995837321e-05,-0.001916233998156422,0.0031214539847083146,0.0021117774726692887,0.002921301936366902,0.0005106084728757876,0.0023413347932863854,-0.00505729630474083,-0.004179787226946188,0.0028852218441498415,-0.00042600532174486743,0.003084320376791387,0.0071886598563542774,-0.006336366286189215,-1.7732840904092356e-05,-0.0017551783118572683,-0.0031898962585261664,-0.0045725513614591415,0.007026233259120085,0.0022327037285389726,-0.005290618228350613,0.0020796790900989514,0.004696716713855246,-0.003240915624713881,0.0030734791613723387,-0.007750607227958806,0.004345621061549866,0.0028881703287883106,-0.004137620626560426,0.00807770454254678,-0.002006633102391339,-0.006192322777508951,-0.0026568639720985533,0.001549675287530182,-0.0032873376606163502,0.008778031310611788,0.014148510868175295,0.002644864835913152,-0.011514716266390768,0.0002452454929898931,0.005741346102313158,-0.0038170311477091004,0.0001707252593411751,0.0005811593601986404,-0.005942021445120105,0.005410389427631468,-0.0012887164570547266,0.002105280335344111,-0.0054809332501540315,0.007811242752205639,0.010694927015932073,-0.002395088101856322,-0.0012886704131262246,-0.007143489680269381,-0.007193457765860866,0.0079855269157619,0.0014431921067169888,-0.005668548349739197,-0.0075393216118020846,0.0007230104521175314,-0.0029048178226515767,0.00873086998787284,0.006388223597573397,-0.007492133088690199,-0.002887599429300663,-0.0061239665664393084,0.009329761052298834,-0.0006712570988525166,0.0046624225984752375,-0.008206573933084334,-0.001577917035168064,0.0032836531412027484,-0.0020596202390785645,-0.003676669467789598,-0.00270695093492498,-0.001958803093646622,-0.00015166281865821273,0.005407645056360698,0.005882320710998038,-0.006147505194008386,-0.004051062408305019,-7.512170731750235e-06,-0.0049248987540129055,0.002844136120795397,-0.01068556707339363,-0.001494043025655923,-0.005637566337454771,-0.006810776871047887,-0.007429178930838403,0.009386237125257041,-0.0027841360101964383,0.011176943546540478,-0.010307289752601818,-0.0026801870841257026,-0.0029262091867093207,0.007612875422987169,-0.0054512386768921384,-0.0027421798293486466,0.0018313215531328268,-0.009345490847602533,-0.00902542423377352,-0.0025667234554023434,0.002611850321813966,-0.012209146279681136,-0.009330294480148842,-0.0008324161031570861,0.0002561276239752227,-0.005440517725727161,0.0010316252563568177,0.002328480577595137,-0.009263301437038114,0.00023640410357236375,-0.011804061756481124,0.0003162316084654483,0.004264567993811761,0.003438266364511451,0.009054246735921596,-0.00764166747559165,-0.004562161127001453,-0.012019221593957644,0.008490237016664855,-0.0010285419479165968,-0.002646530346585572,-0.004645973940473651,0.001578026858523771,0.002115247422633644,-0.0041881502471613615,0.008102520790697128,-0.006941479953397544,0.0016218123049249085,-0.002861827086353942,0.0073999894573428164,-0.0009481892374477077,0.0005927185345799405,-0.006297522876803257,0.013942831547709488,0.0014458091637479641,0.0019101556981003897,-0.008510695092996097,-0.007739163963908011,-0.00854567786835947,-0.004966749961188349,-0.0030583934223693,0.008352184589250897,0.006826611818485443,-0.008031170257318945,0.003153543104492954,-0.001210033133833038,-0.006920220388348071,0.00100127994956919,0.00827049251783402,0.0003607805260139908,-0.007612171601983187,-0.00030067864002845013,-0.00454020563118435,-0.009362208716392567,0.0016623904141622294,-0.012857202010235233,-0.0039826542771496855,-0.008203345415927698,0.00533852925850548,-0.00957875048715396,-0.0038810519087342315,-0.003590824969313892,-0.006039486906091062,0.004464518387363373,0.0008094022974390784,-0.006275316675359859,-0.0023397536824926145,0.009913829872103725,-0.003277116014982744,-0.004314677228398729,0.012811699431648537,0.011586995594410216,-0.004922220548581946,-0.006432444829405063,-0.0034947778881589796,0.003272491155625742,-0.0029896576029809167,-0.008680249047921572,-0.0018607438785469138,0.00035417936138064723,-0.00416626018482076,-0.004010987861851224,-0.0032056914142047453,0.0010708248744633647,-0.005619681112561781,0.009102609257433995,0.001606913724429553,0.014030171398196059,0.0030309437071152434,-0.005978206257058429,0.0004175543423698127,-0.002643743680128339,0.006680457712526697,-0.013301422140050704,-0.0031508325806350614,-0.014898729356196447,-0.000928540215223558,0.00010466232509929963,-0.0016455644068611055,0.0046270168919889335,-0.0001859079086801653,-0.00042798348528168165,0.004621104896133531,0.009170648854148417,-0.0033099622556962667,0.00643161000856311,-2.434088483261286e-05,0.009540620206176331,-0.0013287118476089416,0.009857580505408787,-0.003381676058393694,0.002065723278717996,-0.006805032055983964,-0.003280855967275112,0.008887987567377301,0.0068675056223820394,-0.00453825919485586,0.0030676495112355404,0.005939825393865103,0.00346376441266718,0.006550743725976125,-0.004384879138788834,-0.0025817741745597905,0.0006760233401183723,0.0015507683090434819,0.0022340305642975337,-0.005776739079084384,-0.0019883295264522083,-6.915049158797131e-05,-0.004078851685097619,-0.004218763686430762,0.004908661584391419,-0.006386545210710439,0.0019950960074120927,0.0012913064115749355,-0.004403450680964953,0.010152150199304282,0.006590537915296741,-0.0020912333659905214,-0.00022373321459131894,0.005692489749520764,0.0083108264034566,-0.007422890084176829,-0.0015720314237213234,0.00836045003946111,0.0019802445711892156,0.0005605980071234293,0.002875246012617322,-0.0055840536115152085,0.0003981952329208298,0.002913386805037083,0.0035704530117812816,-0.0038441515957971344,0.007440412421633424,-0.002557096121738529,-0.00979305943486038,0.009271184617951763,0.0038187218059077296,0.0077536806602144,0.0027946158525084894,0.003338384363381671,0.002740742784769373,-0.0012303028257028698,0.003083769011786409,0.0004942069431921,-0.008076568062167014,-0.0079102997916747,-2.390696080911258e-05,0.012721331261157976,0.003847546948955861,-0.004820609855134279,-0.005373681688193135,0.010285327109979855,0.004850940467734913,0.003038380832313014,-0.006725950518700098,0.0015342382920915756,-0.003290628929775538,-0.014727658403540908,-0.0011513614246517869,-0.0004011312084896933,0.0036123096642047205,-0.0017266226222724407,0.008309672676364118,0.004065772352885615,0.015607557492542647,0.0018713138474696985,-0.008841976991243993,-0.004680854760918391,0.006763090982482973,-0.002034337165306757,0.009624823414242839,-0.007910348973596782,-0.00987414473888016,-0.003346238266221017,-0.002828965983296485,0.0035591019549106964,-0.010053257813915289,0.008607961451339241,-0.0035397563959644694,0.002969945366191444,0.004008962228631548,0.003371236006891926,-0.007183643486981278,-0.004994344055596827,0.008806243436457062,0.011377749457402223,9.11063655174493e-05,-0.0024249370704220244,-0.0010977299236293175,-0.007604029960641933,0.001627828936527831,0.0072985916245957225,0.007486739416088529,0.0006840211790067087,-0.0012731533657742208,0.0033262751145968516,0.004656803998448954,0.0022667954496477846,-0.001832317960242906,0.010874613776343054,0.00027228918016235573,-0.003948468884049051,0.007677927482302186,-0.000892424080483848,-0.004599498212401806,-0.014173487050880208,-0.004684979306869036,0.00022481620502441593,-0.004596424000845783,0.004152742991420426,-0.009803312883966468,0.002949111233823698,-0.01106826750115911,-0.006798710287159783,-0.0037554942274377334,0.00021098276344999438,-0.008924826695895283,0.0008207332272046272,0.0015677007701774032,-0.010177143197974359,-0.0007704469154701885,0.0020251325427635917,-0.003145471818082582,-0.001102460822948217,0.0066554944739444875,-0.007429875372302275,-0.004717336366790242,0.0038975742070888704,-0.011128793484764428,0.006377994695732641,0.0008786782043851372,-0.0034172036295169917,-0.005612816091875055,-0.0031319893187333366,-0.002677377152966546,-0.0028323845919653147,0.0004438663952824303,-0.0023408299331622293,-0.0019972167627990748,-0.00589668176981287,-0.006374112490436132,-0.00048476125852762097,0.006779978450582131,-0.006557148971973308,-0.007255240579275309,0.0036574601156341108,0.0031749406303791788,0.006362648246024673,-0.0008763861812924748,0.004284911738492185,-0.008128317763477612,-0.005209172818057675,-0.0022000331537012545,-0.006752922578515539,0.0036792281697297386,-0.014114984607937062,0.011111359930825224,-0.0004241415225305924,-0.0022269197737414714,0.004182408290396543,-0.002019083627650564,-0.007315565833696186,-0.007030977388539186,0.00476487823854694,0.005111751849705191,-0.006344896775952149,0.0028912650805234634,-0.0020280052625734632,-0.010334587840621329,0.006315098595469354,0.006596737289732122,0.007642629234798911,-0.0021198797785615575,-0.004404101174337887,-0.003299985146488399,0.0004484963159987476,0.003998478733893311,0.0005390194034257199,0.0016755957063213905,0.003194983769700177,0.002433331280859676,-0.005039747872414345,0.002130952977818199,-0.009593818639345563,-0.008721978408141097,-0.0032347216701944905,0.001041738852540863,0.011698731259166564,0.0001737104216381312,-0.003759114941652703,-0.004954849722742719,-0.00025990363805741736,-0.0026602230536775474,-5.943319755214935e-06,0.0007928065244634122,0.0029145978411404426,-0.0018919090227102016,0.004037297753941833,-0.0016338094635806573,-0.00477999617617747,-0.0018858672779797376,-0.0019295449190658385,0.0016944414284440386,0.007416114155452085,-0.004265140067474367,0.008380695223378538,-0.002221043410155554,0.012558344061978508,-3.348064775637004e-05,0.0005779636522000491,-0.0020947865297614044,0.004339856921896467,-0.0030309220326815113,0.011624266472144122,-0.005322925375000828,0.0071535929204286745,-0.005586028866521529,0.0048094900764343185,0.007231325871356106,0.00012345551033596074,-0.005992666759498771,0.005440008950074704,0.002083466455968455,0.0052732901613338715,0.003510927479910826,-0.00804236824681014,-0.0027583532607253747,-0.0024833971363311656,0.0005180094789332549,-0.002427200709970873,-0.005230351217201029,-0.0013052883387991514,0.00672007535345402,-0.0015378161713546015,0.004956111368613454,0.00925221100355219,-0.006802132527961187,-0.005147218859185379,-0.0022035640030063914,0.008579076011115063,-0.003971416127582001,0.014219919324529429,0.006418997513962512,0.005429246388536384,0.006676720839615515,0.0038681061090841146,0.0003738597002583494,0.003361862782148853,-0.007085887655653926,-0.008715461376688785,-0.002461454350973109,-0.0012127590285744808,0.0011828066534922427,-0.002833020813878914,0.001590599889872828,0.00314182377277769,-0.0015985166977574919,-0.00025046276085822876,0.0013025883737830773,0.002465238149127867,-0.0013485575713629416,-0.007256440172718481,0.0032031094871437745,0.0010113698555514247,0.0020055941724466666,0.0013189788037706813,0.01500582203579919,0.008451370469227363,0.0027093226110916396,0.003088266308873564,-0.005062269271219292,-7.318233175422455e-05,-0.008931359245522023,0.007219302577351366,-0.011317199752793043,0.004405578966940126,-0.001117066549383752,0.0021133969619496614,0.0031791771492899355,0.005283776496907437,-0.010203310304723573,-0.006504611493680428,0.0026243759562688536,0.00012796056420430555,0.004783553978525087,-0.0042338829286116845,-0.003291281775256691,-0.005574123681150169,-0.008216086077665854,-0.007583621952638234,0.003116609363627664,-0.002171970635943316,-0.0027347395450368437,-0.0017827168929855954,-0.004994546614416249,0.005909929444010362,-0.00039081692115522067,-0.0021071690898565305,-0.0018911343405280047,0.0022936344440879696,-0.0064127795757520645,-0.008302746508379673,-4.047022928293717e-05,-1.5290343364825557e-05,0.003925609272077608,-0.001646929895191408,0.004796839657184012,0.0015526334798703668,0.0017419001177109792,0.0033167379855724363,-0.002983375839020713,0.002695381229330383,-0.0036376109228910664,0.002376659081083607,0.00380215268847065,-0.0031285133788927174,0.0034429417990487887,-0.013391410299290571,0.0003996501222317968,0.002088951433555938,-0.011355487124724398,-0.015228136152323457,-0.011199109492830876,0.008445507804482492,0.004293395706347308,0.0006700951174631879,0.012494601403973972,-0.005061896568892171,-0.002466112835048482,-0.005992823147416021,0.007015600949702102,-0.0015140070836646923,0.0001272839983972253,0.005582723787713736,-0.0034788910507437083,0.0009009342501543119,-0.006006235388436241,-0.008845438350771244,0.0024466850973449217,-0.007516498488549039,6.763031454438181e-05,0.0068380974269105065,-0.0005774714338071096,9.54513893120382e-05,-0.011333820543123345,0.001701899948389412,-0.0019706383811253,0.0026333933544864588,-0.006518046836764552,-0.0029362174341818785,0.0009264585760144031,0.003079872695967454,0.0019038053838414254,0.005854140162428181,-0.006333730541670964,0.005740990114041359,-0.001830455797452898,-0.004010862606478235,0.00013025920527829802,0.0011747541663880948,0.0020020854912912037,0.008296645179199383,0.006014546725886628,0.008454740812862592,-0.01095008180499189,-0.006815402875875041,0.007005540559775223,-0.005585190376633829,0.010994898829977746,0.0014225685313198023,-0.011169013052900459,0.011983886335427164,0.003688710997863157,0.0101770291520705,0.0008786944295015625,-0.0021334931023435006,0.003387231343311007,-0.0009652004173934213,-0.012093335565494022,0.018102405812618606,0.016863083292385877,0.007907867185448773,-0.01050700198899683,-0.003165761241320233,-0.007914078846405015,0.0034611191653404465,0.004910194098086827,-0.006907848297266225,-0.001442572067356638,0.0037343532082444258,0.006022949732251451,-0.0017523836418307502,0.010119039111522843,0.004717057730371876,0.0023381027225648325,0.0009671283782643494,0.002667483274496531,0.007544540383427566,-0.011099100277825756,0.0009610067333013983,0.0022996912416816707,0.0026240974703578028,-0.007195233419903023,-0.009768356290449092,0.009690002452144169,0.00426356705716803,-0.005459984820574316,0.0037678849743210717,-0.004825899480161024,-0.001622537908795086,0.010470748407561074,-0.006478402744546848,0.0015013372980239043,0.0017516741515700334,0.008042416125089567,-0.009023118577997563,-0.005832828406902569,-0.0094390472447889,-0.00040822847404688514,-0.002842329298287498,-0.007499401563329818,-0.01029859714595241,-0.0012580412485493366,-0.005843435673627688,-0.0028460848659518194,-0.0031641599451838515,-0.00936561101203988,-0.011871789082394064,0.008642452850749065,0.00021128687519448306,-0.005877139014337613,0.004604159569225313,-0.0006623881065569645,-0.003642766385937609,-0.011552104758854743,-0.002058648076476194,0.0003736085465687014,0.00019221966756017075,0.0004837665946701001,-0.00023187090854224525,0.003865484687627871,-0.0035285369543170486,-0.0008089816407646656,0.0027393529446448897,-0.006770128155517288,0.008120560434555568,-0.003842718725672696,0.013748083187321111,0.004692559332131921,0.0062020490626554636,0.011101371180405743,0.001152907340280081,-0.016126921205355936,-0.00041936537435016685,-0.001699350207439092,-8.504755397839136e-05,0.0006220154749656771,-0.0005386158313517931,0.0001047659695411051,-0.005230122802327609,0.007571476753893297,-0.003012831627012627,-0.00011772151478931349,0.009011272251978465,-0.0035715132288283696,-0.0070890946211114875,-0.01315622506094836,0.003372128953863151,-0.005119976865961525,0.0008988195612217708,-0.0030027695256348913,-0.007886594923525588,0.0036502225701395565,-0.007883365553802176,-0.007988101349795575,0.0020049613334705884,0.014949266591926453,-0.00844698786467667,0.005905771788561217,0.002408538033209388,0.006509016166410017,-0.008649285367733354,-0.003364730720994787,-0.006079708248043756,-0.0014223184464399697,-0.010464488333277183,0.003225689676358537,-0.0027532099964063294,-0.002848352146043024,0.01046195390038638,-0.00854610875975419,-0.0029557349661326754,0.0054797893963455645,-0.019681741438757193,0.0015577378108286798,-9.233451367463529e-05,0.000168591783136887,-0.006777871121402676,0.001715858090397677,-0.00345479037536389,-0.0003788171523149294,0.004047192696216559,0.0006410277306792707,-0.00503008029439566,-0.0004853044345969563,0.008286102485120635,0.0073628561735720344,0.0018132485878442402,-0.0015776821223442991,-0.002541127673328185,0.005536948758502478,0.014774077211760408,0.001954666061686038,-0.007218817925342085,0.009418321822301855,-0.004046300929322098,-0.004308137553633584,-0.001498925014176158,-0.005916296967949286,-0.012762919010068343,-0.0037466564957277927,-0.00011131784493126611,-0.000745407100692892,-0.003123084465557643,-0.0018639621187772218,0.010614765460665412,0.0025055625483290213,0.0046293530252348,-0.0014027792108496251,-0.0008783690463577717,0.0015278036593993334,0.0026462507482544174,0.008431154647961537,0.0004778542422717313,-0.0010249294598497715,0.0032941204319314,0.007298646113316436,-0.0016840846144745851,-0.0014608023538101311,-0.0076129600171110584,0.006690757487832433,0.010406299793011468,0.007469028629767128,0.0026105595240672195,-0.00435136124444024,-0.00910208349913299,-0.009724784071226076,-0.001667961776014833,-0.006671898822968871,-0.006949812953145909,3.765433951382095e-05,-0.002295326558980208,0.008964326241009079,0.0030893246518410625,-0.005994993932773821,-0.010058693146049812,-0.0036282456924585033,0.007819405780899107,-0.002404605935768235,-0.008002610624221352,0.0027424615412157596,-0.0003930432920411682,0.012673760537684018,0.003960867422077379,-0.0033842938952983914,-0.00271385296939106,0.0011252818821130342,0.00393278842413102,-0.00820905045572791,0.0020533232732127074,0.0007061716504194997,0.0002024721905082615,-0.005882447379611861,-0.009700823270975267,-0.0008131213125105695,-0.0036607918276159355,0.003902163402615311,0.006723673716149101,-0.005114338615522586,0.006610441273746374,-0.002098816010290435,-0.004010510755718205,0.004345638720837052,-0.004005571134494305,0.002271689477473751,0.009969451223924801,-0.0008171739631097803,-0.005268461314776342,-0.0029495025313846877,0.010907866363268622,0.008637917725170413,-0.000421690670968854,-0.00045049981454309057,-0.004391210927037741,-0.013013570053298661,-0.006047256871635976,0.003486624362696568,-0.01060440973094842,0.0063164010948163485,0.016592980956866222,-0.0064742539619678675,0.00172658539604079,-0.007207747482174111,-0.00511852256320869,0.0033301886226356162,-0.003122829130034396,0.001315895539096528,-0.0017998204446825201,0.0011333822821252663,-0.005170595740273665,0.003944138584423829],\"xaxis\":\"x\",\"yaxis\":\"y\",\"type\":\"histogram\"}],                        {\"template\":{\"data\":{\"histogram2dcontour\":[{\"type\":\"histogram2dcontour\",\"colorbar\":{\"outlinewidth\":0,\"ticks\":\"\"},\"colorscale\":[[0.0,\"#0d0887\"],[0.1111111111111111,\"#46039f\"],[0.2222222222222222,\"#7201a8\"],[0.3333333333333333,\"#9c179e\"],[0.4444444444444444,\"#bd3786\"],[0.5555555555555556,\"#d8576b\"],[0.6666666666666666,\"#ed7953\"],[0.7777777777777778,\"#fb9f3a\"],[0.8888888888888888,\"#fdca26\"],[1.0,\"#f0f921\"]]}],\"choropleth\":[{\"type\":\"choropleth\",\"colorbar\":{\"outlinewidth\":0,\"ticks\":\"\"}}],\"histogram2d\":[{\"type\":\"histogram2d\",\"colorbar\":{\"outlinewidth\":0,\"ticks\":\"\"},\"colorscale\":[[0.0,\"#0d0887\"],[0.1111111111111111,\"#46039f\"],[0.2222222222222222,\"#7201a8\"],[0.3333333333333333,\"#9c179e\"],[0.4444444444444444,\"#bd3786\"],[0.5555555555555556,\"#d8576b\"],[0.6666666666666666,\"#ed7953\"],[0.7777777777777778,\"#fb9f3a\"],[0.8888888888888888,\"#fdca26\"],[1.0,\"#f0f921\"]]}],\"heatmap\":[{\"type\":\"heatmap\",\"colorbar\":{\"outlinewidth\":0,\"ticks\":\"\"},\"colorscale\":[[0.0,\"#0d0887\"],[0.1111111111111111,\"#46039f\"],[0.2222222222222222,\"#7201a8\"],[0.3333333333333333,\"#9c179e\"],[0.4444444444444444,\"#bd3786\"],[0.5555555555555556,\"#d8576b\"],[0.6666666666666666,\"#ed7953\"],[0.7777777777777778,\"#fb9f3a\"],[0.8888888888888888,\"#fdca26\"],[1.0,\"#f0f921\"]]}],\"heatmapgl\":[{\"type\":\"heatmapgl\",\"colorbar\":{\"outlinewidth\":0,\"ticks\":\"\"},\"colorscale\":[[0.0,\"#0d0887\"],[0.1111111111111111,\"#46039f\"],[0.2222222222222222,\"#7201a8\"],[0.3333333333333333,\"#9c179e\"],[0.4444444444444444,\"#bd3786\"],[0.5555555555555556,\"#d8576b\"],[0.6666666666666666,\"#ed7953\"],[0.7777777777777778,\"#fb9f3a\"],[0.8888888888888888,\"#fdca26\"],[1.0,\"#f0f921\"]]}],\"contourcarpet\":[{\"type\":\"contourcarpet\",\"colorbar\":{\"outlinewidth\":0,\"ticks\":\"\"}}],\"contour\":[{\"type\":\"contour\",\"colorbar\":{\"outlinewidth\":0,\"ticks\":\"\"},\"colorscale\":[[0.0,\"#0d0887\"],[0.1111111111111111,\"#46039f\"],[0.2222222222222222,\"#7201a8\"],[0.3333333333333333,\"#9c179e\"],[0.4444444444444444,\"#bd3786\"],[0.5555555555555556,\"#d8576b\"],[0.6666666666666666,\"#ed7953\"],[0.7777777777777778,\"#fb9f3a\"],[0.8888888888888888,\"#fdca26\"],[1.0,\"#f0f921\"]]}],\"surface\":[{\"type\":\"surface\",\"colorbar\":{\"outlinewidth\":0,\"ticks\":\"\"},\"colorscale\":[[0.0,\"#0d0887\"],[0.1111111111111111,\"#46039f\"],[0.2222222222222222,\"#7201a8\"],[0.3333333333333333,\"#9c179e\"],[0.4444444444444444,\"#bd3786\"],[0.5555555555555556,\"#d8576b\"],[0.6666666666666666,\"#ed7953\"],[0.7777777777777778,\"#fb9f3a\"],[0.8888888888888888,\"#fdca26\"],[1.0,\"#f0f921\"]]}],\"mesh3d\":[{\"type\":\"mesh3d\",\"colorbar\":{\"outlinewidth\":0,\"ticks\":\"\"}}],\"scatter\":[{\"fillpattern\":{\"fillmode\":\"overlay\",\"size\":10,\"solidity\":0.2},\"type\":\"scatter\"}],\"parcoords\":[{\"type\":\"parcoords\",\"line\":{\"colorbar\":{\"outlinewidth\":0,\"ticks\":\"\"}}}],\"scatterpolargl\":[{\"type\":\"scatterpolargl\",\"marker\":{\"colorbar\":{\"outlinewidth\":0,\"ticks\":\"\"}}}],\"bar\":[{\"error_x\":{\"color\":\"#2a3f5f\"},\"error_y\":{\"color\":\"#2a3f5f\"},\"marker\":{\"line\":{\"color\":\"#E5ECF6\",\"width\":0.5},\"pattern\":{\"fillmode\":\"overlay\",\"size\":10,\"solidity\":0.2}},\"type\":\"bar\"}],\"scattergeo\":[{\"type\":\"scattergeo\",\"marker\":{\"colorbar\":{\"outlinewidth\":0,\"ticks\":\"\"}}}],\"scatterpolar\":[{\"type\":\"scatterpolar\",\"marker\":{\"colorbar\":{\"outlinewidth\":0,\"ticks\":\"\"}}}],\"histogram\":[{\"marker\":{\"pattern\":{\"fillmode\":\"overlay\",\"size\":10,\"solidity\":0.2}},\"type\":\"histogram\"}],\"scattergl\":[{\"type\":\"scattergl\",\"marker\":{\"colorbar\":{\"outlinewidth\":0,\"ticks\":\"\"}}}],\"scatter3d\":[{\"type\":\"scatter3d\",\"line\":{\"colorbar\":{\"outlinewidth\":0,\"ticks\":\"\"}},\"marker\":{\"colorbar\":{\"outlinewidth\":0,\"ticks\":\"\"}}}],\"scattermapbox\":[{\"type\":\"scattermapbox\",\"marker\":{\"colorbar\":{\"outlinewidth\":0,\"ticks\":\"\"}}}],\"scatterternary\":[{\"type\":\"scatterternary\",\"marker\":{\"colorbar\":{\"outlinewidth\":0,\"ticks\":\"\"}}}],\"scattercarpet\":[{\"type\":\"scattercarpet\",\"marker\":{\"colorbar\":{\"outlinewidth\":0,\"ticks\":\"\"}}}],\"carpet\":[{\"aaxis\":{\"endlinecolor\":\"#2a3f5f\",\"gridcolor\":\"white\",\"linecolor\":\"white\",\"minorgridcolor\":\"white\",\"startlinecolor\":\"#2a3f5f\"},\"baxis\":{\"endlinecolor\":\"#2a3f5f\",\"gridcolor\":\"white\",\"linecolor\":\"white\",\"minorgridcolor\":\"white\",\"startlinecolor\":\"#2a3f5f\"},\"type\":\"carpet\"}],\"table\":[{\"cells\":{\"fill\":{\"color\":\"#EBF0F8\"},\"line\":{\"color\":\"white\"}},\"header\":{\"fill\":{\"color\":\"#C8D4E3\"},\"line\":{\"color\":\"white\"}},\"type\":\"table\"}],\"barpolar\":[{\"marker\":{\"line\":{\"color\":\"#E5ECF6\",\"width\":0.5},\"pattern\":{\"fillmode\":\"overlay\",\"size\":10,\"solidity\":0.2}},\"type\":\"barpolar\"}],\"pie\":[{\"automargin\":true,\"type\":\"pie\"}]},\"layout\":{\"autotypenumbers\":\"strict\",\"colorway\":[\"#636efa\",\"#EF553B\",\"#00cc96\",\"#ab63fa\",\"#FFA15A\",\"#19d3f3\",\"#FF6692\",\"#B6E880\",\"#FF97FF\",\"#FECB52\"],\"font\":{\"color\":\"#2a3f5f\"},\"hovermode\":\"closest\",\"hoverlabel\":{\"align\":\"left\"},\"paper_bgcolor\":\"white\",\"plot_bgcolor\":\"#E5ECF6\",\"polar\":{\"bgcolor\":\"#E5ECF6\",\"angularaxis\":{\"gridcolor\":\"white\",\"linecolor\":\"white\",\"ticks\":\"\"},\"radialaxis\":{\"gridcolor\":\"white\",\"linecolor\":\"white\",\"ticks\":\"\"}},\"ternary\":{\"bgcolor\":\"#E5ECF6\",\"aaxis\":{\"gridcolor\":\"white\",\"linecolor\":\"white\",\"ticks\":\"\"},\"baxis\":{\"gridcolor\":\"white\",\"linecolor\":\"white\",\"ticks\":\"\"},\"caxis\":{\"gridcolor\":\"white\",\"linecolor\":\"white\",\"ticks\":\"\"}},\"coloraxis\":{\"colorbar\":{\"outlinewidth\":0,\"ticks\":\"\"}},\"colorscale\":{\"sequential\":[[0.0,\"#0d0887\"],[0.1111111111111111,\"#46039f\"],[0.2222222222222222,\"#7201a8\"],[0.3333333333333333,\"#9c179e\"],[0.4444444444444444,\"#bd3786\"],[0.5555555555555556,\"#d8576b\"],[0.6666666666666666,\"#ed7953\"],[0.7777777777777778,\"#fb9f3a\"],[0.8888888888888888,\"#fdca26\"],[1.0,\"#f0f921\"]],\"sequentialminus\":[[0.0,\"#0d0887\"],[0.1111111111111111,\"#46039f\"],[0.2222222222222222,\"#7201a8\"],[0.3333333333333333,\"#9c179e\"],[0.4444444444444444,\"#bd3786\"],[0.5555555555555556,\"#d8576b\"],[0.6666666666666666,\"#ed7953\"],[0.7777777777777778,\"#fb9f3a\"],[0.8888888888888888,\"#fdca26\"],[1.0,\"#f0f921\"]],\"diverging\":[[0,\"#8e0152\"],[0.1,\"#c51b7d\"],[0.2,\"#de77ae\"],[0.3,\"#f1b6da\"],[0.4,\"#fde0ef\"],[0.5,\"#f7f7f7\"],[0.6,\"#e6f5d0\"],[0.7,\"#b8e186\"],[0.8,\"#7fbc41\"],[0.9,\"#4d9221\"],[1,\"#276419\"]]},\"xaxis\":{\"gridcolor\":\"white\",\"linecolor\":\"white\",\"ticks\":\"\",\"title\":{\"standoff\":15},\"zerolinecolor\":\"white\",\"automargin\":true,\"zerolinewidth\":2},\"yaxis\":{\"gridcolor\":\"white\",\"linecolor\":\"white\",\"ticks\":\"\",\"title\":{\"standoff\":15},\"zerolinecolor\":\"white\",\"automargin\":true,\"zerolinewidth\":2},\"scene\":{\"xaxis\":{\"backgroundcolor\":\"#E5ECF6\",\"gridcolor\":\"white\",\"linecolor\":\"white\",\"showbackground\":true,\"ticks\":\"\",\"zerolinecolor\":\"white\",\"gridwidth\":2},\"yaxis\":{\"backgroundcolor\":\"#E5ECF6\",\"gridcolor\":\"white\",\"linecolor\":\"white\",\"showbackground\":true,\"ticks\":\"\",\"zerolinecolor\":\"white\",\"gridwidth\":2},\"zaxis\":{\"backgroundcolor\":\"#E5ECF6\",\"gridcolor\":\"white\",\"linecolor\":\"white\",\"showbackground\":true,\"ticks\":\"\",\"zerolinecolor\":\"white\",\"gridwidth\":2}},\"shapedefaults\":{\"line\":{\"color\":\"#2a3f5f\"}},\"annotationdefaults\":{\"arrowcolor\":\"#2a3f5f\",\"arrowhead\":0,\"arrowwidth\":1},\"geo\":{\"bgcolor\":\"white\",\"landcolor\":\"#E5ECF6\",\"subunitcolor\":\"white\",\"showland\":true,\"showlakes\":true,\"lakecolor\":\"white\"},\"title\":{\"x\":0.05},\"mapbox\":{\"style\":\"light\"}}},\"xaxis\":{\"anchor\":\"y\",\"domain\":[0.0,1.0],\"title\":{\"text\":\"Slope Coefficient\"}},\"yaxis\":{\"anchor\":\"x\",\"domain\":[0.0,1.0],\"title\":{\"text\":\"count\"}},\"legend\":{\"title\":{\"text\":\"Distribution Type\"},\"tracegroupgap\":0},\"title\":{\"text\":\"Bootstrapped vs. Simulated Slope Coefficients Distribution\"},\"barmode\":\"relative\"},                        {\"responsive\": true}                    ).then(function(){\n",
       "                            \n",
       "var gd = document.getElementById('747d888e-b368-4a0e-b7d2-6821fd1cb25e');\n",
       "var x = new MutationObserver(function (mutations, observer) {{\n",
       "        var display = window.getComputedStyle(gd).display;\n",
       "        if (!display || display === 'none') {{\n",
       "            console.log([gd, 'removed!']);\n",
       "            Plotly.purge(gd);\n",
       "            observer.disconnect();\n",
       "        }}\n",
       "}});\n",
       "\n",
       "// Listen for the removal of the full notebook cells\n",
       "var notebookContainer = gd.closest('#notebook-container');\n",
       "if (notebookContainer) {{\n",
       "    x.observe(notebookContainer, {childList: true});\n",
       "}}\n",
       "\n",
       "// Listen for the clearing of the current output cell\n",
       "var outputEl = gd.closest('.output');\n",
       "if (outputEl) {{\n",
       "    x.observe(outputEl, {childList: true});\n",
       "}}\n",
       "\n",
       "                        })                };                });            </script>        </div>"
      ]
     },
     "metadata": {},
     "output_type": "display_data"
    },
    {
     "name": "stdout",
     "output_type": "stream",
     "text": [
      "95% Bootstrapped Confidence Interval for Slope: [0.00117704 0.02277774]\n",
      "Simulated p-value for the null hypothesis of no association: 0.035\n"
     ]
    }
   ],
   "source": [
    "import numpy as np\n",
    "import seaborn as sns\n",
    "import statsmodels.formula.api as smf\n",
    "import statsmodels.api as sm\n",
    "import scipy.stats as stats\n",
    "import plotly.express as px\n",
    "import pandas as pd\n",
    "\n",
    "# Load dataset\n",
    "old_faithful = sns.load_dataset('geyser')\n",
    "\n",
    "# Define long wait times\n",
    "long_wait_limit = 71\n",
    "long_wait = old_faithful.waiting > long_wait_limit\n",
    "long_wait_data = old_faithful[long_wait]\n",
    "\n",
    "# Fit the initial model to get observed slope for long wait times\n",
    "observed_model = smf.ols('duration ~ waiting', data=long_wait_data).fit()\n",
    "observed_slope = observed_model.params['waiting']  # Using label access here\n",
    "\n",
    "# Bootstrap sampling for the slope coefficients\n",
    "n_bootstraps = 1000  # Number of bootstrap samples\n",
    "bootstrapped_slope_coefficients = []\n",
    "\n",
    "for _ in range(n_bootstraps):\n",
    "    # Generate a bootstrap sample\n",
    "    bootstrap_sample = long_wait_data.sample(n=len(long_wait_data), replace=True)\n",
    "    # Fit a linear regression model on the bootstrap sample\n",
    "    bootstrap_model = smf.ols('duration ~ waiting', data=bootstrap_sample).fit()\n",
    "    # Store the slope coefficient\n",
    "    bootstrapped_slope_coefficients.append(bootstrap_model.params['waiting'])\n",
    "\n",
    "# Calculate the 95% confidence interval for the bootstrapped slopes\n",
    "boot_ci = np.quantile(bootstrapped_slope_coefficients, [0.025, 0.975])\n",
    "\n",
    "# Simulated sampling under the null hypothesis of no association\n",
    "simulated_slope_coefficients = []\n",
    "beta_0 = 1.65\n",
    "sigma = 0.37\n",
    "\n",
    "for _ in range(n_bootstraps):\n",
    "    # Create a simulated dataset with null hypothesis slope (beta_1 = 0)\n",
    "    old_faithful_simulation = long_wait_data.copy()\n",
    "    old_faithful_simulation['duration'] = (\n",
    "        beta_0 + 0 * old_faithful_simulation.waiting + stats.norm(loc=0, scale=sigma).rvs(size=len(long_wait_data))\n",
    "    )\n",
    "    # Fit a model to the simulated data\n",
    "    simulated_model = smf.ols('duration ~ waiting', data=old_faithful_simulation).fit()\n",
    "    # Store the slope coefficient\n",
    "    simulated_slope_coefficients.append(simulated_model.params['waiting'])\n",
    "\n",
    "# Calculate the simulated p-value: Proportion of simulated slopes >= observed slope\n",
    "simulated_p_value = (np.abs(simulated_slope_coefficients) >= np.abs(observed_slope)).mean()\n",
    "\n",
    "# Visualization of the bootstrapped and simulated slope distributions\n",
    "df = pd.DataFrame({\n",
    "    'Bootstrapped Slopes': bootstrapped_slope_coefficients,\n",
    "    'Simulated Slopes (Null)': simulated_slope_coefficients\n",
    "})\n",
    "fig = px.histogram(df, x=['Bootstrapped Slopes', 'Simulated Slopes (Null)'], nbins=50,\n",
    "                   title=\"Bootstrapped vs. Simulated Slope Coefficients Distribution\",\n",
    "                   labels={'value': 'Slope Coefficient', 'variable': 'Distribution Type'})\n",
    "fig.show()\n",
    "\n",
    "# Print results\n",
    "print(\"95% Bootstrapped Confidence Interval for Slope:\", boot_ci)\n",
    "print(\"Simulated p-value for the null hypothesis of no association:\", simulated_p_value)\n"
   ]
  },
  {
   "cell_type": "markdown",
   "id": "369a7abf",
   "metadata": {},
   "source": [
    "The 95% Bootstrapped Confidence Interval for Slope is [0.00117704, 0.02277774] which does not contain 0 as 0 < 0.00117704. This is means we can say with 95% confidence or that in 95/100 samples we will not find 0 in the interval.\n",
    "\n",
    "the p-value is 0.035, which is less than 0.05, hence we can say there is suffecient evidence to reject the null hypothesis indicating it is highly likely that there is a positive linear association between wait time and duration."
   ]
  },
  {
   "cell_type": "markdown",
   "id": "a1163d93",
   "metadata": {},
   "source": [
    "### 11. Since we've considered wait times of around <64  \"short\" and wait times of >71 \"long\", let's instead just divide the data and insead call wait times of <68 \"short\" and otherwise just call them \"long\". Consider the *Simple Linear Regression* model specification using an *indicator variable* of the wait time length<br>\n",
    "\n",
    "$$\\large Y_i = \\beta_{\\text{intercept}} + 1_{[\\text{\"long\"}]}(\\text{k_i})\\beta_{\\text{contrast}} + \\epsilon_i \\quad \\text{ where } \\quad \\epsilon_i \\sim \\mathcal N\\left(0, \\sigma\\right)$$\n",
    "\n",
    "### where we use $k_i$ (rather than $x_i$) (to refer to the \"kind\" or \"katagory\" or \"kontrast\") column (that you may have noticed was already a part) of the original dataset; and, explain the \"big picture\" differences between this model specification and the previously considered model specifications<br>\n",
    "\n",
    "1. `smf.ols('duration ~ waiting', data=old_faithful)`\n",
    "2. `smf.ols('duration ~ waiting', data=old_faithful[short_wait])`\n",
    "3. `smf.ols('duration ~ waiting', data=old_faithful[long_wait])`\n",
    "\n",
    "### and report the evidence against a *null hypothesis* of \"no difference between groups \"on average\") for the new *indicator variable* based model<br>\n"
   ]
  },
  {
   "cell_type": "code",
   "execution_count": 20,
   "id": "1efc4f93",
   "metadata": {},
   "outputs": [
    {
     "data": {
      "text/html": [
       "<table class=\"simpletable\">\n",
       "<tr>\n",
       "                        <td></td>                           <th>coef</th>     <th>std err</th>      <th>t</th>      <th>P>|t|</th>  <th>[0.025</th>    <th>0.975]</th>  \n",
       "</tr>\n",
       "<tr>\n",
       "  <th>Intercept</th>                                     <td>    2.0943</td> <td>    0.041</td> <td>   50.752</td> <td> 0.000</td> <td>    2.013</td> <td>    2.176</td>\n",
       "</tr>\n",
       "<tr>\n",
       "  <th>C(kind, Treatment(reference=\"short\"))[T.long]</th> <td>    2.2036</td> <td>    0.052</td> <td>   42.464</td> <td> 0.000</td> <td>    2.101</td> <td>    2.306</td>\n",
       "</tr>\n",
       "</table>"
      ],
      "text/latex": [
       "\\begin{center}\n",
       "\\begin{tabular}{lcccccc}\n",
       "\\toprule\n",
       "                                                       & \\textbf{coef} & \\textbf{std err} & \\textbf{t} & \\textbf{P$> |$t$|$} & \\textbf{[0.025} & \\textbf{0.975]}  \\\\\n",
       "\\midrule\n",
       "\\textbf{Intercept}                                     &       2.0943  &        0.041     &    50.752  &         0.000        &        2.013    &        2.176     \\\\\n",
       "\\textbf{C(kind, Treatment(reference=\"short\"))[T.long]} &       2.2036  &        0.052     &    42.464  &         0.000        &        2.101    &        2.306     \\\\\n",
       "\\bottomrule\n",
       "\\end{tabular}\n",
       "\\end{center}"
      ],
      "text/plain": [
       "<class 'statsmodels.iolib.table.SimpleTable'>"
      ]
     },
     "metadata": {},
     "output_type": "display_data"
    },
    {
     "data": {
      "application/vnd.plotly.v1+json": {
       "config": {
        "plotlyServerURL": "https://plot.ly"
       },
       "data": [
        {
         "alignmentgroup": "True",
         "hovertemplate": "kind=%{x}<br>duration=%{y}<extra></extra>",
         "legendgroup": "",
         "marker": {
          "color": "#636efa"
         },
         "name": "",
         "notched": false,
         "offsetgroup": "",
         "orientation": "v",
         "showlegend": false,
         "type": "box",
         "x": [
          "long",
          "short",
          "long",
          "short",
          "long",
          "short",
          "long",
          "long",
          "short",
          "long",
          "short",
          "long",
          "long",
          "short",
          "long",
          "short",
          "short",
          "long",
          "short",
          "long",
          "short",
          "short",
          "long",
          "long",
          "long",
          "long",
          "short",
          "long",
          "long",
          "long",
          "long",
          "long",
          "short",
          "long",
          "long",
          "short",
          "short",
          "long",
          "short",
          "long",
          "long",
          "short",
          "long",
          "short",
          "long",
          "long",
          "short",
          "short",
          "long",
          "short",
          "long",
          "long",
          "short",
          "long",
          "short",
          "long",
          "long",
          "short",
          "long",
          "long",
          "short",
          "long",
          "short",
          "long",
          "short",
          "long",
          "long",
          "long",
          "short",
          "long",
          "long",
          "short",
          "long",
          "long",
          "short",
          "long",
          "short",
          "long",
          "long",
          "long",
          "long",
          "long",
          "long",
          "short",
          "long",
          "long",
          "long",
          "long",
          "short",
          "long",
          "short",
          "long",
          "short",
          "long",
          "short",
          "long",
          "long",
          "long",
          "short",
          "long",
          "short",
          "long",
          "short",
          "long",
          "long",
          "short",
          "long",
          "short",
          "long",
          "long",
          "long",
          "short",
          "long",
          "long",
          "short",
          "long",
          "short",
          "long",
          "short",
          "long",
          "short",
          "long",
          "long",
          "short",
          "long",
          "long",
          "short",
          "long",
          "short",
          "long",
          "short",
          "long",
          "short",
          "long",
          "short",
          "long",
          "short",
          "long",
          "short",
          "long",
          "long",
          "short",
          "long",
          "long",
          "long",
          "short",
          "long",
          "short",
          "long",
          "short",
          "long",
          "long",
          "short",
          "long",
          "long",
          "long",
          "long",
          "long",
          "short",
          "long",
          "short",
          "long",
          "short",
          "long",
          "short",
          "long",
          "short",
          "long",
          "short",
          "long",
          "short",
          "short",
          "long",
          "long",
          "long",
          "long",
          "long",
          "short",
          "long",
          "long",
          "short",
          "long",
          "long",
          "long",
          "short",
          "long",
          "long",
          "short",
          "long",
          "short",
          "long",
          "short",
          "long",
          "long",
          "long",
          "long",
          "long",
          "long",
          "short",
          "long",
          "short",
          "long",
          "long",
          "short",
          "long",
          "short",
          "long",
          "long",
          "short",
          "long",
          "long",
          "long",
          "short",
          "long",
          "short",
          "long",
          "short",
          "long",
          "short",
          "long",
          "short",
          "long",
          "short",
          "long",
          "long",
          "long",
          "long",
          "long",
          "long",
          "long",
          "long",
          "short",
          "long",
          "short",
          "long",
          "short",
          "short",
          "long",
          "long",
          "short",
          "long",
          "short",
          "long",
          "short",
          "long",
          "long",
          "short",
          "long",
          "short",
          "long",
          "short",
          "long",
          "long",
          "long",
          "long",
          "long",
          "long",
          "long",
          "short",
          "long",
          "long",
          "long",
          "short",
          "long",
          "short",
          "short",
          "long",
          "long",
          "short",
          "long",
          "short",
          "long"
         ],
         "x0": " ",
         "xaxis": "x",
         "y": [
          3.6,
          1.8,
          3.333,
          2.283,
          4.533,
          2.883,
          4.7,
          3.6,
          1.95,
          4.35,
          1.833,
          3.917,
          4.2,
          1.75,
          4.7,
          2.167,
          1.75,
          4.8,
          1.6,
          4.25,
          1.8,
          1.75,
          3.45,
          3.067,
          4.533,
          3.6,
          1.967,
          4.083,
          3.85,
          4.433,
          4.3,
          4.467,
          3.367,
          4.033,
          3.833,
          2.017,
          1.867,
          4.833,
          1.833,
          4.783,
          4.35,
          1.883,
          4.567,
          1.75,
          4.533,
          3.317,
          3.833,
          2.1,
          4.633,
          2,
          4.8,
          4.716,
          1.833,
          4.833,
          1.733,
          4.883,
          3.717,
          1.6669999999999998,
          4.567,
          4.317,
          2.233,
          4.5,
          1.75,
          4.8,
          1.817,
          4.4,
          4.167,
          4.7,
          2.067,
          4.7,
          4.033,
          1.967,
          4.5,
          4,
          1.983,
          5.067,
          2.017,
          4.567,
          3.883,
          3.6,
          4.133,
          4.333,
          4.1,
          2.633,
          4.067,
          4.933,
          3.95,
          4.517,
          2.167,
          4,
          2.2,
          4.333,
          1.867,
          4.817,
          1.833,
          4.3,
          4.667,
          3.75,
          1.867,
          4.9,
          2.483,
          4.367,
          2.1,
          4.5,
          4.05,
          1.867,
          4.7,
          1.783,
          4.85,
          3.683,
          4.7330000000000005,
          2.3,
          4.9,
          4.417,
          1.7,
          4.633,
          2.317,
          4.6,
          1.817,
          4.417,
          2.617,
          4.067,
          4.25,
          1.967,
          4.6,
          3.767,
          1.917,
          4.5,
          2.267,
          4.65,
          1.867,
          4.167,
          2.8,
          4.333,
          1.833,
          4.383,
          1.883,
          4.933,
          2.033,
          3.733,
          4.2330000000000005,
          2.233,
          4.533,
          4.817,
          4.333,
          1.983,
          4.633,
          2.017,
          5.1,
          1.8,
          5.033,
          4,
          2.4,
          4.6,
          3.567,
          4,
          4.5,
          4.083,
          1.8,
          3.967,
          2.2,
          4.15,
          2,
          3.833,
          3.5,
          4.583,
          2.367,
          5,
          1.933,
          4.617,
          1.917,
          2.083,
          4.583,
          3.333,
          4.167,
          4.333,
          4.5,
          2.417,
          4,
          4.167,
          1.883,
          4.583,
          4.25,
          3.767,
          2.033,
          4.433,
          4.083,
          1.833,
          4.417,
          2.1830000000000003,
          4.8,
          1.833,
          4.8,
          4.1,
          3.966,
          4.2330000000000005,
          3.5,
          4.3660000000000005,
          2.25,
          4.667,
          2.1,
          4.35,
          4.133,
          1.867,
          4.6,
          1.783,
          4.367,
          3.85,
          1.933,
          4.5,
          2.383,
          4.7,
          1.867,
          3.833,
          3.417,
          4.2330000000000005,
          2.4,
          4.8,
          2,
          4.15,
          1.867,
          4.267,
          1.75,
          4.4830000000000005,
          4,
          4.117,
          4.083,
          4.267,
          3.917,
          4.55,
          4.083,
          2.417,
          4.183,
          2.217,
          4.45,
          1.883,
          1.85,
          4.283,
          3.95,
          2.333,
          4.15,
          2.35,
          4.933,
          2.9,
          4.583,
          3.833,
          2.083,
          4.367,
          2.133,
          4.35,
          2.2,
          4.45,
          3.567,
          4.5,
          4.15,
          3.817,
          3.917,
          4.45,
          2,
          4.283,
          4.767,
          4.533,
          1.85,
          4.25,
          1.983,
          2.25,
          4.75,
          4.117,
          2.15,
          4.417,
          1.817,
          4.467
         ],
         "y0": " ",
         "yaxis": "y"
        }
       ],
       "layout": {
        "boxmode": "group",
        "legend": {
         "tracegroupgap": 0
        },
        "template": {
         "data": {
          "bar": [
           {
            "error_x": {
             "color": "#2a3f5f"
            },
            "error_y": {
             "color": "#2a3f5f"
            },
            "marker": {
             "line": {
              "color": "#E5ECF6",
              "width": 0.5
             },
             "pattern": {
              "fillmode": "overlay",
              "size": 10,
              "solidity": 0.2
             }
            },
            "type": "bar"
           }
          ],
          "barpolar": [
           {
            "marker": {
             "line": {
              "color": "#E5ECF6",
              "width": 0.5
             },
             "pattern": {
              "fillmode": "overlay",
              "size": 10,
              "solidity": 0.2
             }
            },
            "type": "barpolar"
           }
          ],
          "carpet": [
           {
            "aaxis": {
             "endlinecolor": "#2a3f5f",
             "gridcolor": "white",
             "linecolor": "white",
             "minorgridcolor": "white",
             "startlinecolor": "#2a3f5f"
            },
            "baxis": {
             "endlinecolor": "#2a3f5f",
             "gridcolor": "white",
             "linecolor": "white",
             "minorgridcolor": "white",
             "startlinecolor": "#2a3f5f"
            },
            "type": "carpet"
           }
          ],
          "choropleth": [
           {
            "colorbar": {
             "outlinewidth": 0,
             "ticks": ""
            },
            "type": "choropleth"
           }
          ],
          "contour": [
           {
            "colorbar": {
             "outlinewidth": 0,
             "ticks": ""
            },
            "colorscale": [
             [
              0,
              "#0d0887"
             ],
             [
              0.1111111111111111,
              "#46039f"
             ],
             [
              0.2222222222222222,
              "#7201a8"
             ],
             [
              0.3333333333333333,
              "#9c179e"
             ],
             [
              0.4444444444444444,
              "#bd3786"
             ],
             [
              0.5555555555555556,
              "#d8576b"
             ],
             [
              0.6666666666666666,
              "#ed7953"
             ],
             [
              0.7777777777777778,
              "#fb9f3a"
             ],
             [
              0.8888888888888888,
              "#fdca26"
             ],
             [
              1,
              "#f0f921"
             ]
            ],
            "type": "contour"
           }
          ],
          "contourcarpet": [
           {
            "colorbar": {
             "outlinewidth": 0,
             "ticks": ""
            },
            "type": "contourcarpet"
           }
          ],
          "heatmap": [
           {
            "colorbar": {
             "outlinewidth": 0,
             "ticks": ""
            },
            "colorscale": [
             [
              0,
              "#0d0887"
             ],
             [
              0.1111111111111111,
              "#46039f"
             ],
             [
              0.2222222222222222,
              "#7201a8"
             ],
             [
              0.3333333333333333,
              "#9c179e"
             ],
             [
              0.4444444444444444,
              "#bd3786"
             ],
             [
              0.5555555555555556,
              "#d8576b"
             ],
             [
              0.6666666666666666,
              "#ed7953"
             ],
             [
              0.7777777777777778,
              "#fb9f3a"
             ],
             [
              0.8888888888888888,
              "#fdca26"
             ],
             [
              1,
              "#f0f921"
             ]
            ],
            "type": "heatmap"
           }
          ],
          "heatmapgl": [
           {
            "colorbar": {
             "outlinewidth": 0,
             "ticks": ""
            },
            "colorscale": [
             [
              0,
              "#0d0887"
             ],
             [
              0.1111111111111111,
              "#46039f"
             ],
             [
              0.2222222222222222,
              "#7201a8"
             ],
             [
              0.3333333333333333,
              "#9c179e"
             ],
             [
              0.4444444444444444,
              "#bd3786"
             ],
             [
              0.5555555555555556,
              "#d8576b"
             ],
             [
              0.6666666666666666,
              "#ed7953"
             ],
             [
              0.7777777777777778,
              "#fb9f3a"
             ],
             [
              0.8888888888888888,
              "#fdca26"
             ],
             [
              1,
              "#f0f921"
             ]
            ],
            "type": "heatmapgl"
           }
          ],
          "histogram": [
           {
            "marker": {
             "pattern": {
              "fillmode": "overlay",
              "size": 10,
              "solidity": 0.2
             }
            },
            "type": "histogram"
           }
          ],
          "histogram2d": [
           {
            "colorbar": {
             "outlinewidth": 0,
             "ticks": ""
            },
            "colorscale": [
             [
              0,
              "#0d0887"
             ],
             [
              0.1111111111111111,
              "#46039f"
             ],
             [
              0.2222222222222222,
              "#7201a8"
             ],
             [
              0.3333333333333333,
              "#9c179e"
             ],
             [
              0.4444444444444444,
              "#bd3786"
             ],
             [
              0.5555555555555556,
              "#d8576b"
             ],
             [
              0.6666666666666666,
              "#ed7953"
             ],
             [
              0.7777777777777778,
              "#fb9f3a"
             ],
             [
              0.8888888888888888,
              "#fdca26"
             ],
             [
              1,
              "#f0f921"
             ]
            ],
            "type": "histogram2d"
           }
          ],
          "histogram2dcontour": [
           {
            "colorbar": {
             "outlinewidth": 0,
             "ticks": ""
            },
            "colorscale": [
             [
              0,
              "#0d0887"
             ],
             [
              0.1111111111111111,
              "#46039f"
             ],
             [
              0.2222222222222222,
              "#7201a8"
             ],
             [
              0.3333333333333333,
              "#9c179e"
             ],
             [
              0.4444444444444444,
              "#bd3786"
             ],
             [
              0.5555555555555556,
              "#d8576b"
             ],
             [
              0.6666666666666666,
              "#ed7953"
             ],
             [
              0.7777777777777778,
              "#fb9f3a"
             ],
             [
              0.8888888888888888,
              "#fdca26"
             ],
             [
              1,
              "#f0f921"
             ]
            ],
            "type": "histogram2dcontour"
           }
          ],
          "mesh3d": [
           {
            "colorbar": {
             "outlinewidth": 0,
             "ticks": ""
            },
            "type": "mesh3d"
           }
          ],
          "parcoords": [
           {
            "line": {
             "colorbar": {
              "outlinewidth": 0,
              "ticks": ""
             }
            },
            "type": "parcoords"
           }
          ],
          "pie": [
           {
            "automargin": true,
            "type": "pie"
           }
          ],
          "scatter": [
           {
            "fillpattern": {
             "fillmode": "overlay",
             "size": 10,
             "solidity": 0.2
            },
            "type": "scatter"
           }
          ],
          "scatter3d": [
           {
            "line": {
             "colorbar": {
              "outlinewidth": 0,
              "ticks": ""
             }
            },
            "marker": {
             "colorbar": {
              "outlinewidth": 0,
              "ticks": ""
             }
            },
            "type": "scatter3d"
           }
          ],
          "scattercarpet": [
           {
            "marker": {
             "colorbar": {
              "outlinewidth": 0,
              "ticks": ""
             }
            },
            "type": "scattercarpet"
           }
          ],
          "scattergeo": [
           {
            "marker": {
             "colorbar": {
              "outlinewidth": 0,
              "ticks": ""
             }
            },
            "type": "scattergeo"
           }
          ],
          "scattergl": [
           {
            "marker": {
             "colorbar": {
              "outlinewidth": 0,
              "ticks": ""
             }
            },
            "type": "scattergl"
           }
          ],
          "scattermapbox": [
           {
            "marker": {
             "colorbar": {
              "outlinewidth": 0,
              "ticks": ""
             }
            },
            "type": "scattermapbox"
           }
          ],
          "scatterpolar": [
           {
            "marker": {
             "colorbar": {
              "outlinewidth": 0,
              "ticks": ""
             }
            },
            "type": "scatterpolar"
           }
          ],
          "scatterpolargl": [
           {
            "marker": {
             "colorbar": {
              "outlinewidth": 0,
              "ticks": ""
             }
            },
            "type": "scatterpolargl"
           }
          ],
          "scatterternary": [
           {
            "marker": {
             "colorbar": {
              "outlinewidth": 0,
              "ticks": ""
             }
            },
            "type": "scatterternary"
           }
          ],
          "surface": [
           {
            "colorbar": {
             "outlinewidth": 0,
             "ticks": ""
            },
            "colorscale": [
             [
              0,
              "#0d0887"
             ],
             [
              0.1111111111111111,
              "#46039f"
             ],
             [
              0.2222222222222222,
              "#7201a8"
             ],
             [
              0.3333333333333333,
              "#9c179e"
             ],
             [
              0.4444444444444444,
              "#bd3786"
             ],
             [
              0.5555555555555556,
              "#d8576b"
             ],
             [
              0.6666666666666666,
              "#ed7953"
             ],
             [
              0.7777777777777778,
              "#fb9f3a"
             ],
             [
              0.8888888888888888,
              "#fdca26"
             ],
             [
              1,
              "#f0f921"
             ]
            ],
            "type": "surface"
           }
          ],
          "table": [
           {
            "cells": {
             "fill": {
              "color": "#EBF0F8"
             },
             "line": {
              "color": "white"
             }
            },
            "header": {
             "fill": {
              "color": "#C8D4E3"
             },
             "line": {
              "color": "white"
             }
            },
            "type": "table"
           }
          ]
         },
         "layout": {
          "annotationdefaults": {
           "arrowcolor": "#2a3f5f",
           "arrowhead": 0,
           "arrowwidth": 1
          },
          "autotypenumbers": "strict",
          "coloraxis": {
           "colorbar": {
            "outlinewidth": 0,
            "ticks": ""
           }
          },
          "colorscale": {
           "diverging": [
            [
             0,
             "#8e0152"
            ],
            [
             0.1,
             "#c51b7d"
            ],
            [
             0.2,
             "#de77ae"
            ],
            [
             0.3,
             "#f1b6da"
            ],
            [
             0.4,
             "#fde0ef"
            ],
            [
             0.5,
             "#f7f7f7"
            ],
            [
             0.6,
             "#e6f5d0"
            ],
            [
             0.7,
             "#b8e186"
            ],
            [
             0.8,
             "#7fbc41"
            ],
            [
             0.9,
             "#4d9221"
            ],
            [
             1,
             "#276419"
            ]
           ],
           "sequential": [
            [
             0,
             "#0d0887"
            ],
            [
             0.1111111111111111,
             "#46039f"
            ],
            [
             0.2222222222222222,
             "#7201a8"
            ],
            [
             0.3333333333333333,
             "#9c179e"
            ],
            [
             0.4444444444444444,
             "#bd3786"
            ],
            [
             0.5555555555555556,
             "#d8576b"
            ],
            [
             0.6666666666666666,
             "#ed7953"
            ],
            [
             0.7777777777777778,
             "#fb9f3a"
            ],
            [
             0.8888888888888888,
             "#fdca26"
            ],
            [
             1,
             "#f0f921"
            ]
           ],
           "sequentialminus": [
            [
             0,
             "#0d0887"
            ],
            [
             0.1111111111111111,
             "#46039f"
            ],
            [
             0.2222222222222222,
             "#7201a8"
            ],
            [
             0.3333333333333333,
             "#9c179e"
            ],
            [
             0.4444444444444444,
             "#bd3786"
            ],
            [
             0.5555555555555556,
             "#d8576b"
            ],
            [
             0.6666666666666666,
             "#ed7953"
            ],
            [
             0.7777777777777778,
             "#fb9f3a"
            ],
            [
             0.8888888888888888,
             "#fdca26"
            ],
            [
             1,
             "#f0f921"
            ]
           ]
          },
          "colorway": [
           "#636efa",
           "#EF553B",
           "#00cc96",
           "#ab63fa",
           "#FFA15A",
           "#19d3f3",
           "#FF6692",
           "#B6E880",
           "#FF97FF",
           "#FECB52"
          ],
          "font": {
           "color": "#2a3f5f"
          },
          "geo": {
           "bgcolor": "white",
           "lakecolor": "white",
           "landcolor": "#E5ECF6",
           "showlakes": true,
           "showland": true,
           "subunitcolor": "white"
          },
          "hoverlabel": {
           "align": "left"
          },
          "hovermode": "closest",
          "mapbox": {
           "style": "light"
          },
          "paper_bgcolor": "white",
          "plot_bgcolor": "#E5ECF6",
          "polar": {
           "angularaxis": {
            "gridcolor": "white",
            "linecolor": "white",
            "ticks": ""
           },
           "bgcolor": "#E5ECF6",
           "radialaxis": {
            "gridcolor": "white",
            "linecolor": "white",
            "ticks": ""
           }
          },
          "scene": {
           "xaxis": {
            "backgroundcolor": "#E5ECF6",
            "gridcolor": "white",
            "gridwidth": 2,
            "linecolor": "white",
            "showbackground": true,
            "ticks": "",
            "zerolinecolor": "white"
           },
           "yaxis": {
            "backgroundcolor": "#E5ECF6",
            "gridcolor": "white",
            "gridwidth": 2,
            "linecolor": "white",
            "showbackground": true,
            "ticks": "",
            "zerolinecolor": "white"
           },
           "zaxis": {
            "backgroundcolor": "#E5ECF6",
            "gridcolor": "white",
            "gridwidth": 2,
            "linecolor": "white",
            "showbackground": true,
            "ticks": "",
            "zerolinecolor": "white"
           }
          },
          "shapedefaults": {
           "line": {
            "color": "#2a3f5f"
           }
          },
          "ternary": {
           "aaxis": {
            "gridcolor": "white",
            "linecolor": "white",
            "ticks": ""
           },
           "baxis": {
            "gridcolor": "white",
            "linecolor": "white",
            "ticks": ""
           },
           "bgcolor": "#E5ECF6",
           "caxis": {
            "gridcolor": "white",
            "linecolor": "white",
            "ticks": ""
           }
          },
          "title": {
           "x": 0.05
          },
          "xaxis": {
           "automargin": true,
           "gridcolor": "white",
           "linecolor": "white",
           "ticks": "",
           "title": {
            "standoff": 15
           },
           "zerolinecolor": "white",
           "zerolinewidth": 2
          },
          "yaxis": {
           "automargin": true,
           "gridcolor": "white",
           "linecolor": "white",
           "ticks": "",
           "title": {
            "standoff": 15
           },
           "zerolinecolor": "white",
           "zerolinewidth": 2
          }
         }
        },
        "title": {
         "text": "duration ~ kind"
        },
        "xaxis": {
         "anchor": "y",
         "categoryarray": [
          "short",
          "long"
         ],
         "categoryorder": "array",
         "domain": [
          0,
          1
         ],
         "title": {
          "text": "kind"
         }
        },
        "yaxis": {
         "anchor": "x",
         "domain": [
          0,
          1
         ],
         "title": {
          "text": "duration"
         }
        }
       }
      },
      "text/html": [
       "<div>                            <div id=\"1c028681-3e09-47e6-818a-b50eeb647764\" class=\"plotly-graph-div\" style=\"height:525px; width:100%;\"></div>            <script type=\"text/javascript\">                require([\"plotly\"], function(Plotly) {                    window.PLOTLYENV=window.PLOTLYENV || {};                                    if (document.getElementById(\"1c028681-3e09-47e6-818a-b50eeb647764\")) {                    Plotly.newPlot(                        \"1c028681-3e09-47e6-818a-b50eeb647764\",                        [{\"alignmentgroup\":\"True\",\"hovertemplate\":\"kind=%{x}\\u003cbr\\u003eduration=%{y}\\u003cextra\\u003e\\u003c\\u002fextra\\u003e\",\"legendgroup\":\"\",\"marker\":{\"color\":\"#636efa\"},\"name\":\"\",\"notched\":false,\"offsetgroup\":\"\",\"orientation\":\"v\",\"showlegend\":false,\"x\":[\"long\",\"short\",\"long\",\"short\",\"long\",\"short\",\"long\",\"long\",\"short\",\"long\",\"short\",\"long\",\"long\",\"short\",\"long\",\"short\",\"short\",\"long\",\"short\",\"long\",\"short\",\"short\",\"long\",\"long\",\"long\",\"long\",\"short\",\"long\",\"long\",\"long\",\"long\",\"long\",\"short\",\"long\",\"long\",\"short\",\"short\",\"long\",\"short\",\"long\",\"long\",\"short\",\"long\",\"short\",\"long\",\"long\",\"short\",\"short\",\"long\",\"short\",\"long\",\"long\",\"short\",\"long\",\"short\",\"long\",\"long\",\"short\",\"long\",\"long\",\"short\",\"long\",\"short\",\"long\",\"short\",\"long\",\"long\",\"long\",\"short\",\"long\",\"long\",\"short\",\"long\",\"long\",\"short\",\"long\",\"short\",\"long\",\"long\",\"long\",\"long\",\"long\",\"long\",\"short\",\"long\",\"long\",\"long\",\"long\",\"short\",\"long\",\"short\",\"long\",\"short\",\"long\",\"short\",\"long\",\"long\",\"long\",\"short\",\"long\",\"short\",\"long\",\"short\",\"long\",\"long\",\"short\",\"long\",\"short\",\"long\",\"long\",\"long\",\"short\",\"long\",\"long\",\"short\",\"long\",\"short\",\"long\",\"short\",\"long\",\"short\",\"long\",\"long\",\"short\",\"long\",\"long\",\"short\",\"long\",\"short\",\"long\",\"short\",\"long\",\"short\",\"long\",\"short\",\"long\",\"short\",\"long\",\"short\",\"long\",\"long\",\"short\",\"long\",\"long\",\"long\",\"short\",\"long\",\"short\",\"long\",\"short\",\"long\",\"long\",\"short\",\"long\",\"long\",\"long\",\"long\",\"long\",\"short\",\"long\",\"short\",\"long\",\"short\",\"long\",\"short\",\"long\",\"short\",\"long\",\"short\",\"long\",\"short\",\"short\",\"long\",\"long\",\"long\",\"long\",\"long\",\"short\",\"long\",\"long\",\"short\",\"long\",\"long\",\"long\",\"short\",\"long\",\"long\",\"short\",\"long\",\"short\",\"long\",\"short\",\"long\",\"long\",\"long\",\"long\",\"long\",\"long\",\"short\",\"long\",\"short\",\"long\",\"long\",\"short\",\"long\",\"short\",\"long\",\"long\",\"short\",\"long\",\"long\",\"long\",\"short\",\"long\",\"short\",\"long\",\"short\",\"long\",\"short\",\"long\",\"short\",\"long\",\"short\",\"long\",\"long\",\"long\",\"long\",\"long\",\"long\",\"long\",\"long\",\"short\",\"long\",\"short\",\"long\",\"short\",\"short\",\"long\",\"long\",\"short\",\"long\",\"short\",\"long\",\"short\",\"long\",\"long\",\"short\",\"long\",\"short\",\"long\",\"short\",\"long\",\"long\",\"long\",\"long\",\"long\",\"long\",\"long\",\"short\",\"long\",\"long\",\"long\",\"short\",\"long\",\"short\",\"short\",\"long\",\"long\",\"short\",\"long\",\"short\",\"long\"],\"x0\":\" \",\"xaxis\":\"x\",\"y\":[3.6,1.8,3.333,2.283,4.533,2.883,4.7,3.6,1.95,4.35,1.833,3.917,4.2,1.75,4.7,2.167,1.75,4.8,1.6,4.25,1.8,1.75,3.45,3.067,4.533,3.6,1.967,4.083,3.85,4.433,4.3,4.467,3.367,4.033,3.833,2.017,1.867,4.833,1.833,4.783,4.35,1.883,4.567,1.75,4.533,3.317,3.833,2.1,4.633,2.0,4.8,4.716,1.833,4.833,1.733,4.883,3.717,1.6669999999999998,4.567,4.317,2.233,4.5,1.75,4.8,1.817,4.4,4.167,4.7,2.067,4.7,4.033,1.967,4.5,4.0,1.983,5.067,2.017,4.567,3.883,3.6,4.133,4.333,4.1,2.633,4.067,4.933,3.95,4.517,2.167,4.0,2.2,4.333,1.867,4.817,1.833,4.3,4.667,3.75,1.867,4.9,2.483,4.367,2.1,4.5,4.05,1.867,4.7,1.783,4.85,3.683,4.7330000000000005,2.3,4.9,4.417,1.7,4.633,2.317,4.6,1.817,4.417,2.617,4.067,4.25,1.967,4.6,3.767,1.917,4.5,2.267,4.65,1.867,4.167,2.8,4.333,1.833,4.383,1.883,4.933,2.033,3.733,4.2330000000000005,2.233,4.533,4.817,4.333,1.983,4.633,2.017,5.1,1.8,5.033,4.0,2.4,4.6,3.567,4.0,4.5,4.083,1.8,3.967,2.2,4.15,2.0,3.833,3.5,4.583,2.367,5.0,1.933,4.617,1.917,2.083,4.583,3.333,4.167,4.333,4.5,2.417,4.0,4.167,1.883,4.583,4.25,3.767,2.033,4.433,4.083,1.833,4.417,2.1830000000000003,4.8,1.833,4.8,4.1,3.966,4.2330000000000005,3.5,4.3660000000000005,2.25,4.667,2.1,4.35,4.133,1.867,4.6,1.783,4.367,3.85,1.933,4.5,2.383,4.7,1.867,3.833,3.417,4.2330000000000005,2.4,4.8,2.0,4.15,1.867,4.267,1.75,4.4830000000000005,4.0,4.117,4.083,4.267,3.917,4.55,4.083,2.417,4.183,2.217,4.45,1.883,1.85,4.283,3.95,2.333,4.15,2.35,4.933,2.9,4.583,3.833,2.083,4.367,2.133,4.35,2.2,4.45,3.567,4.5,4.15,3.817,3.917,4.45,2.0,4.283,4.767,4.533,1.85,4.25,1.983,2.25,4.75,4.117,2.15,4.417,1.817,4.467],\"y0\":\" \",\"yaxis\":\"y\",\"type\":\"box\"}],                        {\"template\":{\"data\":{\"histogram2dcontour\":[{\"type\":\"histogram2dcontour\",\"colorbar\":{\"outlinewidth\":0,\"ticks\":\"\"},\"colorscale\":[[0.0,\"#0d0887\"],[0.1111111111111111,\"#46039f\"],[0.2222222222222222,\"#7201a8\"],[0.3333333333333333,\"#9c179e\"],[0.4444444444444444,\"#bd3786\"],[0.5555555555555556,\"#d8576b\"],[0.6666666666666666,\"#ed7953\"],[0.7777777777777778,\"#fb9f3a\"],[0.8888888888888888,\"#fdca26\"],[1.0,\"#f0f921\"]]}],\"choropleth\":[{\"type\":\"choropleth\",\"colorbar\":{\"outlinewidth\":0,\"ticks\":\"\"}}],\"histogram2d\":[{\"type\":\"histogram2d\",\"colorbar\":{\"outlinewidth\":0,\"ticks\":\"\"},\"colorscale\":[[0.0,\"#0d0887\"],[0.1111111111111111,\"#46039f\"],[0.2222222222222222,\"#7201a8\"],[0.3333333333333333,\"#9c179e\"],[0.4444444444444444,\"#bd3786\"],[0.5555555555555556,\"#d8576b\"],[0.6666666666666666,\"#ed7953\"],[0.7777777777777778,\"#fb9f3a\"],[0.8888888888888888,\"#fdca26\"],[1.0,\"#f0f921\"]]}],\"heatmap\":[{\"type\":\"heatmap\",\"colorbar\":{\"outlinewidth\":0,\"ticks\":\"\"},\"colorscale\":[[0.0,\"#0d0887\"],[0.1111111111111111,\"#46039f\"],[0.2222222222222222,\"#7201a8\"],[0.3333333333333333,\"#9c179e\"],[0.4444444444444444,\"#bd3786\"],[0.5555555555555556,\"#d8576b\"],[0.6666666666666666,\"#ed7953\"],[0.7777777777777778,\"#fb9f3a\"],[0.8888888888888888,\"#fdca26\"],[1.0,\"#f0f921\"]]}],\"heatmapgl\":[{\"type\":\"heatmapgl\",\"colorbar\":{\"outlinewidth\":0,\"ticks\":\"\"},\"colorscale\":[[0.0,\"#0d0887\"],[0.1111111111111111,\"#46039f\"],[0.2222222222222222,\"#7201a8\"],[0.3333333333333333,\"#9c179e\"],[0.4444444444444444,\"#bd3786\"],[0.5555555555555556,\"#d8576b\"],[0.6666666666666666,\"#ed7953\"],[0.7777777777777778,\"#fb9f3a\"],[0.8888888888888888,\"#fdca26\"],[1.0,\"#f0f921\"]]}],\"contourcarpet\":[{\"type\":\"contourcarpet\",\"colorbar\":{\"outlinewidth\":0,\"ticks\":\"\"}}],\"contour\":[{\"type\":\"contour\",\"colorbar\":{\"outlinewidth\":0,\"ticks\":\"\"},\"colorscale\":[[0.0,\"#0d0887\"],[0.1111111111111111,\"#46039f\"],[0.2222222222222222,\"#7201a8\"],[0.3333333333333333,\"#9c179e\"],[0.4444444444444444,\"#bd3786\"],[0.5555555555555556,\"#d8576b\"],[0.6666666666666666,\"#ed7953\"],[0.7777777777777778,\"#fb9f3a\"],[0.8888888888888888,\"#fdca26\"],[1.0,\"#f0f921\"]]}],\"surface\":[{\"type\":\"surface\",\"colorbar\":{\"outlinewidth\":0,\"ticks\":\"\"},\"colorscale\":[[0.0,\"#0d0887\"],[0.1111111111111111,\"#46039f\"],[0.2222222222222222,\"#7201a8\"],[0.3333333333333333,\"#9c179e\"],[0.4444444444444444,\"#bd3786\"],[0.5555555555555556,\"#d8576b\"],[0.6666666666666666,\"#ed7953\"],[0.7777777777777778,\"#fb9f3a\"],[0.8888888888888888,\"#fdca26\"],[1.0,\"#f0f921\"]]}],\"mesh3d\":[{\"type\":\"mesh3d\",\"colorbar\":{\"outlinewidth\":0,\"ticks\":\"\"}}],\"scatter\":[{\"fillpattern\":{\"fillmode\":\"overlay\",\"size\":10,\"solidity\":0.2},\"type\":\"scatter\"}],\"parcoords\":[{\"type\":\"parcoords\",\"line\":{\"colorbar\":{\"outlinewidth\":0,\"ticks\":\"\"}}}],\"scatterpolargl\":[{\"type\":\"scatterpolargl\",\"marker\":{\"colorbar\":{\"outlinewidth\":0,\"ticks\":\"\"}}}],\"bar\":[{\"error_x\":{\"color\":\"#2a3f5f\"},\"error_y\":{\"color\":\"#2a3f5f\"},\"marker\":{\"line\":{\"color\":\"#E5ECF6\",\"width\":0.5},\"pattern\":{\"fillmode\":\"overlay\",\"size\":10,\"solidity\":0.2}},\"type\":\"bar\"}],\"scattergeo\":[{\"type\":\"scattergeo\",\"marker\":{\"colorbar\":{\"outlinewidth\":0,\"ticks\":\"\"}}}],\"scatterpolar\":[{\"type\":\"scatterpolar\",\"marker\":{\"colorbar\":{\"outlinewidth\":0,\"ticks\":\"\"}}}],\"histogram\":[{\"marker\":{\"pattern\":{\"fillmode\":\"overlay\",\"size\":10,\"solidity\":0.2}},\"type\":\"histogram\"}],\"scattergl\":[{\"type\":\"scattergl\",\"marker\":{\"colorbar\":{\"outlinewidth\":0,\"ticks\":\"\"}}}],\"scatter3d\":[{\"type\":\"scatter3d\",\"line\":{\"colorbar\":{\"outlinewidth\":0,\"ticks\":\"\"}},\"marker\":{\"colorbar\":{\"outlinewidth\":0,\"ticks\":\"\"}}}],\"scattermapbox\":[{\"type\":\"scattermapbox\",\"marker\":{\"colorbar\":{\"outlinewidth\":0,\"ticks\":\"\"}}}],\"scatterternary\":[{\"type\":\"scatterternary\",\"marker\":{\"colorbar\":{\"outlinewidth\":0,\"ticks\":\"\"}}}],\"scattercarpet\":[{\"type\":\"scattercarpet\",\"marker\":{\"colorbar\":{\"outlinewidth\":0,\"ticks\":\"\"}}}],\"carpet\":[{\"aaxis\":{\"endlinecolor\":\"#2a3f5f\",\"gridcolor\":\"white\",\"linecolor\":\"white\",\"minorgridcolor\":\"white\",\"startlinecolor\":\"#2a3f5f\"},\"baxis\":{\"endlinecolor\":\"#2a3f5f\",\"gridcolor\":\"white\",\"linecolor\":\"white\",\"minorgridcolor\":\"white\",\"startlinecolor\":\"#2a3f5f\"},\"type\":\"carpet\"}],\"table\":[{\"cells\":{\"fill\":{\"color\":\"#EBF0F8\"},\"line\":{\"color\":\"white\"}},\"header\":{\"fill\":{\"color\":\"#C8D4E3\"},\"line\":{\"color\":\"white\"}},\"type\":\"table\"}],\"barpolar\":[{\"marker\":{\"line\":{\"color\":\"#E5ECF6\",\"width\":0.5},\"pattern\":{\"fillmode\":\"overlay\",\"size\":10,\"solidity\":0.2}},\"type\":\"barpolar\"}],\"pie\":[{\"automargin\":true,\"type\":\"pie\"}]},\"layout\":{\"autotypenumbers\":\"strict\",\"colorway\":[\"#636efa\",\"#EF553B\",\"#00cc96\",\"#ab63fa\",\"#FFA15A\",\"#19d3f3\",\"#FF6692\",\"#B6E880\",\"#FF97FF\",\"#FECB52\"],\"font\":{\"color\":\"#2a3f5f\"},\"hovermode\":\"closest\",\"hoverlabel\":{\"align\":\"left\"},\"paper_bgcolor\":\"white\",\"plot_bgcolor\":\"#E5ECF6\",\"polar\":{\"bgcolor\":\"#E5ECF6\",\"angularaxis\":{\"gridcolor\":\"white\",\"linecolor\":\"white\",\"ticks\":\"\"},\"radialaxis\":{\"gridcolor\":\"white\",\"linecolor\":\"white\",\"ticks\":\"\"}},\"ternary\":{\"bgcolor\":\"#E5ECF6\",\"aaxis\":{\"gridcolor\":\"white\",\"linecolor\":\"white\",\"ticks\":\"\"},\"baxis\":{\"gridcolor\":\"white\",\"linecolor\":\"white\",\"ticks\":\"\"},\"caxis\":{\"gridcolor\":\"white\",\"linecolor\":\"white\",\"ticks\":\"\"}},\"coloraxis\":{\"colorbar\":{\"outlinewidth\":0,\"ticks\":\"\"}},\"colorscale\":{\"sequential\":[[0.0,\"#0d0887\"],[0.1111111111111111,\"#46039f\"],[0.2222222222222222,\"#7201a8\"],[0.3333333333333333,\"#9c179e\"],[0.4444444444444444,\"#bd3786\"],[0.5555555555555556,\"#d8576b\"],[0.6666666666666666,\"#ed7953\"],[0.7777777777777778,\"#fb9f3a\"],[0.8888888888888888,\"#fdca26\"],[1.0,\"#f0f921\"]],\"sequentialminus\":[[0.0,\"#0d0887\"],[0.1111111111111111,\"#46039f\"],[0.2222222222222222,\"#7201a8\"],[0.3333333333333333,\"#9c179e\"],[0.4444444444444444,\"#bd3786\"],[0.5555555555555556,\"#d8576b\"],[0.6666666666666666,\"#ed7953\"],[0.7777777777777778,\"#fb9f3a\"],[0.8888888888888888,\"#fdca26\"],[1.0,\"#f0f921\"]],\"diverging\":[[0,\"#8e0152\"],[0.1,\"#c51b7d\"],[0.2,\"#de77ae\"],[0.3,\"#f1b6da\"],[0.4,\"#fde0ef\"],[0.5,\"#f7f7f7\"],[0.6,\"#e6f5d0\"],[0.7,\"#b8e186\"],[0.8,\"#7fbc41\"],[0.9,\"#4d9221\"],[1,\"#276419\"]]},\"xaxis\":{\"gridcolor\":\"white\",\"linecolor\":\"white\",\"ticks\":\"\",\"title\":{\"standoff\":15},\"zerolinecolor\":\"white\",\"automargin\":true,\"zerolinewidth\":2},\"yaxis\":{\"gridcolor\":\"white\",\"linecolor\":\"white\",\"ticks\":\"\",\"title\":{\"standoff\":15},\"zerolinecolor\":\"white\",\"automargin\":true,\"zerolinewidth\":2},\"scene\":{\"xaxis\":{\"backgroundcolor\":\"#E5ECF6\",\"gridcolor\":\"white\",\"linecolor\":\"white\",\"showbackground\":true,\"ticks\":\"\",\"zerolinecolor\":\"white\",\"gridwidth\":2},\"yaxis\":{\"backgroundcolor\":\"#E5ECF6\",\"gridcolor\":\"white\",\"linecolor\":\"white\",\"showbackground\":true,\"ticks\":\"\",\"zerolinecolor\":\"white\",\"gridwidth\":2},\"zaxis\":{\"backgroundcolor\":\"#E5ECF6\",\"gridcolor\":\"white\",\"linecolor\":\"white\",\"showbackground\":true,\"ticks\":\"\",\"zerolinecolor\":\"white\",\"gridwidth\":2}},\"shapedefaults\":{\"line\":{\"color\":\"#2a3f5f\"}},\"annotationdefaults\":{\"arrowcolor\":\"#2a3f5f\",\"arrowhead\":0,\"arrowwidth\":1},\"geo\":{\"bgcolor\":\"white\",\"landcolor\":\"#E5ECF6\",\"subunitcolor\":\"white\",\"showland\":true,\"showlakes\":true,\"lakecolor\":\"white\"},\"title\":{\"x\":0.05},\"mapbox\":{\"style\":\"light\"}}},\"xaxis\":{\"anchor\":\"y\",\"domain\":[0.0,1.0],\"title\":{\"text\":\"kind\"},\"categoryorder\":\"array\",\"categoryarray\":[\"short\",\"long\"]},\"yaxis\":{\"anchor\":\"x\",\"domain\":[0.0,1.0],\"title\":{\"text\":\"duration\"}},\"legend\":{\"tracegroupgap\":0},\"title\":{\"text\":\"duration ~ kind\"},\"boxmode\":\"group\"},                        {\"responsive\": true}                    ).then(function(){\n",
       "                            \n",
       "var gd = document.getElementById('1c028681-3e09-47e6-818a-b50eeb647764');\n",
       "var x = new MutationObserver(function (mutations, observer) {{\n",
       "        var display = window.getComputedStyle(gd).display;\n",
       "        if (!display || display === 'none') {{\n",
       "            console.log([gd, 'removed!']);\n",
       "            Plotly.purge(gd);\n",
       "            observer.disconnect();\n",
       "        }}\n",
       "}});\n",
       "\n",
       "// Listen for the removal of the full notebook cells\n",
       "var notebookContainer = gd.closest('#notebook-container');\n",
       "if (notebookContainer) {{\n",
       "    x.observe(notebookContainer, {childList: true});\n",
       "}}\n",
       "\n",
       "// Listen for the clearing of the current output cell\n",
       "var outputEl = gd.closest('.output');\n",
       "if (outputEl) {{\n",
       "    x.observe(outputEl, {childList: true});\n",
       "}}\n",
       "\n",
       "                        })                };                });            </script>        </div>"
      ]
     },
     "metadata": {},
     "output_type": "display_data"
    }
   ],
   "source": [
    "from IPython.display import display\n",
    "\n",
    "display(smf.ols('duration ~ C(kind, Treatment(reference=\"short\"))', data=old_faithful).fit().summary().tables[1])\n",
    "\n",
    "fig = px.box(old_faithful, x='kind', y='duration', \n",
    "             title='duration ~ kind',\n",
    "             category_orders={'kind': ['short', 'long']})\n",
    "fig.show(renderer=\"png\") # USE `fig.show(renderer=\"png\")` FOR ALL GitHub and MarkUs SUBMISSIONS"
   ]
  },
  {
   "cell_type": "markdown",
   "id": "3fee975f",
   "metadata": {},
   "source": [
    "<details class=\"details-example\"><summary style=\"color:blue\"><u>Further Guidance</u></summary>\n",
    "\n",
    "> _Don't forget to ask for summaries of all your different ChatBot sessions and organize and paste these into your homework notebook (including link(s) to chat log histories if you're using ChatBot) But if you're using the STA130 custom NBLM ChatBot, you'll only be able to ask for summaries, of course!_  \n",
    "</details>"
   ]
  },
  {
   "cell_type": "markdown",
   "id": "0f288839",
   "metadata": {},
   "source": [
    "### 12. Identify which of the histograms suggests the plausibility of the assumption that the distribution of *error* terms is normal for each of the models, and explain why the other three do not support this assumption.\n",
    "\n",
    "> Hint: Question 5 of the *Communication Activity #2* of the Oct25 TUT (addressing an *omitted* section of the TUT) discusses how the assumption in *Simple Linear Regression* that the *error* terms $\\epsilon_i \\sim \\mathcal N\\left(0, \\sigma\\right)$ is diagnostically assessed by evaluating distributional shape of the *residuals* $\\text{e}_i = \\hat \\epsilon_i = Y_i - \\hat y_i$\n"
   ]
  },
  {
   "cell_type": "code",
   "execution_count": null,
   "id": "337e3a5f",
   "metadata": {
    "scrolled": false
   },
   "outputs": [],
   "source": [
    "from plotly.subplots import make_subplots\n",
    "import plotly.graph_objects as go\n",
    "from scipy import stats\n",
    "import numpy as np\n",
    "\n",
    "model_residuals = {\n",
    "    '<br>Model 1:<br>All Data using slope': smf.ols('duration ~ waiting', data=old_faithful).fit().resid,\n",
    "    '<br>Model 2:<br>Short Wait Data': smf.ols('duration ~ waiting', data=old_faithful[short_wait]).fit().resid,\n",
    "    '<br>Model 3:<br>Long Wait Data': smf.ols('duration ~ waiting', data=old_faithful[long_wait]).fit().resid,\n",
    "    '<br>Model 4:<br>All Data using indicator': smf.ols('duration ~ C(kind, Treatment(reference=\"short\"))', data=old_faithful).fit().resid\n",
    "}\n",
    "\n",
    "fig = make_subplots(rows=2, cols=2, subplot_titles=list(model_residuals.keys()))\n",
    "for i, (title, resid) in enumerate(model_residuals.items()):\n",
    "\n",
    "    if i == 1:  # Apply different bins only to the second histogram (index 1)\n",
    "        bin_size = dict(start=-1.9, end=1.9, size=0.2)\n",
    "    else:\n",
    "        bin_size = dict(start=-1.95, end=1.95, size=0.3)\n",
    "\n",
    "    fig.add_trace(go.Histogram(x=resid, name=title, xbins=bin_size, histnorm='probability density'), \n",
    "                  row=int(i/2)+1, col=(i%2)+1)\n",
    "    fig.update_xaxes(title_text=\"n=\"+str(len(resid)), row=int(i/2)+1, col=(i%2)+1)    \n",
    "    \n",
    "    normal_range = np.arange(-3*resid.std(),3*resid.std(),0.01)\n",
    "    fig.add_trace(go.Scatter(x=normal_range, mode='lines', opacity=0.5,\n",
    "                             y=stats.norm(loc=0, scale=resid.std()).pdf(normal_range),\n",
    "                             line=dict(color='black', dash='dot', width=2),\n",
    "                             name='Normal Distribution<br>(99.7% of its area)'), \n",
    "                  row=int(i/2)+1, col=(i%2)+1)\n",
    "    \n",
    "fig.update_layout(title_text='Histograms of Residuals from Different Models')\n",
    "fig.update_xaxes(range=[-2,2])\n",
    "fig.show() # USE `fig.show(renderer=\"png\")` FOR ALL GitHub and MarkUs SUBMISSIONS"
   ]
  },
  {
   "cell_type": "markdown",
   "id": "f7413283",
   "metadata": {},
   "source": [
    "### 13. The \"short\" and \"long\" wait times are not \"before and after\" measurements so there are not natural pairs on which to base differences on which to do a \"one sample\" (paired differences) *hypothesis test*; but, we can do \"two sample\" hypothesis testing using a *permuation test*, or create a 95% *bootstrap confidence interval* for the difference in means of the two populations. \n",
    "\n",
    "### (A) Do a permuation test $\\;H_0: \\mu_{\\text{short}}=\\mu_{\\text{long}} \\; \\text{ no difference in duration between short and long groups}$ by \"shuffling\" the labels\n",
    "### (B) Create a 95% bootstrap confidence interval  by repeatedly bootstrapping within each group and applying *np.quantile(bootstrapped_mean_differences, [0.025, 0.975])* to the collection of differences between the sample means.    \n",
    "### (a) Explain how the sampling approaches work for the two simulations.\n",
    "### (b) Compare and contrast these two methods with the *indicator variable* based model approach used in Question 10, explaining how they're similar and different.<br>\n",
    "    \n",
    "<details class=\"details-example\"><summary style=\"color:blue\"><u>Further Guidance</u></summary>\n",
    "\n",
    "> _You'll need to create `for` loops for repeated (shuffling simulation) **permutation** and (subgroup) **bootstrapping**, where_\n",
    ">\n",
    "> - _\"shuffling\" for **permutation testing** is done like this `old_faithful.assign(kind_shuffled=old_faithful['kind'].sample(n=len(old_faithful), replace=False).values)#.groupby('kind').size()`; then, the **mean difference statistic** is then calculated using `.groupby('kind_shuffled')['duration'].mean().iloc[::-1].diff().values[1]` (so the **observed statistic** is `old_faithful.groupby('kind')['duration'].mean().iloc[::-1].diff().values[1]`_\n",
    "> \n",
    ">\n",
    "> - _\"two sample\" **bootstrapping** is done like this `old_faithful.groupby('kind').apply(lambda x: x.sample(n=len(x), replace=True)).reset_index(drop=True)#.groupby('kind').size()`; then, the **bootstrapped mean difference statistic** is then calculated using `.groupby('kind')['duration'].mean().iloc[::-1].diff().values[1]` (like the **observed statistic** except this is applied to the **bootstrapped** resampling of `old_faithful`)_\n",
    "> ---\n",
    "> \n",
    "> _Don't forget to ask for summaries of all your different ChatBot sessions and organize and paste these into your homework notebook (including link(s) to chat log histories if you're using ChatBot) But if you're using the STA130 custom NBLM ChatBot, you'll only be able to ask for summaries, of course!_\n",
    "</details>"
   ]
  },
  {
   "cell_type": "markdown",
   "id": "06fe02c1",
   "metadata": {},
   "source": [
    "### 14. Have you reviewed the course wiki-textbook and interacted with a ChatBot (or, if that wasn't sufficient, real people in the course piazza discussion board or TA office hours) to help you understand all the material in the tutorial and lecture that you didn't quite follow when you first saw it?<br>\n",
    "\n",
    "<details class=\"details-example\"><summary style=\"color:blue\"><u>Further Guidance</u></summary>\n",
    "\n",
    ">  _Here is the link of [wiki-textbook](https://github.com/pointOfive/stat130chat130/wiki) in case it gets lost among all the information you need to keep track of_  : )\n",
    ">\n",
    "> _Just answering \"Yes\" or \"No\" or \"Somewhat\" or \"Mostly\" or whatever here is fine as this question isn't a part of the rubric; but, the midterm and final exams may ask questions that are based on the tutorial and lecture materials; and, your own skills will be limited by your familiarity with these materials (which will determine your ability to actually do actual things effectively with these skills... like the course project...)_\n",
    "</details>    "
   ]
  },
  {
   "cell_type": "markdown",
   "id": "bc0639e8",
   "metadata": {},
   "source": [
    "## Recommended Additional Useful Activities [Optional]\n",
    "\n",
    "The \"Ethical Profesionalism Considerations\" and \"Current Course Project Capability Level\" sections below **are not a part of the required homework assignment**; rather, they are regular weekly guides covering (a) relevant considerations regarding professional and ethical conduct, and (b) the analysis steps for the STA130 course project that are feasible at the current stage of the course \n",
    "\n",
    "<br>\n",
    "<details class=\"details-example\"><summary style=\"color:blue\"><u>Ethical Professionalism Considerations</u></summary>\n",
    "\n",
    "### Ethical Professionalism Considerations\n",
    "    \n",
    "The TUT and HW both addressed some of the assumptions used in **Simple Linear Regression**. The **p-values** provided by `statsmodels` via `smf.ols(...).fit()` depend on these assumptions, so if they are not (at least approximately) correct, the **p-values** (and any subsequent claims regarding the \"evidience against\" the **null hypothesis**) are not reliable. In light of this consideration, describe how you could diagnostically check the first three assumptions (given below) when using analyses based on **Simple Linear regression** model. From an Ethical and Professional perspective, do you think doing diagnostic checks on the assumptions of a **Simple Linear regression** model is something you can and should do whenever you're doing this kind of analysis? \n",
    "            \n",
    "> The first three assumptions associated with the **Simple Linear regression** model are that\n",
    "> \n",
    "> - the $\\epsilon_i$ **errors** (sometimes referred to as the **noise**) are **normally distributed**\n",
    "> - the $\\epsilon_i$ **errors** are **homoscedastic** (so their distributional variance $\\sigma^2$ does not change as a function of $x_i$)\n",
    "> - the linear form is [at least reasonably approximately] \"true\" (in the sense that the above two remain [at least reasonably approximately] \"true\") so that then behavior of the $Y_i$ **outcomes** are represented/determined on average by the **linear equation**)<br>\n",
    "> \n",
    ">    and there are additional assumptions; but, a deeper reflection on these is \"beyond the scope\" of STA130; nonetheless, they are that<br><br>\n",
    "> - the $x_i$ **predictor variable** is **measured without error**\n",
    "> - and the $\\epsilon_i$ **errors** are **statistically independent** (so their values do not depend on each other)\n",
    "> - and the $\\epsilon_i$ **errors** are **unbiased** relative to the **expected value** of **outcome** $E[Y_i|x_i]=\\beta_0 + \\beta_1x_i$ (which is equivalently stated by saying that the mean of the **error distribution** is $0$, or again equivalently, that the **expected value** of the **errors** $E[\\epsilon_i] = 0$)\n",
    "    \n",
    "</details>\n",
    "\n",
    "<details class=\"details-example\"><summary style=\"color:blue\"><u>Current Course Project Capability Level</u></summary>\n",
    "\n",
    "**Remember to abide by the [data use agreement](https://static1.squarespace.com/static/60283c2e174c122f8ebe0f39/t/6239c284d610f76fed5a2e69/1647952517436/Data+Use+Agreement+for+the+Canadian+Social+Connection+Survey.pdf) at all times.**\n",
    "\n",
    "Information about the course project is available on the course github repo [here](https://github.com/pointOfive/stat130chat130/tree/main/CP), including a draft [course project specfication](https://github.com/pointOfive/stat130chat130/blob/main/CP/STA130F23_course_project_specification.ipynb) (subject to change). \n",
    "- The Week 01 HW introduced [STA130F24_CourseProject.ipynb](https://github.com/pointOfive/stat130chat130/blob/main/CP/STA130F24_CourseProject.ipynb), and the [available variables](https://drive.google.com/file/d/1ISVymGn-WR1lcRs4psIym2N3or5onNBi/view). \n",
    "- Please do not download the [data](https://drive.google.com/file/d/1mbUQlMTrNYA7Ly5eImVRBn16Ehy9Lggo/view) accessible at the bottom of the [CSCS](https://casch.org/cscs) webpage (or the course github repo) multiple times.\n",
    "    \n",
    "> ### NEW DEVELOPMENT<br>New Abilities Achieved and New Levels Unlocked!!!    \n",
    "> **As noted, the Week 01 HW introduced the [STA130F24_CourseProject.ipynb](https://github.com/pointOfive/stat130chat130/blob/main/CP/STA130F24_CourseProject.ipynb) notebook.** _And there it instructed students to explore the notebook through the first 16 cells of the notebook._ The following cell in that notebook (there marked as \"run cell 17\") is preceded by an introductory section titled, \"**Now for some comparisons...**\", _**and all material from that point on provides an example to allow you to start applying what you're learning about Hypothesis Testing to the CSCS data**_ **using a paired samples (\"one sample\") framework.**\n",
    ">\n",
    "> **NOW, HOWEVER, YOU CAN DO MORE.** \n",
    "> - _**Now you can do \"two sample\" hypothesis testing without the need for paired samples.**_ All you need are two groups.\n",
    "> - _**And now you can do simple linear regression modeling.**_ All you need are two columns.\n",
    "\n",
    "### Current Course Project Capability Level\n",
    "\n",
    "At this point in the course you should be able to do a **Simple Linear Regression** analysis for data from the Canadian Social Connection Survey data\n",
    "    \n",
    "1. Create and test a **null hypothesis** of no linear association \"on average\" for a couple of columns of interest in the Canadian Social Connection Survey data using **Simple Linear Regression**\n",
    "\n",
    "2. Use the **residuals** of a fitted **Simple Linear Regression** model to diagnostically assess some of the assumptions of the analysis\n",
    "\n",
    "3. Use an **indicator variable** based **Simple Linear Regression** model to compare two groups from the Canadian Social Connection Survey data\n",
    "\n",
    "4. Compare and contrast the results of an **indicator variable** based **Simple Linear Regression** model to analyses based on a **permutation test** and a **bootstrapped confidence interval**   \n",
    "    \n",
    "</details>    "
   ]
  },
  {
   "cell_type": "code",
   "execution_count": null,
   "id": "4b4a0b4d",
   "metadata": {},
   "outputs": [],
   "source": []
  }
 ],
 "metadata": {
  "kernelspec": {
   "display_name": "Python 3 (ipykernel)",
   "language": "python",
   "name": "python3"
  },
  "language_info": {
   "codemirror_mode": {
    "name": "ipython",
    "version": 3
   },
   "file_extension": ".py",
   "mimetype": "text/x-python",
   "name": "python",
   "nbconvert_exporter": "python",
   "pygments_lexer": "ipython3",
   "version": "3.11.6"
  }
 },
 "nbformat": 4,
 "nbformat_minor": 5
}
