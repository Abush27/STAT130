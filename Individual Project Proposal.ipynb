{
 "cells": [
  {
   "cell_type": "markdown",
   "id": "f2a63b32",
   "metadata": {
    "slideshow": {
     "slide_type": "subslide"
    }
   },
   "source": [
    " # Individual Project Proposal "
   ]
  },
  {
   "cell_type": "markdown",
   "id": "a7fbe34b",
   "metadata": {},
   "source": [
    "### Research Question 1- Is loneliness a common problem amongst people who struggle with anxiety related isssues?"
   ]
  },
  {
   "cell_type": "markdown",
   "id": "2c0f6bbe",
   "metadata": {},
   "source": [
    "#### Explanation ####\n",
    "My population in this scenario would be people who I beleive fit in the bracket of 'struggling with anxiety issues'. I will be evaluating whether these people struggle with 'loneliness' as anxiety and loneliness have an interesting relationship given their connection to a person's social life. \n",
    "\n",
    "#### Variables ####\n",
    "\n",
    "The first step of this study would be extracting my samples of people 'struggling with anxiety', from the given dataset. The following questions are asked the survey to understand a person's anxiousness in public scenarios-\n",
    "1. I have difficulty making eye contact with others\n",
    "2. I find it difficult mixing comfortable with people I work with\n",
    "3. I tense up if I meeet an aquaintaince on the street\n",
    "4. I feel tense if I am alone with one person\n",
    "5. I have difficulty taking with other people\n",
    "6. I find it difficult to disagree with another's point of view. \n",
    "\n",
    "Labeling someone with having 'anxiety' is quite a subjective claim, but for the sake of this project, I will classify those who answer majority of these questions as yes, i.e atleast 4/6 questions to be part of my sample of a population of those strugglign with anxiety related issues. It is not a guarenteed method but I beleive if someone struggles with majority of the outlined statements there is a high chance they must have some form or relation to anxiety. Hence these variables will help me seperate my sample population from the larger dataset.\n",
    "\n",
    "Once I have my sample, the variable I will use to assess loneliness will be LONELY_direct. This variable asks the question, \"During the past week, have you felt lonely?\". This is quite a direct question and does not neccesarily understand the nature or intensity of loneliness a person feels, however it directly evaliates wether the given person has had feelings of loneliness very recently, helping me answer my question.\n",
    "\n",
    "#### Analysis / Hypothesis ####\n",
    "\n",
    "I will use hypothesis testing for this question and employ a one-tailed test. First I will filter the dataset to get rows with those with anxiety related issues using the method stated above. Then I will create a new column called 'lonely' and utilise LONELY_direct variable, if someone says 'YES' I the col value will be 1 and 0 if they say no. My null hypothesis is that most people with struggling with anxiety issues do infact struggle with loneliness, and if it were true the mean 'lonely' would have to be greater than 0.5. On the other hand my alternative hypothesis would then be most people with anxiety do no struggle with loneliness, or that the mean 'lonely' value is less than 0.5. I will also set my 𝛼 = 0.05 for this test.\n",
    "\n",
    "$$ H_0 : µ > 0.5 $$\n",
    "\n",
    "$$ H_A : µ <= 0.5 $$\n",
    "\n",
    "Then I would do bootsrapping, i.e creating samples with replacement, matching my original sample size, about a 1000 times. I would take the means of all these bootstrapped samples and display them on a normal distribution. Then I would create 95% confidence intervals around this distribution, and calculate the p value using the mean of the distribution. If my p value exceeded the pre-assigned 𝛼 value, I would fail to reject my null hypothesis. This would lead me to beleive with some confidence that there is infact an interesting relationship between anxiety and loneliness, and that perhaps loneliness is a common problem amongst those with anxiety related issues, answering the research question."
   ]
  },
  {
   "cell_type": "markdown",
   "id": "878cad1e",
   "metadata": {},
   "source": [
    "### Research Question 2- Does age directly correlate with overall satisfaction and wellness?"
   ]
  },
  {
   "cell_type": "markdown",
   "id": "6dfcb331",
   "metadata": {},
   "source": [
    "#### Explanation ####\n",
    "\n",
    "This question aims to observe if there is a direct quantative relationship between age and overall satisfaction in life. It aims to understand wether being younger/older actually dictates or has an impact on how satisfied you are with life. \n",
    "\n",
    "#### Variables ####\n",
    "\n",
    "Since this question is studying the relationship between 2 paramters I will have to select two distinct variables each corresponding with a paramter. For age I will simply use the Age variable in the study which directly denoates the age of the person taking the survey and represent it as x. For an estimation of a person's satisifaction with life, I will use the variable WELLNESS_life_satisfaction which contains numerical values in the range [1, 10], based on the question, \"On a scale of 1 to 10, How do you feel about your life as a whole right now?\". I feel like this variable gives a good summary or overall description of a person's 'satisfaction level' and the fact that it is a range of values as opposed to being binary, it is also more descriptive and allows us to make stronger inferences. This will be notated as Y.\n",
    "\n",
    "#### Analysis ####\n",
    "\n",
    "I will use a linear regression (x, Y) for this question, my x variable being a persons age and the Y being the WELLNESS_life_satisfaction score. I will plot all my points on an x,Y axis and using python generate a suitable trend line. First I will observe the type of correlation the trend line predicts, i.e a positive correlation (lower age suggests lower satisfaction score) or a negative correlation (lower age suggets higher satisfaction score) based on it's gradient. Then to actually understand the strength of this correlation I will compute the $ R^2 $ value. Using this value I will make an inference based on the following pre-decided metrics.\n",
    "\n",
    "$$ 0.7 < R^2 < 1 : \\text{Strong correlation} $$\n",
    "$$ 0.4 < R^2 < 0.7 :  \\text{Medium correlation} $$\n",
    "$$ 0.2 < R^2 < 0.4 :  \\text{Weak correlation} $$\n",
    "$$ R^2 < 0.2 :  \\text{No correlation}$$\n",
    "\n",
    "Based on where the $ R^2 $ value fits in the table above I can make an inference about the presentation correlation and conclude whether there really is a relationship between age and satisfaction in life. \n",
    "\n",
    "#### Hypothesis ####\n",
    "\n",
    "I beleive satisfaction can be extremely subjective and age has little to no effect with peoples perception of their 'satisfaction levels' rather it is something impacted by situational instances or conditions in life. It is true that age does impact you condition of life but I beleive there are several more factors that will decide what a persons scores their level. Hence I hypothesize that the correlation between age and satisifaction level is weak or moderate or that $ R^2 < 0.4 $.\n"
   ]
  },
  {
   "cell_type": "markdown",
   "id": "dd628275",
   "metadata": {},
   "source": [
    "### Research Question 3- Does having a high commute time lead to fewer daily physical interactions?"
   ]
  },
  {
   "cell_type": "markdown",
   "id": "f6838f6f",
   "metadata": {},
   "source": [
    "#### Explanation ####\n",
    "\n",
    "Several of my commuter friends in college often complain about how their lenghty journey often makes it difficult for them to attend social events or have much interaction on campus. I wonder if this is a more global/general issue and wish to understand if having a higher travel time really does lead to fewer daily in person interactions. The reason I am focusing this question on in person interactions is as online interactions  are common, and may not neccesarily be affected by a person's schedule as they can remotely interact with someone via call or text.\n",
    "\n",
    "#### Variables ####\n",
    "\n",
    "The variable GEO_commute_time, is a continous variable asking the question, \"How many minutes does it take for you to get from hoem to school/work?\", and directly represents a person's commuting time. For the variable assesing the no. of daily physical interactions, I will use a paired sample approach, lookign at the variables CONNECTION_activities_coffee_p3m asking \"In the past 3 months how many times have you met someone for meal, drink, dessert or coffee?\" and CONNECTION_activities_talked_day_p3m asking \"In the past 3 months how many times have you talked to someone about how your/their day was going?\". Though these don't neccasirily include all the possible physical interactions a person may have they cover a good range and I beleive can represent a person social activiness to some degree of accuracy. As I mentioned with the paired sample approach I will add up values from both columns and create a new col labeled, 'total physical interactions' which will act as the Y variable in my testing.\n",
    "\n",
    "#### Analysis ####\n",
    " \n",
    "Similair to the earlier research question, I will use linear regression(x,Y), where my x variable will be the commute time and the Y variable will be be newly computed total physical interactions. I will plot all my points on an x,Y axis and using python generate a suitable trend line. Then to actually understand the strength of this correlation I will compute the $ R^2 $ value. \n",
    "\n",
    "$$ 0.7 < R^2 < 1 : \\text{Strong correlation} $$\n",
    "$$ 0.4 < R^2 < 0.7 :  \\text{Medium correlation} $$\n",
    "$$ 0.2 < R^2 < 0.4 :  \\text{Weak correlation} $$\n",
    "$$ R^2 < 0.2 :  \\text{No correlation}$$\n",
    "\n",
    "Based on where the $ R^2 $ value fits in the table above I can make an inference about the presentation correlation and conclude whether there really is a relationship between commute time and interaction.\n",
    "\n",
    "#### Hypothesis ####\n",
    "I beleive there will be moderate-strong negative correlation, i.e a $ R^2 $ > 0.4 and the gradient of the trend line as a negative value. This suggests that high travel time time does have a moderate/strong relationship with no. of physical dialy interactions in the past 3 months.\n"
   ]
  }
 ],
 "metadata": {
  "kernelspec": {
   "display_name": "Python 3 (ipykernel)",
   "language": "python",
   "name": "python3"
  },
  "language_info": {
   "codemirror_mode": {
    "name": "ipython",
    "version": 3
   },
   "file_extension": ".py",
   "mimetype": "text/x-python",
   "name": "python",
   "nbconvert_exporter": "python",
   "pygments_lexer": "ipython3",
   "version": "3.11.6"
  }
 },
 "nbformat": 4,
 "nbformat_minor": 5
}
